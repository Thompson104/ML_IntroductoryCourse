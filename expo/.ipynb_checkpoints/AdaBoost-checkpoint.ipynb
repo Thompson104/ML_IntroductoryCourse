{
 "cells": [
  {
   "cell_type": "markdown",
   "metadata": {},
   "source": [
    "# AdaBoost\n",
    "\n",
    "usamos la distribucion debil para el entretamiento\n",
    "\n",
    "#### Error de la hipotesis debil\n",
    "\n",
    "$$\\epsilon _t=\\mathbf{Pr}_{i\\sim D_t}\\left [ h_t(x_i)\\neq y_i \\right ]$$"
   ]
  },
  {
   "cell_type": "code",
   "execution_count": 9,
   "metadata": {},
   "outputs": [
    {
     "name": "stdout",
     "output_type": "stream",
     "text": [
      "150 [[0.00666667]\n",
      " [0.00666667]\n",
      " [0.00666667]\n",
      " [0.00666667]\n",
      " [0.00666667]\n",
      " [0.00666667]\n",
      " [0.00666667]\n",
      " [0.00666667]\n",
      " [0.00666667]\n",
      " [0.00666667]]\n"
     ]
    }
   ],
   "source": [
    "#cargamos la bd iris desde el dataset de sklearn\n",
    "from sklearn import datasets\n",
    "import math\n",
    "import numpy as np\n",
    "\n",
    "iris = datasets.load_iris()\n",
    "\n",
    "#Esta es la base de datos Iris del UCI Machine Learning Repository \n",
    "#https://archive.ics.uci.edu/ml/datasets/iris\n",
    "\n",
    "X, Y = iris.data, iris.target\n",
    "\n",
    "# numero de hipotesisdebiles\n",
    "T = 10\n",
    "# Numero total de muestras\n",
    "M = X.shape[0]\n",
    "\n",
    "\n",
    "\n",
    "# Array de pesos inicial\n",
    "weights = np.ones((T,1)) * 1/M\n",
    "\n",
    "print(M, weights)"
   ]
  },
  {
   "cell_type": "code",
   "execution_count": null,
   "metadata": {},
   "outputs": [],
   "source": [
    "def weight_t(e_t):\n",
    "    return (0.5 * np.log((1 - e_t) / e_t))\n",
    "\n",
    "\n",
    "    "
   ]
  }
 ],
 "metadata": {
  "kernelspec": {
   "display_name": "Python 3",
   "language": "python",
   "name": "python3"
  },
  "language_info": {
   "codemirror_mode": {
    "name": "ipython",
    "version": 3
   },
   "file_extension": ".py",
   "mimetype": "text/x-python",
   "name": "python",
   "nbconvert_exporter": "python",
   "pygments_lexer": "ipython3",
   "version": "3.7.0a4"
  }
 },
 "nbformat": 4,
 "nbformat_minor": 2
}
