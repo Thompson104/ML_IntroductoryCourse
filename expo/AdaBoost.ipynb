{
 "cells": [
  {
   "cell_type": "markdown",
   "metadata": {},
   "source": [
    "# AdaBoost\n",
    "\n",
    "\n",
    "### Intuición\n",
    "\n",
    "AdaBost, es la contracción de \"*Adaptative Boosting*\".  El término boosting se conoce como el algoritmo que encuentra una hipótesis fuerte a partir de hipótesis simples y débiles. En este caso consiste en una combinación lineal de predictores débiles hasta llegar a un predictor fuerte.\n",
    "\n",
    "AdaBost, llega al mejor modelo $H_T$ através de la suma de clasificadores debiles $h_t$ conocidos como \"weark learner\" (modelos que son un poco mejor que las suposiciones aleatorias de árboles de decisión) en una serie de iteraciones de $1,... , T$. \n",
    "\n",
    "Las prediciones se combinan a través de un voto o una suma ponderada para producir la predición final.\n",
    "\n",
    "\n",
    "En cada iteración se realiza una modificación en las muestras, consiste en la aplicación de pesos $w_1, w_2,...., w_N$ a cada una de las muestras $i$ de entrenamiento. La distribuición de los pesos $D_t(i)$ en un principio es equitativa de la forma $w_i = 1/N$, pero en cada iteración los pesos de la muestras clasificadas incorrectamente se incrementa en el clasificador débil siguiente mientras que los ejemplos de entrenamiento pronosticados correctamente reduce su peso, esto permite que el $h_t$ se concentre en las muestras \"difíciles\" de predecir con una influencia cada vez mayor .\n",
    "\n",
    "\n",
    "### Entrenamiento\n",
    "\n",
    "AdaBost se refiere a un método partifcular de entrenamiento de \"boosting\", tiene la siguiente forma:\n",
    "\n",
    "$H_t (x) = \\sum_{t=1}^{T} h_t ({x})$\n",
    "\n",
    "donde cada clasificador débil \n",
    "\n",
    "Cada clasificador débil produce una hipotesis de salida $h (x_i) $ por cada muestra en el conjunto de entrenamiento. Así mismo en cada iteración $t$, el weak learner selecciona y asigna un coeficiente $w$ tal que la suma de error de entreamiento $E_t$ resultante en la etapa $t$ del clasificador boost es minizado.\n",
    "\n",
    "$E$\n",
    "\n",
    "\n",
    "### Algoritmo\n",
    "\n",
    "\n",
    "* Dado: $(x_1, y_1) , ... , (x_N, y_N)$ donde $x_i \\in X$, $y_i \\in Y = {1,2}$\n",
    "\n",
    "\n",
    "* Se inicializa los pesos $w_i$ de la forma $D_1(i) = 1/N$\n",
    "\n",
    "\n",
    "* En cada iteración  $t = 1, ..., T:$\n",
    "\n",
    "** holi\n",
    "\n",
    "\n",
    "\n",
    "Es un popular algoritmo introducido en el año 1995 por Freund y Schapire\n",
    "\n",
    "Usamos la distribucion débil para el entretamiento\n",
    "\n",
    "#### Error de la hipotesis débil\n",
    "\n",
    "$$\\epsilon _t=\\mathbf{Pr}_{i\\sim D_t}\\left [ h_t(x_i)\\neq y_i \\right ]$$"
   ]
  },
  {
   "cell_type": "code",
   "execution_count": 22,
   "metadata": {},
   "outputs": [],
   "source": [
    "#cargamos la bd iris desde el dataset de sklearn\n",
    "from sklearn import datasets\n",
    "import math\n",
    "import numpy as np\n",
    "\n",
    "iris = datasets.load_iris()\n",
    "\n",
    "#Esta es la base de datos Iris del UCI Machine Learning Repository \n",
    "#https://archive.ics.uci.edu/ml/datasets/iris\n",
    "\n",
    "X, Y = iris.data, iris.target\n",
    "\n",
    "# numero de hipotesisdebiles\n",
    "T = 10\n",
    "# Numero total de muestras\n",
    "M = X.shape[0]\n",
    "\n",
    "\n",
    "\n",
    "# Array de pesos inicial\n",
    "weights = np.ones((T,1)) * 1/M\n",
    "\n"
   ]
  },
  {
   "cell_type": "code",
   "execution_count": 23,
   "metadata": {},
   "outputs": [],
   "source": [
    "def weight_t(e_t):\n",
    "    return (0.5 * np.log((1 - e_t) / e_t))\n",
    "\n",
    "\n",
    "    "
   ]
  },
  {
   "cell_type": "code",
   "execution_count": 24,
   "metadata": {},
   "outputs": [],
   "source": [
    "# Load libraries\n",
    "import numpy as np\n",
    "import matplotlib.pyplot as plt\n",
    "from pylab import *\n",
    "from sklearn.ensemble import AdaBoostClassifier\n",
    "from sklearn import datasets\n",
    "from matplotlib.colors import ListedColormap\n",
    "import matplotlib.pyplot as plt\n",
    "cmap_light = ListedColormap(['#AAAAFF','#AAFFAA','#FFAAAA'])"
   ]
  },
  {
   "cell_type": "code",
   "execution_count": 26,
   "metadata": {},
   "outputs": [
    {
     "data": {
      "image/png": "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\n",
      "text/plain": [
       "<Figure size 432x288 with 1 Axes>"
      ]
     },
     "metadata": {},
     "output_type": "display_data"
    }
   ],
   "source": [
    "# cargamos el dataset\n",
    "\n",
    "iris = datasets.load_iris()\n",
    "X = iris.data\n",
    "y = iris.target\n",
    "\n",
    "# Create adaboost-decision tree classifer object\n",
    "clf = AdaBoostClassifier(n_estimators=50,\n",
    "                         learning_rate=1,\n",
    "                         random_state=0)\n",
    "\n",
    "# Train model\n",
    "model = clf.fit(iris.data[:,1:3], y)\n",
    "\n",
    "x_min, x_max = X[:, 1].min() - .1, X[:, 1].max() + .1\n",
    "y_min, y_max = X[:, 2].min() - .1, X[:, 2].max() + .1\n",
    "xx, yy = np.meshgrid(np.linspace(x_min, x_max, 100),\n",
    "                         np.linspace(y_min, y_max, 100))\n",
    "Z = np.zeros((100,100))\n",
    "\n",
    "#Evaluando las fdp's en una malla de valores\n",
    "for i in range(100):\n",
    "    for j in range(100):\n",
    "        #print([xx[1,i],yy[j,1]])\n",
    "        Z[i,j]=clf.predict(np.array([xx[1,i],yy[j,1]]).reshape(1,2))\n",
    "plt.figure()\n",
    "plt.title(u'Clasificación Adaptative Boosting', fontsize=14)\n",
    "plt.xlabel(u'Característica 1')\n",
    "plt.ylabel(u'Característica 2')\n",
    "plt.pcolormesh(xx, yy, Z.T, cmap=cmap_light)\n",
    "plt.scatter(X[:,1], X[:,2], c=y);"
   ]
  },
  {
   "cell_type": "code",
   "execution_count": null,
   "metadata": {},
   "outputs": [],
   "source": []
  }
 ],
 "metadata": {
  "kernelspec": {
   "display_name": "Python 3",
   "language": "python",
   "name": "python3"
  },
  "language_info": {
   "codemirror_mode": {
    "name": "ipython",
    "version": 3
   },
   "file_extension": ".py",
   "mimetype": "text/x-python",
   "name": "python",
   "nbconvert_exporter": "python",
   "pygments_lexer": "ipython3",
<<<<<<< HEAD
   "version": "3.6.6"
=======
   "version": "3.5.2"
>>>>>>> expo-deiry
  }
 },
 "nbformat": 4,
 "nbformat_minor": 2
}
