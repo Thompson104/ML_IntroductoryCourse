Unbalaced data sets
Formerly:
. Discrete set of rules chosen using Bayesian logic


Problema de submuestreo es: Se encuentra modelos ok and great, pero se pierde una gran cantidad de información y se termina con un modelo que no generaliza bien

Otra técnica es SMOTE, crear ejemplos sintenico 
