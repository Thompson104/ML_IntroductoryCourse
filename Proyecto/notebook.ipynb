{
 "cells": [
  {
   "cell_type": "code",
   "execution_count": 2,
   "metadata": {},
   "outputs": [],
   "source": [
    "#Importación de librerías\n",
    "import pandas as pd\n",
    "import matplotlib.pyplot as plt\n",
    "import seaborn as sns\n",
    "from sklearn.model_selection import StratifiedKFold"
   ]
  },
  {
   "cell_type": "markdown",
   "metadata": {},
   "source": [
    "## Análisis exploratorio de datos "
   ]
  },
  {
   "cell_type": "code",
   "execution_count": 3,
   "metadata": {},
   "outputs": [
    {
     "name": "stdout",
     "output_type": "stream",
     "text": [
      "Dimesión data set (45211, 17)\n",
      "Muestras de exito  (5289, 17) Muestras de no éxito (39922, 17)\n"
     ]
    }
   ],
   "source": [
    "df_bank = pd.read_csv('bank-full.csv', delimiter=';')\n",
    "print(\"Dimesión data set\",df_bank.shape)\n",
    "df_bank.head(5)\n",
    "df_bank.isna().sum()\n",
    "#print(\"Tipos datos\", df_bank.dtypes)\n",
    "df_bank[df_bank['poutcome'] != 'unknown']\n",
    "df_success = df_bank[df_bank['y'] == 'yes']\n",
    "df_no_success = df_bank[df_bank['y'] == 'no']\n",
    "\n",
    "print(\"Muestras de exito \",df_success.shape, \"Muestras de no éxito\",df_no_success.shape)"
   ]
  },
  {
   "cell_type": "code",
   "execution_count": 11,
   "metadata": {},
   "outputs": [
    {
     "name": "stdout",
     "output_type": "stream",
     "text": [
      "<class 'pandas.core.series.Series'>\n",
      "<class 'numpy.ndarray'> (45211, 1)\n"
     ]
    }
   ],
   "source": [
    "Y = df_bank[\"y\"]\n",
    "Y = Y.replace(\"no\", 0)\n",
    "Y = Y.replace(\"yes\", 1)\n",
    "print(type(Y))\n",
    "#Pasar a tipo numpy array\n",
    "Y = Y.values\n",
    "Y = Y.reshape(-1,1)\n",
    "print(type(Y), Y.shape)\n",
    "X = df_bank.drop('y', axis=1).values\n"
   ]
  },
  {
   "cell_type": "markdown",
   "metadata": {},
   "source": [
    "## Entrenamiento"
   ]
  },
  {
   "cell_type": "code",
   "execution_count": 10,
   "metadata": {},
   "outputs": [],
   "source": [
    "def trainModel():\n",
    "    random.seed(19680801)\n",
    "    EficienciaTrain = np.zeros(Folds)\n",
    "    EficienciaVal = np.zeros(Folds)\n",
    "    skf = StratifiedKFold(n_splits=Folds)\n",
    "    j = 0\n",
    "    \n",
    "    for train, test in skf.split(X, Y):\n",
    "        Xtrain = X[train,:]\n",
    "        Ytrain = Y[train]\n",
    "        Xtest = X[test,:]\n",
    "        Ytest = Y[test]\n",
    "\n",
    "        #Normalizamos los datos\n",
    "        media = np.mean(Xtrain)\n",
    "        desvia = np.std(Xtrain)\n",
    "        Xtrain = sc.stats.stats.zscore(Xtrain)\n",
    "        Xtest = (Xtest - np.matlib.repmat(media, Xtest.shape[0], 1))/np.matlib.repmat(desvia, Xtest.shape[0], 1)"
   ]
  },
  {
   "cell_type": "code",
   "execution_count": 63,
   "metadata": {},
   "outputs": [
    {
     "data": {
      "text/plain": [
       "count           4521\n",
       "unique            12\n",
       "top       management\n",
       "freq             969\n",
       "Name: job, dtype: object"
      ]
     },
     "execution_count": 63,
     "metadata": {},
     "output_type": "execute_result"
    }
   ],
   "source": [
    "df_bank['job'].describe()"
   ]
  },
  {
   "cell_type": "code",
   "execution_count": 73,
   "metadata": {},
   "outputs": [
    {
     "data": {
      "text/plain": [
       "(36954, 17)"
      ]
     },
     "execution_count": 73,
     "metadata": {},
     "output_type": "execute_result"
    }
   ],
   "source": [
    "df_bank[df_bank['pdays'] == -1].shape"
   ]
  },
  {
   "cell_type": "code",
   "execution_count": null,
   "metadata": {},
   "outputs": [],
   "source": [
    "out = df_bank[\"y\"]\n",
    "out = out.replace(\"no\", 0)\n",
    "out = out.replace(\"yes\", 1)\n",
    "x = df_bank[\"education\"]\n",
    "y = df_bank[\"job\"]\n",
    "\n",
    "#_ = sns.swarmplot(x='duration', y='age', data=df_bank)\n",
    "#plt.hist(y)\n",
    "# Label the axes\n",
    "plt.title('Age vs housing', fontsize=14)\n",
    "plt.xlabel('Edad')\n",
    "plt.ylabel('duration')\n",
    "plt.scatter(x,y,c=out,cmap=\"Accent\")\n",
    "plt.show()"
   ]
  },
  {
   "cell_type": "code",
   "execution_count": null,
   "metadata": {},
   "outputs": [],
   "source": [
    "sns.set(style=\"whitegrid\")\n",
    "ax = sns.swarmplot(x=\"housing\", y=\"age\", data=df_bank)"
   ]
  },
  {
   "cell_type": "code",
   "execution_count": 34,
   "metadata": {},
   "outputs": [
    {
     "data": {
      "text/plain": [
       "age          0\n",
       "job          0\n",
       "marital      0\n",
       "education    0\n",
       "default      0\n",
       "balance      0\n",
       "housing      0\n",
       "loan         0\n",
       "contact      0\n",
       "day          0\n",
       "month        0\n",
       "duration     0\n",
       "campaign     0\n",
       "pdays        0\n",
       "previous     0\n",
       "poutcome     0\n",
       "y            0\n",
       "dtype: int64"
      ]
     },
     "execution_count": 34,
     "metadata": {},
     "output_type": "execute_result"
    }
   ],
   "source": []
  }
 ],
 "metadata": {
  "kernelspec": {
   "display_name": "Python 3",
   "language": "python",
   "name": "python3"
  },
  "language_info": {
   "codemirror_mode": {
    "name": "ipython",
    "version": 3
   },
   "file_extension": ".py",
   "mimetype": "text/x-python",
   "name": "python",
   "nbconvert_exporter": "python",
   "pygments_lexer": "ipython3",
   "version": "3.6.6"
  }
 },
 "nbformat": 4,
 "nbformat_minor": 2
}
