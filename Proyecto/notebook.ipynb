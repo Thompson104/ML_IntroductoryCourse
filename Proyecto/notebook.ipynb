{
 "cells": [
  {
   "cell_type": "code",
   "execution_count": 79,
   "metadata": {},
   "outputs": [],
   "source": [
    "#Importación de librerías\n",
    "import pandas as pd\n",
    "import matplotlib.pyplot as plt\n",
    "import seaborn as sns\n",
    "import numpy as np\n",
    "from sklearn.model_selection import StratifiedKFold\n",
    "from imblearn.over_sampling import SMOTE\n",
    "from sklearn.model_selection import train_test_split\n",
    "from sklearn.preprocessing import Imputer\n",
    "from sklearn.neighbors import KNeighborsClassifier\n",
    "from sklearn.naive_bayes import GaussianNB\n",
    "from sklearn.model_selection import GridSearchCV\n",
    "from sklearn.metrics import confusion_matrix\n",
    "from sklearn.metrics import make_scorer\n",
    "from sklearn.metrics import classification_report\n",
    "from sklearn import preprocessing\n",
    "from numpy import random\n",
    "import scipy as sc\n",
    "\n",
    "from sklearn.exceptions import DataConversionWarning\n",
    "import warnings\n",
    "warnings.filterwarnings(\"always\")\n",
    "\n",
    "from sklearn.metrics import recall_score, precision_score, accuracy_score, f1_score\n",
    "from sklearn.metrics import confusion_matrix,auc,roc_auc_score\n",
    "# import redes neuronales artificiales\n",
    "from sklearn.neural_network import MLPClassifier\n",
    "# import random forest\n",
    "from sklearn.ensemble import RandomForestClassifier\n",
    "# import maquinas de soporte vectorial\n",
    "from sklearn.svm import SVC"
   ]
  },
  {
   "cell_type": "markdown",
   "metadata": {},
   "source": [
    "## Análisis exploratorio de datos "
   ]
  },
  {
   "cell_type": "code",
   "execution_count": 80,
   "metadata": {},
   "outputs": [
    {
     "name": "stdout",
     "output_type": "stream",
     "text": [
      "Dimensión data set (45211, 17)\n"
     ]
    },
    {
     "data": {
      "text/html": [
       "<div>\n",
       "<style scoped>\n",
       "    .dataframe tbody tr th:only-of-type {\n",
       "        vertical-align: middle;\n",
       "    }\n",
       "\n",
       "    .dataframe tbody tr th {\n",
       "        vertical-align: top;\n",
       "    }\n",
       "\n",
       "    .dataframe thead th {\n",
       "        text-align: right;\n",
       "    }\n",
       "</style>\n",
       "<table border=\"1\" class=\"dataframe\">\n",
       "  <thead>\n",
       "    <tr style=\"text-align: right;\">\n",
       "      <th></th>\n",
       "      <th>age</th>\n",
       "      <th>job</th>\n",
       "      <th>marital</th>\n",
       "      <th>education</th>\n",
       "      <th>credit</th>\n",
       "      <th>balance</th>\n",
       "      <th>housing</th>\n",
       "      <th>loan</th>\n",
       "      <th>contact</th>\n",
       "      <th>day</th>\n",
       "      <th>month</th>\n",
       "      <th>duration</th>\n",
       "      <th>campaign</th>\n",
       "      <th>pdays</th>\n",
       "      <th>previous</th>\n",
       "      <th>poutcome</th>\n",
       "      <th>y</th>\n",
       "    </tr>\n",
       "  </thead>\n",
       "  <tbody>\n",
       "    <tr>\n",
       "      <th>0</th>\n",
       "      <td>58</td>\n",
       "      <td>management</td>\n",
       "      <td>married</td>\n",
       "      <td>tertiary</td>\n",
       "      <td>no</td>\n",
       "      <td>2143</td>\n",
       "      <td>yes</td>\n",
       "      <td>no</td>\n",
       "      <td>unknown</td>\n",
       "      <td>5</td>\n",
       "      <td>may</td>\n",
       "      <td>261</td>\n",
       "      <td>1</td>\n",
       "      <td>-1</td>\n",
       "      <td>0</td>\n",
       "      <td>unknown</td>\n",
       "      <td>no</td>\n",
       "    </tr>\n",
       "    <tr>\n",
       "      <th>1</th>\n",
       "      <td>44</td>\n",
       "      <td>technician</td>\n",
       "      <td>single</td>\n",
       "      <td>secondary</td>\n",
       "      <td>no</td>\n",
       "      <td>29</td>\n",
       "      <td>yes</td>\n",
       "      <td>no</td>\n",
       "      <td>unknown</td>\n",
       "      <td>5</td>\n",
       "      <td>may</td>\n",
       "      <td>151</td>\n",
       "      <td>1</td>\n",
       "      <td>-1</td>\n",
       "      <td>0</td>\n",
       "      <td>unknown</td>\n",
       "      <td>no</td>\n",
       "    </tr>\n",
       "    <tr>\n",
       "      <th>2</th>\n",
       "      <td>33</td>\n",
       "      <td>entrepreneur</td>\n",
       "      <td>married</td>\n",
       "      <td>secondary</td>\n",
       "      <td>no</td>\n",
       "      <td>2</td>\n",
       "      <td>yes</td>\n",
       "      <td>yes</td>\n",
       "      <td>unknown</td>\n",
       "      <td>5</td>\n",
       "      <td>may</td>\n",
       "      <td>76</td>\n",
       "      <td>1</td>\n",
       "      <td>-1</td>\n",
       "      <td>0</td>\n",
       "      <td>unknown</td>\n",
       "      <td>no</td>\n",
       "    </tr>\n",
       "    <tr>\n",
       "      <th>3</th>\n",
       "      <td>47</td>\n",
       "      <td>blue-collar</td>\n",
       "      <td>married</td>\n",
       "      <td>unknown</td>\n",
       "      <td>no</td>\n",
       "      <td>1506</td>\n",
       "      <td>yes</td>\n",
       "      <td>no</td>\n",
       "      <td>unknown</td>\n",
       "      <td>5</td>\n",
       "      <td>may</td>\n",
       "      <td>92</td>\n",
       "      <td>1</td>\n",
       "      <td>-1</td>\n",
       "      <td>0</td>\n",
       "      <td>unknown</td>\n",
       "      <td>no</td>\n",
       "    </tr>\n",
       "    <tr>\n",
       "      <th>4</th>\n",
       "      <td>33</td>\n",
       "      <td>unknown</td>\n",
       "      <td>single</td>\n",
       "      <td>unknown</td>\n",
       "      <td>no</td>\n",
       "      <td>1</td>\n",
       "      <td>no</td>\n",
       "      <td>no</td>\n",
       "      <td>unknown</td>\n",
       "      <td>5</td>\n",
       "      <td>may</td>\n",
       "      <td>198</td>\n",
       "      <td>1</td>\n",
       "      <td>-1</td>\n",
       "      <td>0</td>\n",
       "      <td>unknown</td>\n",
       "      <td>no</td>\n",
       "    </tr>\n",
       "  </tbody>\n",
       "</table>\n",
       "</div>"
      ],
      "text/plain": [
       "   age           job  marital  education credit  balance housing loan  \\\n",
       "0   58    management  married   tertiary     no     2143     yes   no   \n",
       "1   44    technician   single  secondary     no       29     yes   no   \n",
       "2   33  entrepreneur  married  secondary     no        2     yes  yes   \n",
       "3   47   blue-collar  married    unknown     no     1506     yes   no   \n",
       "4   33       unknown   single    unknown     no        1      no   no   \n",
       "\n",
       "   contact  day month  duration  campaign  pdays  previous poutcome   y  \n",
       "0  unknown    5   may       261         1     -1         0  unknown  no  \n",
       "1  unknown    5   may       151         1     -1         0  unknown  no  \n",
       "2  unknown    5   may        76         1     -1         0  unknown  no  \n",
       "3  unknown    5   may        92         1     -1         0  unknown  no  \n",
       "4  unknown    5   may       198         1     -1         0  unknown  no  "
      ]
     },
     "execution_count": 80,
     "metadata": {},
     "output_type": "execute_result"
    }
   ],
   "source": [
    "head_names = ['age', 'job', 'marital', 'education', 'credit', 'balance', 'housing',\n",
    "       'loan', 'contact', 'day', 'month', 'duration', 'campaign', 'pdays',\n",
    "       'previous', 'poutcome', 'y']\n",
    "df_bank = pd.read_csv('bank-full.csv', delimiter=';', header=None,names=head_names,skiprows=1)\n",
    "#df_bank = pd.read_csv('bank.csv', delimiter=';', header=None,names=head_names,skiprows=1)\n",
    "print(\"Dimensión data set\",df_bank.shape)\n",
    "df_bank.head()"
   ]
  },
  {
   "cell_type": "code",
   "execution_count": 81,
   "metadata": {},
   "outputs": [],
   "source": [
    "y = df_bank[\"y\"]\n",
    "y = y.replace(\"no\", 0)\n",
    "y = y.replace(\"yes\", 1)\n",
    "X = df_bank.drop('y', axis=1)\n"
   ]
  },
  {
   "cell_type": "markdown",
   "metadata": {},
   "source": [
    "## Carácteristicas categóricas\n",
    "\n",
    "En este caso se debe preprocesar aquellas carácteristicas categorical que el modelo no puede entender y convertirlas a variables númericas, a esto se le conoce como *\"One Hot Encode\"*. Se resuelve con la librería de sklearn o con pandas creando las variables ficticias conocidas **\"Dummy variables\"**.\n",
    "\n",
    "Se debe tener en cuenta que podemos eliminar uno variable \"dummy\" porque si el resto de variables no son debe ser esa, esto quitará redundancia.\n",
    "\n",
    "Este caso corresponde a las carácteristicas job,education,contact,month y las variables binarias como default, housing,loan, contact y  y."
   ]
  },
  {
   "cell_type": "code",
   "execution_count": 82,
   "metadata": {},
   "outputs": [
    {
     "data": {
      "text/plain": [
       "age           int64\n",
       "job          object\n",
       "marital      object\n",
       "education    object\n",
       "credit       object\n",
       "balance       int64\n",
       "housing      object\n",
       "loan         object\n",
       "contact      object\n",
       "day           int64\n",
       "month        object\n",
       "duration      int64\n",
       "campaign      int64\n",
       "pdays         int64\n",
       "previous      int64\n",
       "poutcome     object\n",
       "y            object\n",
       "dtype: object"
      ]
     },
     "execution_count": 82,
     "metadata": {},
     "output_type": "execute_result"
    }
   ],
   "source": [
    "df_bank.dtypes"
   ]
  },
  {
   "cell_type": "markdown",
   "metadata": {},
   "source": [
    "Se selecciona las variables tipo 'object', en este caso corresponde a variables categoricas. Esto nos permite separar dichas variables para su tratamiento con el \"One Hot Encoding\" segmentada. \n",
    "\n",
    "En la siguiente celda se observa que la variable mes puede ser reemplazado por un valor númerico directamente y así mismo con las variables binarias, a esto se le conoce como \"Integer encoding\""
   ]
  },
  {
   "cell_type": "code",
   "execution_count": 83,
   "metadata": {},
   "outputs": [
    {
     "name": "stdout",
     "output_type": "stream",
     "text": [
      "unknown           288\n",
      "student           938\n",
      "housemaid        1240\n",
      "unemployed       1303\n",
      "entrepreneur     1487\n",
      "self-employed    1579\n",
      "retired          2264\n",
      "services         4154\n",
      "admin.           5171\n",
      "technician       7597\n",
      "management       9458\n",
      "blue-collar      9732\n",
      "Name: job, dtype: int64\n",
      "divorced     5207\n",
      "single      12790\n",
      "married     27214\n",
      "Name: marital, dtype: int64\n",
      "unknown       1857\n",
      "primary       6851\n",
      "tertiary     13301\n",
      "secondary    23202\n",
      "Name: education, dtype: int64\n",
      "yes      815\n",
      "no     44396\n",
      "Name: credit, dtype: int64\n",
      "no     20081\n",
      "yes    25130\n",
      "Name: housing, dtype: int64\n",
      "yes     7244\n",
      "no     37967\n",
      "Name: loan, dtype: int64\n",
      "telephone     2906\n",
      "unknown      13020\n",
      "cellular     29285\n",
      "Name: contact, dtype: int64\n",
      "dec      214\n",
      "mar      477\n",
      "sep      579\n",
      "oct      738\n",
      "jan     1403\n",
      "feb     2649\n",
      "apr     2932\n",
      "nov     3970\n",
      "jun     5341\n",
      "aug     6247\n",
      "jul     6895\n",
      "may    13766\n",
      "Name: month, dtype: int64\n",
      "success     1511\n",
      "other       1840\n",
      "failure     4901\n",
      "unknown    36959\n",
      "Name: poutcome, dtype: int64\n",
      "yes     5289\n",
      "no     39922\n",
      "Name: y, dtype: int64\n"
     ]
    }
   ],
   "source": [
    "obj_df = df_bank.select_dtypes(include=['object']).copy()\n",
    "obj_df.columns\n",
    "\n",
    "for column in obj_df.columns:\n",
    "    print(obj_df[column].value_counts(ascending=True))"
   ]
  },
  {
   "cell_type": "code",
   "execution_count": 84,
   "metadata": {},
   "outputs": [],
   "source": [
    "# Reemplazar el mes y variables binarias por un valor numerico\n",
    "cat_var = {'month':{'jan':1,'feb':2,'mar':3,'apr':4,'may':5,'jun':6,'jul':7,'aug':8,'sep':9,'oct':10,'nov':11,'dec':12},\n",
    "          'housing': {'yes':1,'no':0},\n",
    "          'credit':{'yes':1,'no':0},\n",
    "          'loan' : {'yes':1,'no':0},\n",
    "          'y':{'yes':1,'no':0}\n",
    "         }\n",
    "obj_df.replace(cat_var, inplace=True)\n",
    "\n",
    "#for i in range(df_bank.shape[0]):\n",
    "#    df_bank.at[i, 'month'] = months[df_bank.at[i, 'month']]"
   ]
  },
  {
   "cell_type": "code",
   "execution_count": 85,
   "metadata": {},
   "outputs": [
    {
     "data": {
      "text/html": [
       "<div>\n",
       "<style scoped>\n",
       "    .dataframe tbody tr th:only-of-type {\n",
       "        vertical-align: middle;\n",
       "    }\n",
       "\n",
       "    .dataframe tbody tr th {\n",
       "        vertical-align: top;\n",
       "    }\n",
       "\n",
       "    .dataframe thead th {\n",
       "        text-align: right;\n",
       "    }\n",
       "</style>\n",
       "<table border=\"1\" class=\"dataframe\">\n",
       "  <thead>\n",
       "    <tr style=\"text-align: right;\">\n",
       "      <th></th>\n",
       "      <th>job</th>\n",
       "      <th>marital</th>\n",
       "      <th>education</th>\n",
       "      <th>credit</th>\n",
       "      <th>housing</th>\n",
       "      <th>loan</th>\n",
       "      <th>contact</th>\n",
       "      <th>month</th>\n",
       "      <th>poutcome</th>\n",
       "      <th>y</th>\n",
       "    </tr>\n",
       "  </thead>\n",
       "  <tbody>\n",
       "    <tr>\n",
       "      <th>0</th>\n",
       "      <td>management</td>\n",
       "      <td>married</td>\n",
       "      <td>tertiary</td>\n",
       "      <td>0</td>\n",
       "      <td>1</td>\n",
       "      <td>0</td>\n",
       "      <td>unknown</td>\n",
       "      <td>5</td>\n",
       "      <td>unknown</td>\n",
       "      <td>0</td>\n",
       "    </tr>\n",
       "    <tr>\n",
       "      <th>1</th>\n",
       "      <td>technician</td>\n",
       "      <td>single</td>\n",
       "      <td>secondary</td>\n",
       "      <td>0</td>\n",
       "      <td>1</td>\n",
       "      <td>0</td>\n",
       "      <td>unknown</td>\n",
       "      <td>5</td>\n",
       "      <td>unknown</td>\n",
       "      <td>0</td>\n",
       "    </tr>\n",
       "    <tr>\n",
       "      <th>2</th>\n",
       "      <td>entrepreneur</td>\n",
       "      <td>married</td>\n",
       "      <td>secondary</td>\n",
       "      <td>0</td>\n",
       "      <td>1</td>\n",
       "      <td>1</td>\n",
       "      <td>unknown</td>\n",
       "      <td>5</td>\n",
       "      <td>unknown</td>\n",
       "      <td>0</td>\n",
       "    </tr>\n",
       "    <tr>\n",
       "      <th>3</th>\n",
       "      <td>blue-collar</td>\n",
       "      <td>married</td>\n",
       "      <td>unknown</td>\n",
       "      <td>0</td>\n",
       "      <td>1</td>\n",
       "      <td>0</td>\n",
       "      <td>unknown</td>\n",
       "      <td>5</td>\n",
       "      <td>unknown</td>\n",
       "      <td>0</td>\n",
       "    </tr>\n",
       "    <tr>\n",
       "      <th>4</th>\n",
       "      <td>unknown</td>\n",
       "      <td>single</td>\n",
       "      <td>unknown</td>\n",
       "      <td>0</td>\n",
       "      <td>0</td>\n",
       "      <td>0</td>\n",
       "      <td>unknown</td>\n",
       "      <td>5</td>\n",
       "      <td>unknown</td>\n",
       "      <td>0</td>\n",
       "    </tr>\n",
       "  </tbody>\n",
       "</table>\n",
       "</div>"
      ],
      "text/plain": [
       "            job  marital  education  credit  housing  loan  contact  month  \\\n",
       "0    management  married   tertiary       0        1     0  unknown      5   \n",
       "1    technician   single  secondary       0        1     0  unknown      5   \n",
       "2  entrepreneur  married  secondary       0        1     1  unknown      5   \n",
       "3   blue-collar  married    unknown       0        1     0  unknown      5   \n",
       "4       unknown   single    unknown       0        0     0  unknown      5   \n",
       "\n",
       "  poutcome  y  \n",
       "0  unknown  0  \n",
       "1  unknown  0  \n",
       "2  unknown  0  \n",
       "3  unknown  0  \n",
       "4  unknown  0  "
      ]
     },
     "execution_count": 85,
     "metadata": {},
     "output_type": "execute_result"
    }
   ],
   "source": [
    "obj_df.head()"
   ]
  },
  {
   "cell_type": "markdown",
   "metadata": {},
   "source": [
    "### One hot Encode job"
   ]
  },
  {
   "cell_type": "markdown",
   "metadata": {},
   "source": [
    "Ahora bien, aún nos falta 5 variables por aplicar los valores númericos con más de 2 categorías. Tenemos 'job' con 12 categorías, 'marital' con 3, 'education' con 4, 'contact' con 3, por último 'poutcome' con 4.\n",
    "\n",
    "Hay que tener en cuenta que existe una trampa de la variables ficticias creadas y consiste en crear una nueva variable por cada una, llega a ser redundante. Por tanto la solución está eliminar una de las variables categóricas, si hay $d$ número de categorías, use $d-1$ en el modelo, el valor omitido se puede considerar como el valor de referencia y los valores nuevos de las categorías restantes representan el cambio de esta referencia.\n",
    "\n",
    "Dicho lo anterior se resta una categoría a cada variable y las otras 5 variables de categorías enteras esperamos 26 variables, el DataFrame resultante se guarda en **obj_df**"
   ]
  },
  {
   "cell_type": "code",
   "execution_count": 32,
   "metadata": {},
   "outputs": [
    {
     "data": {
      "text/plain": [
       "26"
      ]
     },
     "execution_count": 32,
     "metadata": {},
     "output_type": "execute_result"
    }
   ],
   "source": [
    "cols_dummies = ['job', 'marital', 'education', 'contact', 'poutcome']\n",
    "obj_df = pd.get_dummies(obj_df,prefix=cols_dummies, drop_first=True)\n",
    "len(obj_df.columns)"
   ]
  },
  {
   "cell_type": "code",
   "execution_count": 33,
   "metadata": {},
   "outputs": [],
   "source": [
    "#Nombre de las variables categoricas\n",
    "cat_vars = cols_dummies + list(cat_var.keys())"
   ]
  },
  {
   "cell_type": "markdown",
   "metadata": {},
   "source": [
    "Nos disponemos a concatenar las variables tipo enteras con las categóricas."
   ]
  },
  {
   "cell_type": "code",
   "execution_count": 34,
   "metadata": {},
   "outputs": [],
   "source": [
    "index = ['age','housing', 'loan', 'job_blue-collar','job_entrepreneur', 'job_housemaid', 'job_management', \n",
    "         'job_retired','job_self-employed', 'job_services', 'job_student', 'job_technician','job_unemployed',\n",
    "         'job_unknown', 'marital_married', 'marital_single','education_secondary', 'education_tertiary', \n",
    "         'education_unknown','day', 'month','contact_telephone', 'contact_unknown',  'balance',  'duration', \n",
    "         'campaign', 'pdays', 'previous','credit','poutcome_other','poutcome_success', 'poutcome_unknown', 'y']\n",
    "\n",
    "df_bank_copy = df_bank.copy()\n",
    "df_bank_copy = df_bank_copy.drop(columns=cat_vars)\n",
    "df_bank_copy.head()\n",
    "df_bank_2 = pd.concat([obj_df.T, df_bank_copy.T]).T\n",
    "df_bank_2 = df_bank_2[index]\n",
    "X = df_bank_2[index]\n",
    "y = df_bank_2['y']"
   ]
  },
  {
   "cell_type": "markdown",
   "metadata": {},
   "source": [
    "## Missing data\n",
    "\n",
    "En nuestro análisis exploratorio, debemos lidiar con los valores faltantes. Al parecer en nuestro caso no hay, sin embargo muchas veces esos valores pueden de diferente formas tales como 0, signos de interrogación o números negativos (según su interpretación). Es así que decidimos ir más allá."
   ]
  },
  {
   "cell_type": "code",
   "execution_count": 35,
   "metadata": {},
   "outputs": [
    {
     "name": "stdout",
     "output_type": "stream",
     "text": [
      "<class 'pandas.core.frame.DataFrame'>\n",
      "RangeIndex: 45211 entries, 0 to 45210\n",
      "Data columns (total 33 columns):\n",
      "age                    45211 non-null int64\n",
      "housing                45211 non-null int64\n",
      "loan                   45211 non-null int64\n",
      "job_blue-collar        45211 non-null int64\n",
      "job_entrepreneur       45211 non-null int64\n",
      "job_housemaid          45211 non-null int64\n",
      "job_management         45211 non-null int64\n",
      "job_retired            45211 non-null int64\n",
      "job_self-employed      45211 non-null int64\n",
      "job_services           45211 non-null int64\n",
      "job_student            45211 non-null int64\n",
      "job_technician         45211 non-null int64\n",
      "job_unemployed         45211 non-null int64\n",
      "job_unknown            45211 non-null int64\n",
      "marital_married        45211 non-null int64\n",
      "marital_single         45211 non-null int64\n",
      "education_secondary    45211 non-null int64\n",
      "education_tertiary     45211 non-null int64\n",
      "education_unknown      45211 non-null int64\n",
      "day                    45211 non-null int64\n",
      "month                  45211 non-null int64\n",
      "contact_telephone      45211 non-null int64\n",
      "contact_unknown        45211 non-null int64\n",
      "balance                45211 non-null int64\n",
      "duration               45211 non-null int64\n",
      "campaign               45211 non-null int64\n",
      "pdays                  45211 non-null int64\n",
      "previous               45211 non-null int64\n",
      "credit                 45211 non-null int64\n",
      "poutcome_other         45211 non-null int64\n",
      "poutcome_success       45211 non-null int64\n",
      "poutcome_unknown       45211 non-null int64\n",
      "y                      45211 non-null int64\n",
      "dtypes: int64(33)\n",
      "memory usage: 11.4 MB\n"
     ]
    },
    {
     "data": {
      "text/plain": [
       "age                    0\n",
       "housing                0\n",
       "loan                   0\n",
       "job_blue-collar        0\n",
       "job_entrepreneur       0\n",
       "job_housemaid          0\n",
       "job_management         0\n",
       "job_retired            0\n",
       "job_self-employed      0\n",
       "job_services           0\n",
       "job_student            0\n",
       "job_technician         0\n",
       "job_unemployed         0\n",
       "job_unknown            0\n",
       "marital_married        0\n",
       "marital_single         0\n",
       "education_secondary    0\n",
       "education_tertiary     0\n",
       "education_unknown      0\n",
       "day                    0\n",
       "month                  0\n",
       "contact_telephone      0\n",
       "contact_unknown        0\n",
       "balance                0\n",
       "duration               0\n",
       "campaign               0\n",
       "pdays                  0\n",
       "previous               0\n",
       "credit                 0\n",
       "poutcome_other         0\n",
       "poutcome_success       0\n",
       "poutcome_unknown       0\n",
       "y                      0\n",
       "dtype: int64"
      ]
     },
     "execution_count": 35,
     "metadata": {},
     "output_type": "execute_result"
    }
   ],
   "source": [
    "X.info()\n",
    "X.isna().sum()"
   ]
  },
  {
   "cell_type": "markdown",
   "metadata": {},
   "source": [
    "## Imbalanced Classes \n",
    "\n",
    "Una vez ya tenemos las variables categoricas listas para entrenar, surge otra cuestión. Contamos con un dataset desbalanceado, la clase positiva (el usuario que se suscribió a la campaña) representa un 13% en comparación de la clase negativa. \n",
    "\n",
    "Como primera instancia, vamos a aplicar la técnica de SMOTE para hacer pruebas sintenticas y tratar de mejorar ese porcentaje. No buscamos igualarlo pero si mejorar la situación de desbalanceo al menos un poco."
   ]
  },
  {
   "cell_type": "code",
   "execution_count": 78,
   "metadata": {},
   "outputs": [
    {
     "data": {
      "text/plain": [
       "0    39922\n",
       "1     5289\n",
       "Name: y, dtype: int64"
      ]
     },
     "execution_count": 78,
     "metadata": {},
     "output_type": "execute_result"
    },
    {
     "data": {
      "image/png": "[encoded data removed]",
      "text/plain": [
       "<Figure size 432x288 with 1 Axes>"
      ]
     },
     "metadata": {},
     "output_type": "display_data"
    }
   ],
   "source": [
    "pd.value_counts(y).plot.bar()\n",
    "plt.title('Histograma Y')\n",
    "plt.xlabel('Classes')\n",
    "plt.ylabel('Frequency')\n",
    "y.value_counts()\n"
   ]
  },
  {
   "cell_type": "code",
   "execution_count": 77,
   "metadata": {},
   "outputs": [
    {
     "ename": "ValueError",
     "evalue": "Found input variables with inconsistent numbers of samples: [37052, 45211]",
     "output_type": "error",
     "traceback": [
      "\u001b[1;31m---------------------------------------------------------------------------\u001b[0m",
      "\u001b[1;31mValueError\u001b[0m                                Traceback (most recent call last)",
      "\u001b[1;32m<ipython-input-77-a9be407311b8>\u001b[0m in \u001b[0;36m<module>\u001b[1;34m()\u001b[0m\n\u001b[0;32m      7\u001b[0m \u001b[1;33m\u001b[0m\u001b[0m\n\u001b[0;32m      8\u001b[0m \u001b[1;33m\u001b[0m\u001b[0m\n\u001b[1;32m----> 9\u001b[1;33m \u001b[0mX_train\u001b[0m\u001b[1;33m,\u001b[0m \u001b[0mX_val\u001b[0m\u001b[1;33m,\u001b[0m \u001b[0my_train\u001b[0m\u001b[1;33m,\u001b[0m \u001b[0my_val\u001b[0m \u001b[1;33m=\u001b[0m \u001b[0mtrain_test_split\u001b[0m\u001b[1;33m(\u001b[0m\u001b[0mX\u001b[0m\u001b[1;33m,\u001b[0m \u001b[0my\u001b[0m\u001b[1;33m,\u001b[0m \u001b[0mtest_size\u001b[0m\u001b[1;33m=\u001b[0m\u001b[1;36m0.2\u001b[0m\u001b[1;33m,\u001b[0m \u001b[0mrandom_state\u001b[0m\u001b[1;33m=\u001b[0m\u001b[1;36m0\u001b[0m\u001b[1;33m)\u001b[0m\u001b[1;33m\u001b[0m\u001b[0m\n\u001b[0m\u001b[0;32m     10\u001b[0m \u001b[1;33m\u001b[0m\u001b[0m\n\u001b[0;32m     11\u001b[0m \u001b[1;31m# print(\"Number transactions X_train dataset: \", X_train.shape)\u001b[0m\u001b[1;33m\u001b[0m\u001b[1;33m\u001b[0m\u001b[0m\n",
      "\u001b[1;32mc:\\users\\alejandro\\appdata\\local\\conda\\conda\\envs\\py3\\lib\\site-packages\\sklearn\\model_selection\\_split.py\u001b[0m in \u001b[0;36mtrain_test_split\u001b[1;34m(*arrays, **options)\u001b[0m\n\u001b[0;32m   2182\u001b[0m         \u001b[0mtest_size\u001b[0m \u001b[1;33m=\u001b[0m \u001b[1;36m0.25\u001b[0m\u001b[1;33m\u001b[0m\u001b[0m\n\u001b[0;32m   2183\u001b[0m \u001b[1;33m\u001b[0m\u001b[0m\n\u001b[1;32m-> 2184\u001b[1;33m     \u001b[0marrays\u001b[0m \u001b[1;33m=\u001b[0m \u001b[0mindexable\u001b[0m\u001b[1;33m(\u001b[0m\u001b[1;33m*\u001b[0m\u001b[0marrays\u001b[0m\u001b[1;33m)\u001b[0m\u001b[1;33m\u001b[0m\u001b[0m\n\u001b[0m\u001b[0;32m   2185\u001b[0m \u001b[1;33m\u001b[0m\u001b[0m\n\u001b[0;32m   2186\u001b[0m     \u001b[1;32mif\u001b[0m \u001b[0mshuffle\u001b[0m \u001b[1;32mis\u001b[0m \u001b[1;32mFalse\u001b[0m\u001b[1;33m:\u001b[0m\u001b[1;33m\u001b[0m\u001b[0m\n",
      "\u001b[1;32mc:\\users\\alejandro\\appdata\\local\\conda\\conda\\envs\\py3\\lib\\site-packages\\sklearn\\utils\\validation.py\u001b[0m in \u001b[0;36mindexable\u001b[1;34m(*iterables)\u001b[0m\n\u001b[0;32m    258\u001b[0m         \u001b[1;32melse\u001b[0m\u001b[1;33m:\u001b[0m\u001b[1;33m\u001b[0m\u001b[0m\n\u001b[0;32m    259\u001b[0m             \u001b[0mresult\u001b[0m\u001b[1;33m.\u001b[0m\u001b[0mappend\u001b[0m\u001b[1;33m(\u001b[0m\u001b[0mnp\u001b[0m\u001b[1;33m.\u001b[0m\u001b[0marray\u001b[0m\u001b[1;33m(\u001b[0m\u001b[0mX\u001b[0m\u001b[1;33m)\u001b[0m\u001b[1;33m)\u001b[0m\u001b[1;33m\u001b[0m\u001b[0m\n\u001b[1;32m--> 260\u001b[1;33m     \u001b[0mcheck_consistent_length\u001b[0m\u001b[1;33m(\u001b[0m\u001b[1;33m*\u001b[0m\u001b[0mresult\u001b[0m\u001b[1;33m)\u001b[0m\u001b[1;33m\u001b[0m\u001b[0m\n\u001b[0m\u001b[0;32m    261\u001b[0m     \u001b[1;32mreturn\u001b[0m \u001b[0mresult\u001b[0m\u001b[1;33m\u001b[0m\u001b[0m\n\u001b[0;32m    262\u001b[0m \u001b[1;33m\u001b[0m\u001b[0m\n",
      "\u001b[1;32mc:\\users\\alejandro\\appdata\\local\\conda\\conda\\envs\\py3\\lib\\site-packages\\sklearn\\utils\\validation.py\u001b[0m in \u001b[0;36mcheck_consistent_length\u001b[1;34m(*arrays)\u001b[0m\n\u001b[0;32m    233\u001b[0m     \u001b[1;32mif\u001b[0m \u001b[0mlen\u001b[0m\u001b[1;33m(\u001b[0m\u001b[0muniques\u001b[0m\u001b[1;33m)\u001b[0m \u001b[1;33m>\u001b[0m \u001b[1;36m1\u001b[0m\u001b[1;33m:\u001b[0m\u001b[1;33m\u001b[0m\u001b[0m\n\u001b[0;32m    234\u001b[0m         raise ValueError(\"Found input variables with inconsistent numbers of\"\n\u001b[1;32m--> 235\u001b[1;33m                          \" samples: %r\" % [int(l) for l in lengths])\n\u001b[0m\u001b[0;32m    236\u001b[0m \u001b[1;33m\u001b[0m\u001b[0m\n\u001b[0;32m    237\u001b[0m \u001b[1;33m\u001b[0m\u001b[0m\n",
      "\u001b[1;31mValueError\u001b[0m: Found input variables with inconsistent numbers of samples: [37052, 45211]"
     ]
    }
   ],
   "source": [
    "index = ['age','housing', 'loan', 'job_blue-collar','job_entrepreneur', 'job_housemaid', 'job_management', \n",
    "         'job_retired','job_self-employed', 'job_services', 'job_student', 'job_technician','job_unemployed',\n",
    "         'job_unknown', 'marital_married', 'marital_single','education_secondary', 'education_tertiary', \n",
    "         'education_unknown','day', 'month','contact_telephone', 'contact_unknown',  'balance',  'duration', \n",
    "         'campaign', 'pdays', 'previous','credit','poutcome_other','poutcome_success', 'poutcome_unknown']\n",
    "\n",
    "\n",
    "\n",
    "X_train, X_val, y_train, y_val = train_test_split(X, y, test_size=0.2, random_state=0)\n",
    "\n",
    "# print(\"Number transactions X_train dataset: \", X_train.shape)\n",
    "# print(\"Number transactions y_train dataset: \", y_train.shape)\n",
    "# print(\"Number transactions X_test dataset: \", X_val.shape)\n",
    "# print(\"Number transactions y_test dataset: \", y_val.shape)"
   ]
  },
  {
   "cell_type": "code",
   "execution_count": 38,
   "metadata": {},
   "outputs": [
    {
     "name": "stdout",
     "output_type": "stream",
     "text": [
      "Before OverSampling, counts of label '1': 4226\n",
      "Before OverSampling, counts of label '0': 31942 \n",
      "\n",
      "After OverSampling, the shape of train_X: (37052, 33)\n",
      "After OverSampling, the shape of train_y: (37052,) \n",
      "\n",
      "After OverSampling, counts of label '1': 5110\n",
      "After OverSampling, counts of label '0': 31942\n"
     ]
    }
   ],
   "source": [
    "print(\"Before OverSampling, counts of label '1': {}\".format(sum(y_train==1)))\n",
    "print(\"Before OverSampling, counts of label '0': {} \\n\".format(sum(y_train==0)))\n",
    "\n",
    "sm = SMOTE(sampling_strategy=0.16,random_state=2)\n",
    "X_train_res, y_train_res = sm.fit_sample(X_train, y_train.ravel())\n",
    "\n",
    "print('After OverSampling, the shape of train_X: {}'.format(X_train_res.shape))\n",
    "print('After OverSampling, the shape of train_y: {} \\n'.format(y_train_res.shape))\n",
    "\n",
    "print(\"After OverSampling, counts of label '1': {}\".format(sum(y_train_res==1)))\n",
    "print(\"After OverSampling, counts of label '0': {}\".format(sum(y_train_res==0)))\n",
    "\n",
    "X = X_train_res\n",
    "Y = y_train_res"
   ]
  },
  {
   "cell_type": "code",
   "execution_count": 39,
   "metadata": {},
   "outputs": [],
   "source": [
    "from sklearn.metrics import recall_score\n",
    "def measure_train(classifier):\n",
    "    \n",
    "    cv_results = pd.DataFrame(classifier.cv_results_)[['param_n_neighbors', 'mean_train_score','std_train_score','mean_test_score','std_test_score','mean_score_time']]\n",
    "  \n",
    "    print(cv_results)    \n",
    "    y_pred = classifier.predict(X_train)\n",
    "    matrix = confusion_matrix(y_train, y_pred)    \n",
    "   # print('Recall manual'+ str(recall(matrix)))\n",
    "    #print('Recall auto '+ str(recall_score(y_train, y_pred)))\n",
    "    error = ErrorClass(y_train, y_pred) \n",
    "    print('Error de entrenamiento = ' + str(error))\n",
    "    print('Mejor parámetro: '+str(classifier.best_params_))\n",
    "    \n",
    "def measure_val(classifier):\n",
    "    \n",
    "    y_pred = classifier.predict(X_val)\n",
    "    print (confusion_matrix(y_val, y_pred))\n",
    "    error = ErrorClass(y_val,y_pred) \n",
    "    print('Error de evaluación final = ' + str(error))\n",
    "\n",
    "def measure_scoring(classifier):\n",
    "    cv_results = pd.DataFrame(classifier.cv_results_)[['param_n_neighbors','mean_test_Error','mean_test_AUC','mean_train_Error','mean_train_AUC']]\n",
    "    y_pred = classifier.predict(X_train)\n",
    "    error = ErrorClass(y_train, y_pred) \n",
    "    print('Error de entrenamiento = ' + str(error))\n",
    "    print(cv_results)\n",
    "\n",
    "def measure_val_scoring(classifier):\n",
    "    \n",
    "    params = classifier.best_params_\n",
    "    score = classifier.best_score_\n",
    "    print ('\\n Mejor parámetro '+str(params) + ' mejor valor:'+str(score))\n",
    "    y_pred = classifier.predict(X_val)\n",
    "    error = ErrorClass(y_pred,y_val) \n",
    "    print('Error de evaluación final = ' + str(error))\n",
    "    \n",
    "    \n",
    "    #Para calcular el error en los problemas de clasificación\n",
    "def ErrorClass(Y,Y_lest):\n",
    "    error = 1 - np.sum(Y_lest == Y)/len(Y)    \n",
    "    return error\n",
    "\n",
    "def tn(y_true, y_pred): return confusion_matrix(y_true, y_pred)[0, 0]\n",
    "def fp(y_true, y_pred): return confusion_matrix(y_true, y_pred)[0, 1]\n",
    "def fn(y_true, y_pred): return confusion_matrix(y_true, y_pred)[1, 0]\n",
    "def tp(y_true, y_pred): return confusion_matrix(y_true, y_pred)[1, 1]\n",
    "\n",
    "def recall(matrix):\n",
    "    return (matrix[0,0]/(matrix[0,0]+matrix(1,0)))\n",
    "\n",
    "scoring = {'tp': make_scorer(tp), 'tn': make_scorer(tn),\n",
    "           'fp': make_scorer(fp), 'fn': make_scorer(fn)}\n"
   ]
  },
  {
   "cell_type": "markdown",
   "metadata": {},
   "source": [
    "## Naïve Bayes"
   ]
  },
  {
   "cell_type": "code",
   "execution_count": 40,
   "metadata": {},
   "outputs": [],
   "source": [
    "def naiveBayes(X, Y, cv=4, scoring=make_scorer(ErrorClass), refit='AUC'):\n",
    "    \n",
    "    parameters = {}\n",
    "    \n",
    "    scaler = preprocessing.StandardScaler().fit(X)\n",
    "    X_norm = scaler.transform(X)\n",
    "    # creamos el clasificador\n",
    "    gnb = GaussianNB()\n",
    "    classifier = GridSearchCV(gnb, parameters, cv=cv, scoring=scoring, refit=refit)\n",
    "    classifier.fit(X_norm, Y)\n",
    "    \n",
    "    return classifier\n",
    "\n",
    "def naiveBayes2(clf, X_train, y_train, X_test):\n",
    "    # create classifier\n",
    "    clf = clf\n",
    "    # fit it to training data\n",
    "    clf.fit(X_train,y_train)\n",
    "    # predict using test data\n",
    "    y_pred = clf.predict(X_test)\n",
    "    # Compute predicted probabilities: y_pred_prob\n",
    "    y_pred_prob = clf.predict_proba(X_test)\n",
    "    #for fun: train-set predictions\n",
    "    train_pred = clf.predict(X_train)\n",
    "    print('train-set confusion matrix:\\n', confusion_matrix(y_train,train_pred)) \n",
    "    return y_pred, y_pred_prob\n",
    "\n",
    "def print_scores(y_test,y_pred,y_pred_prob):\n",
    "    print('test-set confusion matrix:\\n', confusion_matrix(y_test,y_pred)) \n",
    "    print(\"recall score: \", recall_score(y_test,y_pred))\n",
    "    print(\"precision score: \", precision_score(y_test,y_pred))\n",
    "    print(\"f1 score: \", f1_score(y_test,y_pred))\n",
    "    print(\"accuracy score: \", accuracy_score(y_test,y_pred))\n",
    "    print(\"ROC AUC: {}\".format(roc_auc_score(y_test, y_pred_prob[:,1])))"
   ]
  },
  {
   "cell_type": "markdown",
   "metadata": {},
   "source": [
    "## K vecinos más cercanos"
   ]
  },
  {
   "cell_type": "code",
   "execution_count": 41,
   "metadata": {},
   "outputs": [],
   "source": [
    "def kNN(neighbors=1):\n",
    "    Folds = 4\n",
    "    random.seed(19680801)\n",
    "    EficienciaTrain = np.zeros(Folds)\n",
    "    EficienciaVal = np.zeros(Folds)\n",
    "    skf = StratifiedKFold(n_splits=Folds)\n",
    "    Error = np.zeros(Folds)\n",
    "    Error_eval = np.zeros(Folds)\n",
    "    j = 0\n",
    "   \n",
    "    \n",
    "    for train, test in skf.split(X, Y):\n",
    "        Xtrain = X[train,:].astype(float)\n",
    "        Ytrain = Y[train].astype(float)\n",
    "        Xtest = X[test,:].astype(float)\n",
    "        Ytest = Y[test].astype(float)\n",
    "        \n",
    "        #Normalizamos los datos\n",
    "        scaler = preprocessing.StandardScaler().fit(Xtrain)\n",
    "        Xtrain = scaler.transform(Xtrain)\n",
    "        Xtest = scaler.transform(Xtest)\n",
    "        \n",
    "        # creamos el clasificador\n",
    "        classifier = KNeighborsClassifier(n_neighbors=neighbors)  \n",
    "        classifier.fit(Xtrain, Ytrain)\n",
    "        \n",
    "        y_est = classifier.predict(Xtrain)\n",
    "        \n",
    "        y_pred = classifier.predict(Xtest)\n",
    "        \n",
    "        y_val_pred = classifier.predict(X_val)\n",
    "        \n",
    "        Error_eval[j] = ErrorClass(y_val_pred, y_val)\n",
    "        \n",
    "        Error[j] = ErrorClass(y_pred,Ytest)\n",
    "        \n",
    "        #Evaluamos las predicciones del modelo con los datos de test\n",
    "        EficienciaTrain[j] = np.mean(y_est.ravel() == Ytrain.ravel())\n",
    "        EficienciaVal[j] = np.mean(y_pred.ravel() == Ytest.ravel())\n",
    "        j += 1\n",
    "        \n",
    "       \n",
    "              \n",
    "    print('Número vecinos: '+ str(neighbors))    \n",
    "    print('Eficiencia durante el entrenamiento = ' + str(np.mean(EficienciaTrain)) + '+-' + str(np.std(EficienciaTrain)))\n",
    "    print('Eficiencia durante la validación = ' + str(np.mean(EficienciaVal)) + '+-' + str(np.std(EficienciaVal)))\n",
    "    print('Error durante la validación = ' + str(np.mean(Error)) + '+-' + str(np.std(Error)))\n",
    "    print('Error de evalución final = ' + str(np.mean(Error_eval)) + '+-' + str(np.std(Error_eval)))"
   ]
  },
  {
   "cell_type": "code",
   "execution_count": 42,
   "metadata": {},
   "outputs": [],
   "source": [
    "def KNN(X, Y, neighbors=[5,10], cv=4, scoring=make_scorer(ErrorClass), refit='AUC'):\n",
    "    \n",
    "    parameters = {\n",
    "    'n_neighbors': neighbors}\n",
    "    \n",
    "    scaler = preprocessing.StandardScaler().fit(X)\n",
    "    X_norm = scaler.transform(X)\n",
    "    # creamos el clasificador\n",
    "    knn = KNeighborsClassifier()\n",
    "    classifier = GridSearchCV(knn, parameters, cv=cv, scoring=scoring, refit=refit)\n",
    "    classifier.fit(X_norm, Y)\n",
    "    \n",
    "    return classifier\n",
    "  "
   ]
  },
  {
   "cell_type": "code",
   "execution_count": 43,
   "metadata": {},
   "outputs": [],
   "source": [
    "def train_KNN(X, Y, neighbors=[5,10], cv=4):\n",
    "    \n",
    "    parameters = {\n",
    "    'n_neighbors': neighbors}\n",
    "    \n",
    "    scaler = preprocessing.StandardScaler().fit(X)\n",
    "    X_norm = scaler.transform(X)\n",
    "    # creamos el clasificador\n",
    "    knn = KNeighborsClassifier()\n",
    "    classifier = GridSearchCV(knn, parameters, cv=cv)\n",
    "    classifier.fit(X_norm, Y)\n",
    "    \n",
    "    \n",
    "    return classifier"
   ]
  },
  {
   "cell_type": "markdown",
   "metadata": {},
   "source": [
    "## Redes Neuronales Artificiales"
   ]
  },
  {
   "cell_type": "code",
   "execution_count": 45,
   "metadata": {},
   "outputs": [
    {
     "name": "stdout",
     "output_type": "stream",
     "text": [
      "Eficiencia durante el entrenamiento = 1.0+-0.0\n",
      "Eficiencia durante la validación = 0.86209+-0.0\n"
     ]
    }
   ],
   "source": [
    "#Mean Absolute Percentage Error para los problemas de regresión\n",
    "def MAPE(Y_est,Y):\n",
    "    N = np.size(Y)\n",
    "    mape = np.sum(abs((Y_est.reshape(N,1) - Y.reshape(N,1))/Y.reshape(N,1)))/N\n",
    "    return mape\n",
    "\n",
    "def neuralNetwork(hidden=(28,)):\n",
    "    Folds = 4\n",
    "    random.seed(19680801)\n",
    "    EficienciaTrain = np.zeros(Folds)\n",
    "    EficienciaVal = np.zeros(Folds)\n",
    "    skf = StratifiedKFold(n_splits=Folds)\n",
    "    j = 0\n",
    "    for train, test in skf.split(X, Y):\n",
    "        Xtrain = X[train,:].astype(float)\n",
    "        Ytrain = Y[train].astype(float)\n",
    "        Xtest = X[test,:].astype(float)\n",
    "        Ytest = Y[test].astype(float)\n",
    "\n",
    "        #Normalizamos los datos\n",
    "        media = np.mean(Xtrain)\n",
    "        desvia = np.std(Xtrain)\n",
    "        Xtrain = preprocessing.scale(Xtrain)\n",
    "        Xtest = (Xtest - np.matlib.repmat(media, Xtest.shape[0], 1))/np.matlib.repmat(desvia, Xtest.shape[0], 1)\n",
    "\n",
    "        #Haga el llamado a la función para crear y entrenar el modelo usando los datos de entrenamiento\n",
    "        mlp = MLPClassifier(activation='tanh', hidden_layer_sizes=hidden, max_iter=500 )\n",
    "        mlp.fit(Xtrain,Ytrain)\n",
    "\n",
    "        #Validación con las muestras de entrenamiento\n",
    "        Ytrain_pred = mlp.predict(Xtrain)\n",
    "\n",
    "        #Validación con las muestras de test    \n",
    "        Yest = mlp.predict(Xtest)\n",
    "\n",
    "        #Evaluamos las predicciones del modelo con los datos de test\n",
    "        EficienciaTrain[j] = np.mean(Ytrain_pred == Ytrain)\n",
    "        EficienciaVal[j] = np.mean(Yest == Ytest)\n",
    "        j += 1\n",
    "    \n",
    "    mean = round(np.mean(EficienciaTrain),5)\n",
    "    std = round(np.std(EficienciaTrain),5)\n",
    "    \n",
    "    meanVal = round(np.mean(EficienciaVal),5)\n",
    "    stdVal = round(np.std(EficienciaVal),5)\n",
    "    \n",
    "    return mean,std,meanVal,stdVal\n",
    "\n",
    "mean,std,meanVal,stdVal = neuralNetwork()\n",
    "print('Eficiencia durante el entrenamiento = ' + str(mean) + '+-' + str(std))\n",
    "print('Eficiencia durante la validación = ' + str(np.mean(meanVal)) + '+-' + str(np.std(stdVal)))"
   ]
  },
  {
   "cell_type": "markdown",
   "metadata": {},
   "source": [
    "## Random Forest"
   ]
  },
  {
   "cell_type": "code",
   "execution_count": 70,
   "metadata": {},
   "outputs": [
    {
     "name": "stdout",
     "output_type": "stream",
     "text": [
      "Eficiencia durante el entrenamiento = 1.0 +- 0.0\n",
      "Eficiencia durante la validación = 0.8621 +- 0.0\n"
     ]
    }
   ],
   "source": [
    "def randomForest(num_tree=5, max_var=None):\n",
    "    #Validamos el modelo\n",
    "    Folds = 4\n",
    "    random.seed(19680801)\n",
    "    EficienciaTrain = np.zeros(Folds)\n",
    "    EficienciaVal = np.zeros(Folds)\n",
    "    skf = StratifiedKFold(n_splits=Folds)\n",
    "    j = 0\n",
    "    for train, test in skf.split(X, Y):\n",
    "        Xtrain = X[train,:]\n",
    "        Ytrain = Y[train]\n",
    "        Xtest = X[test,:]\n",
    "        Ytest = Y[test]\n",
    "\n",
    "        #Normalizamos los datos\n",
    "        media = np.mean(Xtrain)\n",
    "        desvia = np.std(Xtrain)\n",
    "        Xtrain = sc.stats.stats.zscore(Xtrain)\n",
    "        Xtest = (Xtest - np.matlib.repmat(media, Xtest.shape[0], 1))/np.matlib.repmat(desvia, Xtest.shape[0], 1)\n",
    "\n",
    "        #Haga el llamado a la función para crear y entrenar el modelo usando los datos de entrenamiento\n",
    "        model = RandomForestClassifier(n_estimators = num_tree, max_features = max_var)\n",
    "        model.fit(X=Xtrain, y=Ytrain)\n",
    "\n",
    "        #Validación\n",
    "        Ytrain_pred = model.predict(Xtrain)#Use el modelo previamente entrenado para hacer predicciones con las mismas muestras de entrenamiento\n",
    "        Yest =  model.predict(Xtest)#Use el modelo previamente entrenado para hacer predicciones con las muestras de test\n",
    "\n",
    "        #Evaluamos las predicciones del modelo con los datos de test\n",
    "        EficienciaTrain[j] = np.mean(Ytrain_pred.ravel() == Ytrain.ravel())\n",
    "        EficienciaVal[j] = np.mean(Yest.ravel() == Ytest.ravel())\n",
    "        j += 1\n",
    "\n",
    "    mean = round(np.mean(EficienciaTrain),4)\n",
    "    std = round(np.std(EficienciaTrain),4)\n",
    "    \n",
    "    meanVal = round(np.mean(EficienciaVal),4)\n",
    "    stdVal = round(np.std(EficienciaVal),4)\n",
    "    \n",
    "    return (mean, std, meanVal, stdVal)\n",
    "\n",
    "mean, std, meanVal, stdVal = randomForest(3,5)\n",
    "print('Eficiencia durante el entrenamiento = ' + str(mean) + ' +- ' + str(std))\n",
    "print('Eficiencia durante la validación = ' + str(meanVal) + ' +- ' + str(stdVal))"
   ]
  },
  {
   "cell_type": "markdown",
   "metadata": {},
   "source": [
    "## Máquinas de Soporte Vectorial con kernel lineal y con kernel RBF."
   ]
  },
  {
   "cell_type": "code",
   "execution_count": 76,
   "metadata": {},
   "outputs": [
    {
     "name": "stdout",
     "output_type": "stream",
     "text": [
      "Eficiencia durante la validación = 1.0+-0.0\n",
      "Eficiencia durante el entrenamiento = 1.0+-0.0\n",
      "% Vectore de soporte =  0.00272\n"
     ]
    }
   ],
   "source": [
    "# lineal kernel and rbf kernel\n",
    "def SVM(kernel='linear', c=0.001 ,gamma=0):\n",
    "\n",
    "    if gamma is 0:\n",
    "        gamma = 'auto'\n",
    "        \n",
    "    #Validamos el modelo\n",
    "    Folds = 4\n",
    "    random.seed(19680801)\n",
    "    EficienciaTrain = np.zeros(Folds)\n",
    "    EficienciaVal = np.zeros(Folds)\n",
    "    skf = StratifiedKFold(n_splits=Folds)\n",
    "    j = 0\n",
    "    percentVectors = np.zeros(Folds)\n",
    "    for train, test in skf.split(X, Y):\n",
    "        Xtrain = X[train,:].astype(float)\n",
    "        Ytrain = Y[train].astype(float)\n",
    "        Xtest = X[test,:].astype(float)\n",
    "        Ytest = Y[test].astype(float)\n",
    "\n",
    "        #Normalizamos los datos\n",
    "        scaler = preprocessing.StandardScaler().fit(Xtrain)\n",
    "        Xtrain = scaler.transform(Xtrain)\n",
    "        Xtest = scaler.transform(Xtest)\n",
    "\n",
    "        #Haga el llamado a la función para crear y entrenar el modelo usando los datos de entrenamiento\n",
    "        modelo = SVC(C= c,kernel=kernel,gamma=gamma,  decision_function_shape='ovo')\n",
    "        modelo.fit(Xtrain, Ytrain)\n",
    "        \n",
    "        #Calculamos el porcentaje de vector de soporte\n",
    "        percentVectors[j] = (len(modelo.support_vectors_)/len(Xtrain))\n",
    "\n",
    "        #Validación\n",
    "        Ytrain_pred = modelo.predict(Xtrain)\n",
    "        Yest = modelo.predict(Xtest)\n",
    "\n",
    "        #Evaluamos las predicciones del modelo con los datos de test\n",
    "        EficienciaTrain[j] = np.mean(Ytrain_pred.ravel() == Ytrain.ravel())\n",
    "        EficienciaVal[j] = np.mean(Yest.ravel() == Ytest.ravel())\n",
    "        j += 1\n",
    "\n",
    "        \n",
    "    #print('Eficiencia durante el entrenamiento = ' + str(np.mean(EficienciaTrain)) + '+-' + str(np.std(EficienciaTrain)))\n",
    "    print('Eficiencia durante la validación = ' + str(np.mean(EficienciaVal)) + '+-' + str(np.std(EficienciaVal)))\n",
    "    #print('% Vectore de soporte = ', modelo.n_support_.sum()/720)\n",
    "    mean = round(np.mean(EficienciaVal),5)\n",
    "    std = round(np.std(EficienciaVal),5)\n",
    "    percent = round(percentVectors.sum()/4, 5)\n",
    "    return mean,std,percent\n",
    "\n",
    "mean,std,percent = SVM(kernel='linear',c=1, gamma=0)\n",
    "\n",
    "print('Eficiencia durante el entrenamiento = ' + str(np.mean(mean)) + '+-' + str(np.std(std)))\n",
    "#print('Eficiencia durante la validación = ' + str(np.mean(EficienciaVal)) + '+-' + str(np.std(EficienciaVal)))\n",
    "print('% Vectore de soporte = ', percent)"
   ]
  },
  {
   "cell_type": "markdown",
   "metadata": {},
   "source": [
    "## Entrenamiento"
   ]
  },
  {
   "cell_type": "code",
   "execution_count": 44,
   "metadata": {},
   "outputs": [],
   "source": [
    "X = X_train_res\n",
    "Y = y_train_res\n",
    "\n",
    "# kNN(1)"
   ]
  },
  {
   "cell_type": "markdown",
   "metadata": {},
   "source": [
    "#### Naive Bayes"
   ]
  },
  {
   "cell_type": "code",
   "execution_count": 71,
   "metadata": {},
   "outputs": [
    {
     "name": "stdout",
     "output_type": "stream",
     "text": [
      "train-set confusion matrix:\n",
      " [[22347    12]\n",
      " [    0  3577]]\n",
      "test-set confusion matrix:\n",
      " [[9578    5]\n",
      " [   3 1530]]\n",
      "recall score:  0.9980430528375733\n",
      "precision score:  0.996742671009772\n",
      "f1 score:  0.997392438070404\n",
      "accuracy score:  0.9992803166606693\n",
      "ROC AUC: 0.999795449364392\n"
     ]
    }
   ],
   "source": [
    "X_train, X_test, y_train, y_test = train_test_split(X, Y, test_size=0.3, random_state=42, stratify=Y)\n",
    "y_pred, y_pred_prob = naiveBayes2(GaussianNB(), X_train, y_train, X_test)\n",
    "print_scores(y_test,y_pred,y_pred_prob)"
   ]
  },
  {
   "cell_type": "code",
   "execution_count": 41,
   "metadata": {},
   "outputs": [
    {
     "name": "stdout",
     "output_type": "stream",
     "text": [
      "Selección del modelo por eficiencia\n"
     ]
    },
    {
     "name": "stderr",
     "output_type": "stream",
     "text": [
      "/Users/alejandro/py3/lib/python3.7/site-packages/sklearn/utils/validation.py:595: DataConversionWarning: Data with input dtype int64 was converted to float64 by StandardScaler.\n",
      "  warnings.warn(msg, DataConversionWarning)\n",
      "/Users/alejandro/py3/lib/python3.7/site-packages/sklearn/utils/validation.py:595: DataConversionWarning: Data with input dtype int64 was converted to float64 by StandardScaler.\n",
      "  warnings.warn(msg, DataConversionWarning)\n"
     ]
    },
    {
     "name": "stdout",
     "output_type": "stream",
     "text": [
      "  param_n_neighbors  mean_train_score  std_train_score  mean_test_score  \\\n",
      "0                 1          1.000000         0.000000         0.977957   \n",
      "1                 3          0.986290         0.001352         0.972043   \n",
      "2                 5          0.979928         0.001755         0.966398   \n",
      "3                10          0.963173         0.002117         0.951075   \n",
      "\n",
      "   std_test_score  mean_score_time  \n",
      "0        0.007982         0.268955  \n",
      "1        0.012685         0.148908  \n",
      "2        0.016239         0.135758  \n",
      "3        0.019548         0.140157  \n",
      "Error de entrenamiento = 0.11559734513274333\n",
      "Mejor parámetro: {'n_neighbors': 1}\n",
      "[[791   2]\n",
      " [112   0]]\n",
      "Error de evaluación final = 0.12596685082872927\n"
     ]
    },
    {
     "name": "stderr",
     "output_type": "stream",
     "text": [
      "/Users/alejandro/py3/lib/python3.7/site-packages/sklearn/utils/deprecation.py:125: FutureWarning: You are accessing a training score ('split0_train_score'), which will not be available by default any more in 0.21. If you need training scores, please set return_train_score=True\n",
      "  warnings.warn(*warn_args, **warn_kwargs)\n",
      "/Users/alejandro/py3/lib/python3.7/site-packages/sklearn/utils/deprecation.py:125: FutureWarning: You are accessing a training score ('split1_train_score'), which will not be available by default any more in 0.21. If you need training scores, please set return_train_score=True\n",
      "  warnings.warn(*warn_args, **warn_kwargs)\n",
      "/Users/alejandro/py3/lib/python3.7/site-packages/sklearn/utils/deprecation.py:125: FutureWarning: You are accessing a training score ('split2_train_score'), which will not be available by default any more in 0.21. If you need training scores, please set return_train_score=True\n",
      "  warnings.warn(*warn_args, **warn_kwargs)\n",
      "/Users/alejandro/py3/lib/python3.7/site-packages/sklearn/utils/deprecation.py:125: FutureWarning: You are accessing a training score ('split3_train_score'), which will not be available by default any more in 0.21. If you need training scores, please set return_train_score=True\n",
      "  warnings.warn(*warn_args, **warn_kwargs)\n",
      "/Users/alejandro/py3/lib/python3.7/site-packages/sklearn/utils/deprecation.py:125: FutureWarning: You are accessing a training score ('mean_train_score'), which will not be available by default any more in 0.21. If you need training scores, please set return_train_score=True\n",
      "  warnings.warn(*warn_args, **warn_kwargs)\n",
      "/Users/alejandro/py3/lib/python3.7/site-packages/sklearn/utils/deprecation.py:125: FutureWarning: You are accessing a training score ('std_train_score'), which will not be available by default any more in 0.21. If you need training scores, please set return_train_score=True\n",
      "  warnings.warn(*warn_args, **warn_kwargs)\n"
     ]
    }
   ],
   "source": [
    "\n",
    "neighbors=[1,3,5,10]\n",
    "\n",
    "#def KNN(X, Y, neighbors=[5,10], cv=4, scoring=make_scorer(ErrorClass)):\n",
    "skf = StratifiedKFold(n_splits=4, random_state=42)\n",
    "#kNN()\n",
    "print('Selección del modelo por eficiencia')\n",
    "classifier = train_KNN(X,Y,neighbors, skf)\n",
    "\n",
    "measure_train(classifier)\n",
    "measure_val(classifier)"
   ]
  },
  {
   "cell_type": "code",
   "execution_count": null,
   "metadata": {},
   "outputs": [],
   "source": [
    "print('La selección del modelo con AUC \\n')\n",
    "scoring = {'AUC': 'roc_auc', 'Error': make_scorer(ErrorClass)}\n",
    "classifier_2 = KNN(X,Y, neighbors, skf, scoring, 'AUC')\n",
    "measure_scoring(classifier_2)\n",
    "measure_val_scoring(classifier_2)"
   ]
  },
  {
   "cell_type": "code",
   "execution_count": 215,
   "metadata": {},
   "outputs": [],
   "source": [
    "def trainModel():\n",
    "    \n",
    "    random.seed(19680801)\n",
    "    EficienciaTrain = np.zeros(Folds)\n",
    "    EficienciaVal = np.zeros(Folds)\n",
    "    skf = StratifiedKFold(n_splits=Folds)\n",
    "    j = 0\n",
    "    for train, test in skf.split(X, Y):\n",
    "        Xtrain = X[train,:]\n",
    "        Ytrain = Y[train]\n",
    "        Xtest = X[test,:]\n",
    "        Ytest = Y[test]\n",
    "\n",
    "        #Normalizamos los datos\n",
    "        media = np.mean(Xtrain)\n",
    "        desvia = np.std(Xtrain)\n",
    "        Xtrain = sc.stats.stats.zscore(Xtrain)\n",
    "        Xtest = (Xtest - np.matlib.repmat(media, Xtest.shape[0], 1))/np.matlib.repmat(desvia, Xtest.shape[0], 1)"
   ]
  },
  {
   "cell_type": "markdown",
   "metadata": {},
   "source": [
    "### Tener en cuenta"
   ]
  },
  {
   "cell_type": "code",
   "execution_count": 63,
   "metadata": {},
   "outputs": [
    {
     "data": {
      "text/plain": [
       "count           4521\n",
       "unique            12\n",
       "top       management\n",
       "freq             969\n",
       "Name: job, dtype: object"
      ]
     },
     "execution_count": 63,
     "metadata": {},
     "output_type": "execute_result"
    }
   ],
   "source": [
    "df_bank['job'].describe()"
   ]
  },
  {
   "cell_type": "code",
   "execution_count": 73,
   "metadata": {},
   "outputs": [
    {
     "data": {
      "text/plain": [
       "(36954, 17)"
      ]
     },
     "execution_count": 73,
     "metadata": {},
     "output_type": "execute_result"
    }
   ],
   "source": [
    "df_bank[df_bank['pdays'] == -1].shape"
   ]
  },
  {
   "cell_type": "code",
   "execution_count": null,
   "metadata": {},
   "outputs": [],
   "source": [
    "out = df_bank[\"y\"]\n",
    "out = out.replace(\"no\", 0)\n",
    "out = out.replace(\"yes\", 1)\n",
    "x = df_bank[\"education\"]\n",
    "y = df_bank[\"job\"]\n",
    "\n",
    "#_ = sns.swarmplot(x='duration', y='age', data=df_bank)\n",
    "#plt.hist(y)\n",
    "# Label the axes\n",
    "plt.title('Age vs housing', fontsize=14)\n",
    "plt.xlabel('Edad')\n",
    "plt.ylabel('duration')\n",
    "plt.scatter(x,y,c=out,cmap=\"Accent\")\n",
    "plt.show()"
   ]
  },
  {
   "cell_type": "code",
   "execution_count": null,
   "metadata": {},
   "outputs": [],
   "source": [
    "sns.set(style=\"whitegrid\")\n",
    "ax = sns.swarmplot(x=\"housing\", y=\"age\", data=df_bank)"
   ]
  },
  {
   "cell_type": "code",
   "execution_count": 34,
   "metadata": {},
   "outputs": [
    {
     "data": {
      "text/plain": [
       "age          0\n",
       "job          0\n",
       "marital      0\n",
       "education    0\n",
       "default      0\n",
       "balance      0\n",
       "housing      0\n",
       "loan         0\n",
       "contact      0\n",
       "day          0\n",
       "month        0\n",
       "duration     0\n",
       "campaign     0\n",
       "pdays        0\n",
       "previous     0\n",
       "poutcome     0\n",
       "y            0\n",
       "dtype: int64"
      ]
     },
     "execution_count": 34,
     "metadata": {},
     "output_type": "execute_result"
    }
   ],
   "source": [
    "\n",
    "#print(\"Tipos datos\", df_bank.dtypes)\n",
    "df_bank[df_bank['poutcome'] != 'unknown']\n",
    "df_success = df_bank[df_bank['y'] == 'yes']\n",
    "df_no_success = df_bank[df_bank['y'] == 'no']\n",
    "\n",
    "print(\"Muestras de exito \",df_success.shape, \"Muestras de no éxito\",df_no_success.shape)"
   ]
  },
  {
   "cell_type": "code",
   "execution_count": 17,
   "metadata": {},
   "outputs": [
    {
     "data": {
      "image/png": "[encoded data removed]",
      "text/plain": [
       "<Figure size 432x288 with 1 Axes>"
      ]
     },
     "metadata": {
      "needs_background": "light"
     },
     "output_type": "display_data"
    }
   ],
   "source": [
    "df_bank.boxplot('age','job',rot=60)\n",
    "plt.show()"
   ]
  }
 ],
 "metadata": {
  "kernelspec": {
   "display_name": "Python 3",
   "language": "python",
   "name": "python3"
  },
  "language_info": {
   "codemirror_mode": {
    "name": "ipython",
    "version": 3
   },
   "file_extension": ".py",
   "mimetype": "text/x-python",
   "name": "python",
   "nbconvert_exporter": "python",
   "pygments_lexer": "ipython3",
   "version": "3.6.6"
  }
 },
 "nbformat": 4,
 "nbformat_minor": 2
}
