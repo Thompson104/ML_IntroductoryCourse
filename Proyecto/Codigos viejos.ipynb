{
 "cells": [
  {
   "cell_type": "code",
   "execution_count": null,
   "metadata": {},
   "outputs": [],
   "source": [
    "cols_dummies = ['job', 'marital', 'education', 'default', 'housing','loan', 'contact', 'poutcome','y']\n",
    "cols = ['age','balance','day','month','duration','campaign','pdays','previous']\n",
    "labels = []\n",
    "dataset = []\n",
    "\n",
    "\n",
    "for i in cols:\n",
    "    if len(dataset) == 0:\n",
    "        dataset = df_bank[i]\n",
    "        labels = i\n",
    "    else:\n",
    "        dataset = np.concatenate((dataset.T, df_bank[i].T))\n",
    "        labels = labels + i\n",
    "    print(dataset.shape)\n",
    "            \n",
    "\n",
    "#\n",
    "for i in cols_dummies:\n",
    "    dummies = pd.get_dummies(df_bank[i],drop_first=True)\n",
    "    \n",
    "    if(len(dataset) == 0):\n",
    "        dataset = dummies\n",
    "        labels = dummies.columns\n",
    "    else:\n",
    "        dataset = np.concatenate((dataset.T, dummies.T)).T\n",
    "        labels = labels + dummies.columns.tolist()\n",
    "\n",
    "print(dataset.shape)"
   ]
  }
 ],
 "metadata": {
  "kernelspec": {
   "display_name": "Python 3",
   "language": "python",
   "name": "python3"
  },
  "language_info": {
   "codemirror_mode": {
    "name": "ipython",
    "version": 3
   },
   "file_extension": ".py",
   "mimetype": "text/x-python",
   "name": "python",
   "nbconvert_exporter": "python",
   "pygments_lexer": "ipython3",
   "version": "3.6.6"
  }
 },
 "nbformat": 4,
 "nbformat_minor": 2
}
