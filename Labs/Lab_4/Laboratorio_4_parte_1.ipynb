{
 "cells": [
  {
   "cell_type": "markdown",
   "metadata": {},
   "source": [
    "# Laboratorio 4 - Parte 1\n",
    "\n",
    "### Redes Neuronales Artificiales: MLP\n",
    "\n",
    "### 2018-II\n",
    "\n",
    "#### Profesor: Julián D. Arias Londoño\n",
    "#### julian.ariasl@udea.edu.co\n"
   ]
  },
  {
   "cell_type": "markdown",
   "metadata": {},
   "source": [
    "## Guía del laboratorio\n",
    "\n",
    "En esta archivo va a encontrar tanto celdas de código cómo celdas de texto con las instrucciones para desarrollar el laboratorio.\n",
    "\n",
    "Lea atentamente las instrucciones entregadas en las celdas de texto correspondientes y proceda con la solución de las preguntas planteadas.\n",
    "\n",
    "Nota: no olvide ir ejecutando las celdas de código de arriba hacia abajo para que no tenga errores de importación de librerías o por falta de definición de variables."
   ]
  },
  {
   "cell_type": "markdown",
   "metadata": {},
   "source": [
    "#### Primer Integrante:\n",
    "Deiry Sofia Navas Muriel\n",
    "#### Segundo Integrante:\n",
    "David Alejandro Marin alzate"
   ]
  },
  {
   "cell_type": "code",
   "execution_count": 7,
   "metadata": {},
   "outputs": [],
   "source": [
    "%matplotlib inline\n",
    "import numpy as np\n",
    "import math\n",
    "import matplotlib.pyplot as plt\n",
    "from sklearn.neural_network import MLPRegressor\n",
    "from __future__ import division\n",
    "\n",
    "\n",
    "#Algunas advertencias que queremos evitar\n",
    "import warnings\n",
    "warnings.filterwarnings(\"always\")"
   ]
  },
  {
   "cell_type": "markdown",
   "metadata": {},
   "source": [
    "## Indicaciones\n",
    "\n",
    "Este ejercicio tiene como objetivo implementar una red neuronal artificial de tipo perceptrón multicapa (MLP) para resolver un problema de regresión. Usaremos la librería sklearn. Consulte todo lo relacionado con la definición de hiperparámetros, los métodos para el entrenamiento y la predicción de nuevas muestras en el siguiente enlace: http://scikit-learn.org/stable/modules/generated/sklearn.neural_network.MLPRegressor.html#sklearn.neural_network.MLPRegressor"
   ]
  },
  {
   "cell_type": "markdown",
   "metadata": {},
   "source": [
    "Para este ejercicio usaremos la base de datos sobre calidad del aire, que ha sido usada en laboratorios previos, pero en este caso trataremos de predecir dos variables en lugar de una, es decir, abordaremos un problema de múltiples salidas."
   ]
  },
  {
   "cell_type": "code",
   "execution_count": 8,
   "metadata": {},
   "outputs": [],
   "source": [
    "#cargamos la bd que está en un archivo .data y ahora la podemos manejar de forma matricial\n",
    "db = np.loadtxt('DB/AirQuality.data',delimiter='\\t')  # Assuming tab-delimiter\n",
    "\n",
    "#Esta es la base de datos AirQuality del UCI Machine Learning Repository. En la siguiente URL se encuentra toda\n",
    "#la descripción de la base de datos y la contextualización del problema.\n",
    "#https://archive.ics.uci.edu/ml/datasets/Air+Quality#\n",
    "\n",
    "X = db[:,0:11]\n",
    "Y = db[:,11:13]"
   ]
  },
  {
   "cell_type": "code",
   "execution_count": 9,
   "metadata": {},
   "outputs": [],
   "source": [
    "#Mean Absolute Percentage Error para los problemas de regresión\n",
    "def MAPE(Y_est,Y):\n",
    "    N = np.size(Y)\n",
    "    mape = np.sum(abs((Y_est.reshape(N,1) - Y.reshape(N,1))/Y.reshape(N,1)))/N\n",
    "    return mape "
   ]
  },
  {
   "cell_type": "markdown",
   "metadata": {},
   "source": [
    "## Ejercicio 1\n",
    "\n",
    "Complete el script siguiente con el código necesario para usar una red neuronal tipo MLP para solucionar el problema de regresión propuesto. Como función de activación en las capas ocultas use la función 'tanh'. Ajuste el número máximo de épocas a 500."
   ]
  },
  {
   "cell_type": "code",
   "execution_count": 10,
   "metadata": {},
   "outputs": [
    {
     "name": "stderr",
     "output_type": "stream",
     "text": [
      "/Users/alejandro/py3/lib/python3.7/site-packages/sklearn/neural_network/multilayer_perceptron.py:564: ConvergenceWarning: Stochastic Optimizer: Maximum iterations (500) reached and the optimization hasn't converged yet.\n",
      "  % self.max_iter, ConvergenceWarning)\n",
      "/Users/alejandro/py3/lib/python3.7/site-packages/sklearn/neural_network/multilayer_perceptron.py:564: ConvergenceWarning: Stochastic Optimizer: Maximum iterations (500) reached and the optimization hasn't converged yet.\n",
      "  % self.max_iter, ConvergenceWarning)\n",
      "/Users/alejandro/py3/lib/python3.7/site-packages/sklearn/neural_network/multilayer_perceptron.py:564: ConvergenceWarning: Stochastic Optimizer: Maximum iterations (500) reached and the optimization hasn't converged yet.\n",
      "  % self.max_iter, ConvergenceWarning)\n"
     ]
    },
    {
     "name": "stdout",
     "output_type": "stream",
     "text": [
      "MAPE salida 1 = 0.07725+-0.0\n",
      "MAPE salida 2 = 1.73297+-0.06943\n",
      "MAPE total = 0.90511+-0.03471\n"
     ]
    },
    {
     "name": "stderr",
     "output_type": "stream",
     "text": [
      "/Users/alejandro/py3/lib/python3.7/site-packages/sklearn/neural_network/multilayer_perceptron.py:564: ConvergenceWarning: Stochastic Optimizer: Maximum iterations (500) reached and the optimization hasn't converged yet.\n",
      "  % self.max_iter, ConvergenceWarning)\n"
     ]
    }
   ],
   "source": [
    "from numpy import random\n",
    "from sklearn.neural_network import MLPRegressor\n",
    "from sklearn.model_selection import ShuffleSplit\n",
    "from sklearn import preprocessing\n",
    "#Validamos el modelo\n",
    "def main(hidden = (28,)):\n",
    "    Folds = 4\n",
    "    random.seed(19680801)\n",
    "    ErrorY1 = np.zeros(Folds)\n",
    "    ErrorY2 = np.zeros(Folds)\n",
    "    ErrorT = np.zeros(Folds)\n",
    "    ss = ShuffleSplit(n_splits=Folds, test_size=0.3)\n",
    "    j = 0\n",
    "    for train, test in ss.split(X):\n",
    "        Xtrain = X[train,:]\n",
    "        Ytrain = Y[train,:]\n",
    "        Xtest = X[test,:]\n",
    "        Ytest = Y[test,:]\n",
    "\n",
    "        #Normalizamos los datos\n",
    "        media = np.mean(Xtrain,axis=0)\n",
    "        desvia = np.std(Xtrain,axis=0)\n",
    "        Xtrain = preprocessing.scale(Xtrain)\n",
    "        Xtest = (Xtest - np.matlib.repmat(media, Xtest.shape[0], 1))/np.matlib.repmat(desvia, Xtest.shape[0], 1)\n",
    "\n",
    "        #Haga el llamado a la función para crear y entrenar el modelo usando los datos de entrenamiento\n",
    "        mlp = MLPRegressor(hidden_layer_sizes= hidden, activation='tanh', max_iter= 500)\n",
    "        mlp.fit(Xtrain,Ytrain)\n",
    "        #Use para el modelo para hacer predicciones sobre el conjunto Xtest\n",
    "        Yest = mlp.predict(Xtest)\n",
    "\n",
    "        #Mida el error MAPE para cada una de las dos salidas\n",
    "        ErrorY1[j] = MAPE(Yest[:,0], Ytest[:,0])\n",
    "        ErrorY2[j] = MAPE(Yest[:,1], Ytest[:,1])\n",
    "        ErrorT[j] = (ErrorY1[j] + ErrorY2[j])/2\n",
    "        j += 1\n",
    "        \n",
    "    mean1 = round(np.mean(ErrorY1),5)\n",
    "    std1 = round(np.std(np.std(ErrorY1)),5)\n",
    "    \n",
    "    mean2 = round(np.mean(ErrorY2),5)\n",
    "    std2 = round(np.std(ErrorY2),5)\n",
    "    \n",
    "    meanT = round(np.mean(ErrorT),5)\n",
    "    stdT = round(np.std(ErrorT),5)\n",
    "\n",
    "    return mean1,std1,mean2,std2,meanT,stdT\n",
    "\n",
    "mean1,std1,mean2,std2,meanT,stdT = main(hidden= (28,))\n",
    "\n",
    "print('MAPE salida 1 = ' + str(mean1) + '+-' + str(std1))\n",
    "print('MAPE salida 2 = ' + str(mean2) + '+-' + str(std2))\n",
    "print('MAPE total = '    + str(meanT) + '+-' + str(stdT))\n",
    "    \n"
   ]
  },
  {
   "cell_type": "code",
   "execution_count": 11,
   "metadata": {},
   "outputs": [
    {
     "name": "stderr",
     "output_type": "stream",
     "text": [
      "/Users/alejandro/py3/lib/python3.7/site-packages/sklearn/neural_network/multilayer_perceptron.py:564: ConvergenceWarning: Stochastic Optimizer: Maximum iterations (500) reached and the optimization hasn't converged yet.\n",
      "  % self.max_iter, ConvergenceWarning)\n",
      "/Users/alejandro/py3/lib/python3.7/site-packages/sklearn/neural_network/multilayer_perceptron.py:564: ConvergenceWarning: Stochastic Optimizer: Maximum iterations (500) reached and the optimization hasn't converged yet.\n",
      "  % self.max_iter, ConvergenceWarning)\n",
      "/Users/alejandro/py3/lib/python3.7/site-packages/sklearn/neural_network/multilayer_perceptron.py:564: ConvergenceWarning: Stochastic Optimizer: Maximum iterations (500) reached and the optimization hasn't converged yet.\n",
      "  % self.max_iter, ConvergenceWarning)\n",
      "/Users/alejandro/py3/lib/python3.7/site-packages/sklearn/neural_network/multilayer_perceptron.py:564: ConvergenceWarning: Stochastic Optimizer: Maximum iterations (500) reached and the optimization hasn't converged yet.\n",
      "  % self.max_iter, ConvergenceWarning)\n"
     ]
    },
    {
     "name": "stdout",
     "output_type": "stream",
     "text": [
      "0\n",
      "MAPE salida 1 = 0.08623+-0.0\n",
      "MAPE salida 2 = 2.39858+-0.15855\n",
      "MAPE total = 1.24241+-0.07903\n"
     ]
    },
    {
     "name": "stderr",
     "output_type": "stream",
     "text": [
      "/Users/alejandro/py3/lib/python3.7/site-packages/sklearn/neural_network/multilayer_perceptron.py:564: ConvergenceWarning: Stochastic Optimizer: Maximum iterations (500) reached and the optimization hasn't converged yet.\n",
      "  % self.max_iter, ConvergenceWarning)\n",
      "/Users/alejandro/py3/lib/python3.7/site-packages/sklearn/neural_network/multilayer_perceptron.py:564: ConvergenceWarning: Stochastic Optimizer: Maximum iterations (500) reached and the optimization hasn't converged yet.\n",
      "  % self.max_iter, ConvergenceWarning)\n",
      "/Users/alejandro/py3/lib/python3.7/site-packages/sklearn/neural_network/multilayer_perceptron.py:564: ConvergenceWarning: Stochastic Optimizer: Maximum iterations (500) reached and the optimization hasn't converged yet.\n",
      "  % self.max_iter, ConvergenceWarning)\n"
     ]
    },
    {
     "name": "stdout",
     "output_type": "stream",
     "text": [
      "1\n",
      "MAPE salida 1 = 0.08204+-0.0\n",
      "MAPE salida 2 = 2.07043+-0.11873\n",
      "MAPE total = 1.07623+-0.05892\n"
     ]
    },
    {
     "name": "stderr",
     "output_type": "stream",
     "text": [
      "/Users/alejandro/py3/lib/python3.7/site-packages/sklearn/neural_network/multilayer_perceptron.py:564: ConvergenceWarning: Stochastic Optimizer: Maximum iterations (500) reached and the optimization hasn't converged yet.\n",
      "  % self.max_iter, ConvergenceWarning)\n",
      "/Users/alejandro/py3/lib/python3.7/site-packages/sklearn/neural_network/multilayer_perceptron.py:564: ConvergenceWarning: Stochastic Optimizer: Maximum iterations (500) reached and the optimization hasn't converged yet.\n",
      "  % self.max_iter, ConvergenceWarning)\n",
      "/Users/alejandro/py3/lib/python3.7/site-packages/sklearn/neural_network/multilayer_perceptron.py:564: ConvergenceWarning: Stochastic Optimizer: Maximum iterations (500) reached and the optimization hasn't converged yet.\n",
      "  % self.max_iter, ConvergenceWarning)\n",
      "/Users/alejandro/py3/lib/python3.7/site-packages/sklearn/neural_network/multilayer_perceptron.py:564: ConvergenceWarning: Stochastic Optimizer: Maximum iterations (500) reached and the optimization hasn't converged yet.\n",
      "  % self.max_iter, ConvergenceWarning)\n"
     ]
    },
    {
     "name": "stdout",
     "output_type": "stream",
     "text": [
      "2\n",
      "MAPE salida 1 = 0.07725+-0.0\n",
      "MAPE salida 2 = 1.73297+-0.06943\n",
      "MAPE total = 0.90511+-0.03471\n"
     ]
    },
    {
     "name": "stderr",
     "output_type": "stream",
     "text": [
      "/Users/alejandro/py3/lib/python3.7/site-packages/sklearn/neural_network/multilayer_perceptron.py:564: ConvergenceWarning: Stochastic Optimizer: Maximum iterations (500) reached and the optimization hasn't converged yet.\n",
      "  % self.max_iter, ConvergenceWarning)\n",
      "/Users/alejandro/py3/lib/python3.7/site-packages/sklearn/neural_network/multilayer_perceptron.py:564: ConvergenceWarning: Stochastic Optimizer: Maximum iterations (500) reached and the optimization hasn't converged yet.\n",
      "  % self.max_iter, ConvergenceWarning)\n",
      "/Users/alejandro/py3/lib/python3.7/site-packages/sklearn/neural_network/multilayer_perceptron.py:564: ConvergenceWarning: Stochastic Optimizer: Maximum iterations (500) reached and the optimization hasn't converged yet.\n",
      "  % self.max_iter, ConvergenceWarning)\n"
     ]
    },
    {
     "name": "stdout",
     "output_type": "stream",
     "text": [
      "3\n",
      "MAPE salida 1 = 0.07699+-0.0\n",
      "MAPE salida 2 = 1.51588+-0.05246\n",
      "MAPE total = 0.79644+-0.02698\n"
     ]
    },
    {
     "name": "stderr",
     "output_type": "stream",
     "text": [
      "/Users/alejandro/py3/lib/python3.7/site-packages/sklearn/neural_network/multilayer_perceptron.py:564: ConvergenceWarning: Stochastic Optimizer: Maximum iterations (500) reached and the optimization hasn't converged yet.\n",
      "  % self.max_iter, ConvergenceWarning)\n",
      "/Users/alejandro/py3/lib/python3.7/site-packages/sklearn/neural_network/multilayer_perceptron.py:564: ConvergenceWarning: Stochastic Optimizer: Maximum iterations (500) reached and the optimization hasn't converged yet.\n",
      "  % self.max_iter, ConvergenceWarning)\n"
     ]
    },
    {
     "name": "stdout",
     "output_type": "stream",
     "text": [
      "4\n",
      "MAPE salida 1 = 0.0757+-0.0\n",
      "MAPE salida 2 = 1.46091+-0.07528\n",
      "MAPE total = 0.7683+-0.03798\n"
     ]
    },
    {
     "name": "stderr",
     "output_type": "stream",
     "text": [
      "/Users/alejandro/py3/lib/python3.7/site-packages/sklearn/neural_network/multilayer_perceptron.py:564: ConvergenceWarning: Stochastic Optimizer: Maximum iterations (500) reached and the optimization hasn't converged yet.\n",
      "  % self.max_iter, ConvergenceWarning)\n",
      "/Users/alejandro/py3/lib/python3.7/site-packages/sklearn/neural_network/multilayer_perceptron.py:564: ConvergenceWarning: Stochastic Optimizer: Maximum iterations (500) reached and the optimization hasn't converged yet.\n",
      "  % self.max_iter, ConvergenceWarning)\n",
      "/Users/alejandro/py3/lib/python3.7/site-packages/sklearn/neural_network/multilayer_perceptron.py:564: ConvergenceWarning: Stochastic Optimizer: Maximum iterations (500) reached and the optimization hasn't converged yet.\n",
      "  % self.max_iter, ConvergenceWarning)\n",
      "/Users/alejandro/py3/lib/python3.7/site-packages/sklearn/neural_network/multilayer_perceptron.py:564: ConvergenceWarning: Stochastic Optimizer: Maximum iterations (500) reached and the optimization hasn't converged yet.\n",
      "  % self.max_iter, ConvergenceWarning)\n"
     ]
    },
    {
     "name": "stdout",
     "output_type": "stream",
     "text": [
      "5\n",
      "MAPE salida 1 = 0.07142+-0.0\n",
      "MAPE salida 2 = 1.2208+-0.09974\n",
      "MAPE total = 0.64611+-0.05068\n",
      "6\n",
      "MAPE salida 1 = 0.06621+-0.0\n",
      "MAPE salida 2 = 1.10994+-0.08679\n",
      "MAPE total = 0.58807+-0.04318\n",
      "7\n",
      "MAPE salida 1 = 0.06788+-0.0\n",
      "MAPE salida 2 = 1.00287+-0.03377\n",
      "MAPE total = 0.53538+-0.01678\n",
      "8\n",
      "MAPE salida 1 = 0.06722+-0.0\n",
      "MAPE salida 2 = 1.09435+-0.1408\n",
      "MAPE total = 0.58079+-0.07162\n",
      "9\n",
      "MAPE salida 1 = 0.06601+-0.0\n",
      "MAPE salida 2 = 1.02205+-0.07211\n",
      "MAPE total = 0.54403+-0.03573\n"
     ]
    }
   ],
   "source": [
    "num_layers = [1,1,1,1,1,2,2,2,2,2]\n",
    "num_neurons_per_layer = [20,24,28,32,36,20,24,28,32,36]\n",
    "mape_1 = np.zeros(10)\n",
    "mape_ic_1 = np.zeros(10)\n",
    "mape_2 = np.zeros(10)\n",
    "mape_ic_2 = np.zeros(10)\n",
    "\n",
    "for i in range(0,10):\n",
    "    if(num_layers[i] == 1):\n",
    "        mape_1[i],mape_ic_1[i],mape_2[i],mape_ic_2[i],meanT,stdT = main(hidden= (num_neurons_per_layer[i]))\n",
    "    elif(num_layers[i] == 2):\n",
    "        mape_1[i],mape_ic_1[i],mape_2[i],mape_ic_2[i],meanT,stdT = main(hidden= (num_neurons_per_layer[i],num_neurons_per_layer[i]))\n",
    "    print(i)\n",
    "    print('MAPE salida 1 = ' + str(mape_1[i]) + '+-' + str(mape_ic_1[i]))\n",
    "    print('MAPE salida 2 = ' + str(mape_2[i]) + '+-' + str(mape_ic_2[i]))\n",
    "    print('MAPE total = '    + str(meanT) + '+-' + str(stdT))"
   ]
  },
  {
   "cell_type": "markdown",
   "metadata": {},
   "source": [
    "## Ejercicio 2\n",
    "\n",
    "Una vez completado el código anterior. Realice los experimentos necesarios para completar la tabla siguiente:"
   ]
  },
  {
   "cell_type": "code",
   "execution_count": 13,
   "metadata": {},
   "outputs": [
    {
     "data": {
      "application/vnd.jupyter.widget-view+json": {
       "model_id": "d2296becc6c6488eb9ddb7ad3027dfac",
       "version_major": 2,
       "version_minor": 0
      },
      "text/plain": [
       "QgridWidget(grid_options={'fullWidthRows': True, 'syncColumnCellResize': True, 'forceFitColumns': True, 'defau…"
      ]
     },
     "metadata": {},
     "output_type": "display_data"
    }
   ],
   "source": [
    "import pandas as pd\n",
    "import qgrid\n",
    "df_types = pd.DataFrame({\n",
    "    'N. de capas ocultas' : pd.Series([1,1,1,1,1,2,2,2,2,2]),\n",
    "    'Neuronas por capa' : pd.Series([20,24,28,32,36,20,24,28,32,36])})\n",
    "df_types[\"MAPE salida 1\"] = mape_1\n",
    "df_types[\"IC MAPE salida 1\"] = mape_ic_1\n",
    "df_types[\"MAPE salida 2\"] = mape_2\n",
    "df_types[\"IC MAPE salida 2\"] = mape_ic_2\n",
    "df_types.set_index(['N. de capas ocultas','Neuronas por capa'], inplace=True)\n",
    "#df_types.sort_index(inplace=True)\n",
    "qgrid_widget = qgrid.show_grid(df_types, show_toolbar=False)\n",
    "qgrid_widget"
   ]
  },
  {
   "cell_type": "markdown",
   "metadata": {},
   "source": [
    "Ejecute la siguiente instrucción para dejar guardados en el notebook los resultados de las pruebas."
   ]
  },
  {
   "cell_type": "code",
   "execution_count": 14,
   "metadata": {},
   "outputs": [
    {
     "data": {
      "text/html": [
       "<div>\n",
       "<style scoped>\n",
       "    .dataframe tbody tr th:only-of-type {\n",
       "        vertical-align: middle;\n",
       "    }\n",
       "\n",
       "    .dataframe tbody tr th {\n",
       "        vertical-align: top;\n",
       "    }\n",
       "\n",
       "    .dataframe thead th {\n",
       "        text-align: right;\n",
       "    }\n",
       "</style>\n",
       "<table border=\"1\" class=\"dataframe\">\n",
       "  <thead>\n",
       "    <tr style=\"text-align: right;\">\n",
       "      <th></th>\n",
       "      <th></th>\n",
       "      <th>MAPE salida 1</th>\n",
       "      <th>IC MAPE salida 1</th>\n",
       "      <th>MAPE salida 2</th>\n",
       "      <th>IC MAPE salida 2</th>\n",
       "    </tr>\n",
       "    <tr>\n",
       "      <th>N. de capas ocultas</th>\n",
       "      <th>Neuronas por capa</th>\n",
       "      <th></th>\n",
       "      <th></th>\n",
       "      <th></th>\n",
       "      <th></th>\n",
       "    </tr>\n",
       "  </thead>\n",
       "  <tbody>\n",
       "    <tr>\n",
       "      <th rowspan=\"5\" valign=\"top\">1</th>\n",
       "      <th>20</th>\n",
       "      <td>0.08623</td>\n",
       "      <td>0.0</td>\n",
       "      <td>2.39858</td>\n",
       "      <td>0.15855</td>\n",
       "    </tr>\n",
       "    <tr>\n",
       "      <th>24</th>\n",
       "      <td>0.08204</td>\n",
       "      <td>0.0</td>\n",
       "      <td>2.07043</td>\n",
       "      <td>0.11873</td>\n",
       "    </tr>\n",
       "    <tr>\n",
       "      <th>28</th>\n",
       "      <td>0.07725</td>\n",
       "      <td>0.0</td>\n",
       "      <td>1.73297</td>\n",
       "      <td>0.06943</td>\n",
       "    </tr>\n",
       "    <tr>\n",
       "      <th>32</th>\n",
       "      <td>0.07699</td>\n",
       "      <td>0.0</td>\n",
       "      <td>1.51588</td>\n",
       "      <td>0.05246</td>\n",
       "    </tr>\n",
       "    <tr>\n",
       "      <th>36</th>\n",
       "      <td>0.07570</td>\n",
       "      <td>0.0</td>\n",
       "      <td>1.46091</td>\n",
       "      <td>0.07528</td>\n",
       "    </tr>\n",
       "    <tr>\n",
       "      <th rowspan=\"5\" valign=\"top\">2</th>\n",
       "      <th>20</th>\n",
       "      <td>0.07142</td>\n",
       "      <td>0.0</td>\n",
       "      <td>1.22080</td>\n",
       "      <td>0.09974</td>\n",
       "    </tr>\n",
       "    <tr>\n",
       "      <th>24</th>\n",
       "      <td>0.06621</td>\n",
       "      <td>0.0</td>\n",
       "      <td>1.10994</td>\n",
       "      <td>0.08679</td>\n",
       "    </tr>\n",
       "    <tr>\n",
       "      <th>28</th>\n",
       "      <td>0.06788</td>\n",
       "      <td>0.0</td>\n",
       "      <td>1.00287</td>\n",
       "      <td>0.03377</td>\n",
       "    </tr>\n",
       "    <tr>\n",
       "      <th>32</th>\n",
       "      <td>0.06722</td>\n",
       "      <td>0.0</td>\n",
       "      <td>1.09435</td>\n",
       "      <td>0.14080</td>\n",
       "    </tr>\n",
       "    <tr>\n",
       "      <th>36</th>\n",
       "      <td>0.06601</td>\n",
       "      <td>0.0</td>\n",
       "      <td>1.02205</td>\n",
       "      <td>0.07211</td>\n",
       "    </tr>\n",
       "  </tbody>\n",
       "</table>\n",
       "</div>"
      ],
      "text/plain": [
       "                                       MAPE salida 1  IC MAPE salida 1  \\\n",
       "N. de capas ocultas Neuronas por capa                                    \n",
       "1                   20                       0.08623               0.0   \n",
       "                    24                       0.08204               0.0   \n",
       "                    28                       0.07725               0.0   \n",
       "                    32                       0.07699               0.0   \n",
       "                    36                       0.07570               0.0   \n",
       "2                   20                       0.07142               0.0   \n",
       "                    24                       0.06621               0.0   \n",
       "                    28                       0.06788               0.0   \n",
       "                    32                       0.06722               0.0   \n",
       "                    36                       0.06601               0.0   \n",
       "\n",
       "                                       MAPE salida 2  IC MAPE salida 2  \n",
       "N. de capas ocultas Neuronas por capa                                   \n",
       "1                   20                       2.39858           0.15855  \n",
       "                    24                       2.07043           0.11873  \n",
       "                    28                       1.73297           0.06943  \n",
       "                    32                       1.51588           0.05246  \n",
       "                    36                       1.46091           0.07528  \n",
       "2                   20                       1.22080           0.09974  \n",
       "                    24                       1.10994           0.08679  \n",
       "                    28                       1.00287           0.03377  \n",
       "                    32                       1.09435           0.14080  \n",
       "                    36                       1.02205           0.07211  "
      ]
     },
     "execution_count": 14,
     "metadata": {},
     "output_type": "execute_result"
    }
   ],
   "source": [
    "qgrid_widget.get_changed_df()"
   ]
  },
  {
   "cell_type": "markdown",
   "metadata": {},
   "source": [
    "<b>Responda</b>:\n",
    "\n",
    "2.1 ¿Qué tipo de función de activación usa el modelo en la capa de salida?: \n",
    "\n",
    "En este caso la red neuronal para regresión utliza la funcion de activación \"identity\", en realidad no corresponde a ninguna funcion de activación sino es el mismo valor de entrada $f(x)=x$"
   ]
  },
  {
   "cell_type": "markdown",
   "metadata": {},
   "source": [
    "## Ejercicio 3.\n",
    "\n",
    "A continuación se leen los datos de un problema de clasificación. El problema corresponde a la clasifiación de dígitos escritos a mano. Usaremos únicamente 4 de las 10 clases disponibles. Los datos fueron preprocesados para reducir el número de características. La técnica usada será analizada más adelante en el curso."
   ]
  },
  {
   "cell_type": "code",
   "execution_count": 16,
   "metadata": {},
   "outputs": [],
   "source": [
    "from sklearn.datasets import load_digits\n",
    "from sklearn.decomposition import PCA\n",
    "digits = load_digits(n_class=4)\n",
    "\n",
    "#--------- preprocesamiento--------------------\n",
    "pca = PCA(0.99, whiten=True)\n",
    "data = pca.fit_transform(digits.data)\n",
    "\n",
    "#---------- Datos a usar ----------------------\n",
    "X = data\n",
    "Y = digits.target"
   ]
  },
  {
   "cell_type": "markdown",
   "metadata": {},
   "source": [
    "Este ejercicio tiene como objetivo implementar una red neuronal artificial de tipo perceptrón multicapa (MLP) para resolver un problema de clasificación. Usaremos la librería sklearn. Consulte todo lo relacionado con la definición de hiperparámetros, los métodos para el entrenamiento y la predicción de nuevas muestras en el siguiente enlace: http://scikit-learn.org/stable/modules/generated/sklearn.neural_network.MLPClassifier.html#sklearn.neural_network.MLPClassifier"
   ]
  },
  {
   "cell_type": "markdown",
   "metadata": {},
   "source": [
    "Complete el script siguiente con el código necesario para usar una red neuronal tipo MLP para solucionar el problema de clasificación propuesto. Como función de activación en las capas ocultas use la función 'tanh'. Ajuste el número máximo de épocas a 500."
   ]
  },
  {
   "cell_type": "code",
   "execution_count": 31,
   "metadata": {},
   "outputs": [],
   "source": [
    "from sklearn.neural_network import MLPClassifier\n",
    "from sklearn.model_selection import StratifiedKFold\n",
    "def mainClassifier(hidden = (24)):\n",
    "    Folds = 4\n",
    "    random.seed(19680801)\n",
    "    EficienciaTrain = np.zeros(Folds)\n",
    "    EficienciaVal = np.zeros(Folds)\n",
    "    skf = StratifiedKFold(n_splits=Folds)\n",
    "    j = 0\n",
    "    for train, test in skf.split(X, Y):\n",
    "        Xtrain = X[train,:]\n",
    "        Ytrain = Y[train]\n",
    "        Xtest = X[test,:]\n",
    "        Ytest = Y[test]\n",
    "\n",
    "        #Normalizamos los datos\n",
    "        media = np.mean(Xtrain)\n",
    "        desvia = np.std(Xtrain)\n",
    "        Xtrain = preprocessing.scale(Xtrain)\n",
    "        Xtest = (Xtest - np.matlib.repmat(media, Xtest.shape[0], 1))/np.matlib.repmat(desvia, Xtest.shape[0], 1)\n",
    "\n",
    "        #Haga el llamado a la función para crear y entrenar el modelo usando los datos de entrenamiento\n",
    "        mlp = MLPClassifier(activation='tanh', hidden_layer_sizes=hidden, max_iter=500 )\n",
    "        mlp.fit(Xtrain,Ytrain)\n",
    "\n",
    "        #Validación con las muestras de entrenamiento\n",
    "        Ytrain_pred = mlp.predict(Xtrain)\n",
    "\n",
    "        #Validación con las muestras de test    \n",
    "        Yest = mlp.predict(Xtest)\n",
    "\n",
    "        #Evaluamos las predicciones del modelo con los datos de test\n",
    "        EficienciaTrain[j] = np.mean(Ytrain_pred == Ytrain)\n",
    "        EficienciaVal[j] = np.mean(Yest == Ytest)\n",
    "        j += 1\n",
    "    \n",
    "    mean = round(np.mean(EficienciaTrain),5)\n",
    "    std = round(np.std(EficienciaTrain),5)\n",
    "    \n",
    "    meanVal = round(np.mean(EficienciaVal),5)\n",
    "    stdVal = round(np.std(EficienciaVal),5)\n",
    "    \n",
    "    return mean,std,meanVal,stdVal\n",
    "\n",
    "#mean,std,meanVal,stdVal,mainClassifier()\n",
    "#print('Eficiencia durante el entrenamiento = ' + str(mean) + '+-' + str(std))\n",
    "#print('Eficiencia durante la validación = ' + str(np.mean(EficienciaVal)) + '+-' + str(np.std(EficienciaVal)))"
   ]
  },
  {
   "cell_type": "code",
   "execution_count": 34,
   "metadata": {},
   "outputs": [
    {
     "name": "stdout",
     "output_type": "stream",
     "text": [
      "Eficiencia durante el entrenamiento = 1.0+-0.0\n",
      "Eficiencia durante la validación = 0.96379+-0.02677\n",
      "Eficiencia durante el entrenamiento = 1.0+-0.0\n",
      "Eficiencia durante la validación = 0.9623+-0.03692\n",
      "Eficiencia durante el entrenamiento = 1.0+-0.0\n",
      "Eficiencia durante la validación = 0.96378+-0.02468\n",
      "Eficiencia durante el entrenamiento = 1.0+-0.0\n",
      "Eficiencia durante la validación = 0.95965+-0.02931\n",
      "Eficiencia durante el entrenamiento = 1.0+-0.0\n",
      "Eficiencia durante la validación = 0.95537+-0.03395\n",
      "Eficiencia durante el entrenamiento = 1.0+-0.0\n",
      "Eficiencia durante la validación = 0.96936+-0.02252\n",
      "Eficiencia durante el entrenamiento = 1.0+-0.0\n",
      "Eficiencia durante la validación = 0.95265+-0.03747\n",
      "Eficiencia durante el entrenamiento = 1.0+-0.0\n",
      "Eficiencia durante la validación = 0.95124+-0.03376\n",
      "Eficiencia durante el entrenamiento = 1.0+-0.0\n",
      "Eficiencia durante la validación = 0.95686+-0.03491\n",
      "Eficiencia durante el entrenamiento = 1.0+-0.0\n",
      "Eficiencia durante la validación = 0.96105+-0.01971\n"
     ]
    }
   ],
   "source": [
    "num_layers = [1,1,1,1,1,2,2,2,2,2]\n",
    "num_neurons_per_layer = [20,24,28,32,36,20,24,28,32,36]\n",
    "mean = np.zeros(10)\n",
    "std = np.zeros(10)\n",
    "meanVal = np.zeros(10)\n",
    "stdVal = np.zeros(10)\n",
    "\n",
    "for i in range(0,10):\n",
    "    if(num_layers[i] == 1):\n",
    "        mean[i], std[i], meanVal[i], stdVal[i]= mainClassifier(hidden= (num_neurons_per_layer[i]))\n",
    "    elif(num_layers[i] == 2):\n",
    "        mean[i], std[i], meanVal[i], stdVal[i]= mainClassifier(hidden= (num_neurons_per_layer[i],num_neurons_per_layer[i]))\n",
    "    print('Eficiencia durante el entrenamiento = ' + str(mean[i]) + '+-' + str(std[i]))\n",
    "    print('Eficiencia durante la validación = '    + str(meanVal[i]) + '+-' + str(stdVal[i]))"
   ]
  },
  {
   "cell_type": "markdown",
   "metadata": {},
   "source": [
    "## Ejercicio 4\n",
    "\n",
    "Una vez completado el código realice los experimentos necesarios para llenar la siguiente tabla:"
   ]
  },
  {
   "cell_type": "code",
   "execution_count": 35,
   "metadata": {},
   "outputs": [
    {
     "data": {
      "application/vnd.jupyter.widget-view+json": {
       "model_id": "22beb9fb2dd348fe9e331169369c2662",
       "version_major": 2,
       "version_minor": 0
      },
      "text/plain": [
       "QgridWidget(grid_options={'fullWidthRows': True, 'syncColumnCellResize': True, 'forceFitColumns': True, 'defau…"
      ]
     },
     "metadata": {},
     "output_type": "display_data"
    }
   ],
   "source": [
    "df_types = pd.DataFrame({\n",
    "    'N. de capas ocultas' : pd.Series([1,1,1,1,1,2,2,2,2,2]),\n",
    "    'Neuronas por capa' : pd.Series([20,24,28,32,36,20,24,28,32,36])})\n",
    "df_types[\"Eficiencia en validacion\"] = meanVal\n",
    "df_types[\"Intervalo de confianza\"] = stdVal\n",
    "df_types.set_index(['N. de capas ocultas','Neuronas por capa'], inplace=True)\n",
    "#df_types.sort_index(inplace=True)\n",
    "qgrid_widget = qgrid.show_grid(df_types, show_toolbar=False)\n",
    "qgrid_widget"
   ]
  },
  {
   "cell_type": "markdown",
   "metadata": {},
   "source": [
    "Ejecute la siguiente instrucción para dejar guardados en el notebook los resultados de las pruebas."
   ]
  },
  {
   "cell_type": "code",
   "execution_count": 36,
   "metadata": {
    "scrolled": true
   },
   "outputs": [
    {
     "data": {
      "text/html": [
       "<div>\n",
       "<style scoped>\n",
       "    .dataframe tbody tr th:only-of-type {\n",
       "        vertical-align: middle;\n",
       "    }\n",
       "\n",
       "    .dataframe tbody tr th {\n",
       "        vertical-align: top;\n",
       "    }\n",
       "\n",
       "    .dataframe thead th {\n",
       "        text-align: right;\n",
       "    }\n",
       "</style>\n",
       "<table border=\"1\" class=\"dataframe\">\n",
       "  <thead>\n",
       "    <tr style=\"text-align: right;\">\n",
       "      <th></th>\n",
       "      <th></th>\n",
       "      <th>Eficiencia en validacion</th>\n",
       "      <th>Intervalo de confianza</th>\n",
       "    </tr>\n",
       "    <tr>\n",
       "      <th>N. de capas ocultas</th>\n",
       "      <th>Neuronas por capa</th>\n",
       "      <th></th>\n",
       "      <th></th>\n",
       "    </tr>\n",
       "  </thead>\n",
       "  <tbody>\n",
       "    <tr>\n",
       "      <th rowspan=\"5\" valign=\"top\">1</th>\n",
       "      <th>20</th>\n",
       "      <td>0.96379</td>\n",
       "      <td>0.02677</td>\n",
       "    </tr>\n",
       "    <tr>\n",
       "      <th>24</th>\n",
       "      <td>0.96230</td>\n",
       "      <td>0.03692</td>\n",
       "    </tr>\n",
       "    <tr>\n",
       "      <th>28</th>\n",
       "      <td>0.96378</td>\n",
       "      <td>0.02468</td>\n",
       "    </tr>\n",
       "    <tr>\n",
       "      <th>32</th>\n",
       "      <td>0.95965</td>\n",
       "      <td>0.02931</td>\n",
       "    </tr>\n",
       "    <tr>\n",
       "      <th>36</th>\n",
       "      <td>0.95537</td>\n",
       "      <td>0.03395</td>\n",
       "    </tr>\n",
       "    <tr>\n",
       "      <th rowspan=\"5\" valign=\"top\">2</th>\n",
       "      <th>20</th>\n",
       "      <td>0.96936</td>\n",
       "      <td>0.02252</td>\n",
       "    </tr>\n",
       "    <tr>\n",
       "      <th>24</th>\n",
       "      <td>0.95265</td>\n",
       "      <td>0.03747</td>\n",
       "    </tr>\n",
       "    <tr>\n",
       "      <th>28</th>\n",
       "      <td>0.95124</td>\n",
       "      <td>0.03376</td>\n",
       "    </tr>\n",
       "    <tr>\n",
       "      <th>32</th>\n",
       "      <td>0.95686</td>\n",
       "      <td>0.03491</td>\n",
       "    </tr>\n",
       "    <tr>\n",
       "      <th>36</th>\n",
       "      <td>0.96105</td>\n",
       "      <td>0.01971</td>\n",
       "    </tr>\n",
       "  </tbody>\n",
       "</table>\n",
       "</div>"
      ],
      "text/plain": [
       "                                       Eficiencia en validacion  \\\n",
       "N. de capas ocultas Neuronas por capa                             \n",
       "1                   20                                  0.96379   \n",
       "                    24                                  0.96230   \n",
       "                    28                                  0.96378   \n",
       "                    32                                  0.95965   \n",
       "                    36                                  0.95537   \n",
       "2                   20                                  0.96936   \n",
       "                    24                                  0.95265   \n",
       "                    28                                  0.95124   \n",
       "                    32                                  0.95686   \n",
       "                    36                                  0.96105   \n",
       "\n",
       "                                       Intervalo de confianza  \n",
       "N. de capas ocultas Neuronas por capa                          \n",
       "1                   20                                0.02677  \n",
       "                    24                                0.03692  \n",
       "                    28                                0.02468  \n",
       "                    32                                0.02931  \n",
       "                    36                                0.03395  \n",
       "2                   20                                0.02252  \n",
       "                    24                                0.03747  \n",
       "                    28                                0.03376  \n",
       "                    32                                0.03491  \n",
       "                    36                                0.01971  "
      ]
     },
     "execution_count": 36,
     "metadata": {},
     "output_type": "execute_result"
    }
   ],
   "source": [
    "qgrid_widget.get_changed_df()"
   ]
  },
  {
   "cell_type": "markdown",
   "metadata": {},
   "source": [
    "<b>Responda</b>:\n",
    "\n",
    "4.1 ¿Qué tipo de función de activación usa el modelo en la capa de salida?: \n",
    "\n",
    "En la capa de la salida la función de activación es \"softmax\", se utliza el atributo del MLPRegressor out_activation_\n",
    "\n",
    "4.2 ¿Cuántas neuronas en la capa de salida tiene el modelo?¿Porqué debe tener ese número?\n",
    "\n",
    "Hay 4 neuronas en la capa de salida que corresponde a las 4 clases del problema de clasificación, se utiliza el atributo  n_outputs_"
   ]
  },
  {
   "cell_type": "code",
   "execution_count": null,
   "metadata": {},
   "outputs": [],
   "source": []
  }
 ],
 "metadata": {
  "kernelspec": {
   "display_name": "Python 3",
   "language": "python",
   "name": "python3"
  },
  "language_info": {
   "codemirror_mode": {
    "name": "ipython",
    "version": 3
   },
   "file_extension": ".py",
   "mimetype": "text/x-python",
   "name": "python",
   "nbconvert_exporter": "python",
   "pygments_lexer": "ipython3",
   "version": "3.5.2"
  }
 },
 "nbformat": 4,
 "nbformat_minor": 2
}
