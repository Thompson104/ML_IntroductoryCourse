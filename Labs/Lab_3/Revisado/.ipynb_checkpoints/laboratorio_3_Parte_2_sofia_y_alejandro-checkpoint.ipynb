{
 "cells": [
  {
   "cell_type": "markdown",
   "metadata": {},
   "source": [
    "# Laboratorio 3 - Parte 2\n",
    "\n",
    "### Arboles de decisión y Random Forest\n",
    "\n",
    "### 2018-II\n",
    "\n",
    "#### Profesor: Julián D. Arias Londoño\n",
    "#### julian.ariasl@udea.edu.co\n"
   ]
  },
  {
   "cell_type": "markdown",
   "metadata": {},
   "source": [
    "## Guía del laboratorio\n",
    "\n",
    "En esta archivo va a encontrar tanto celdas de código cómo celdas de texto con las instrucciones para desarrollar el laboratorio.\n",
    "\n",
    "Lea atentamente las instrucciones entregadas en las celdas de texto correspondientes y proceda con la solución de las preguntas planteadas.\n",
    "\n",
    "Nota: no olvide ir ejecutando las celdas de código de arriba hacia abajo para que no tenga errores de importación de librerías o por falta de definición de variables."
   ]
  },
  {
   "cell_type": "code",
   "execution_count": 1,
   "metadata": {},
   "outputs": [
    {
     "name": "stdout",
     "output_type": "stream",
     "text": [
      "Haga click en el siguiente enlace para autenticarse con su cuenta de correo institucional\n",
      "https://accounts.google.com/o/oauth2/auth?client_id=893762525034-g9d91ddls9e19a1q77c7hsq2rhgqo9h7.apps.googleusercontent.com&redirect_uri=http%3A%2F%2Flocalhost%3A8080&scope=profile+email&access_type=offline&response_type=code\n",
      "waiting for authentication ...\n",
      "code=4/XQB0MC8bMCFEzd5DIbrJ_MydX3iBOLxkm0Fu4Z2GkdZw82aCljostsp5EzAR7xxpiE43NSp9cmPaeksb-Xd7RIU&scope=https://www.googleapis.com/auth/userinfo.profile+https://www.googleapis.com/auth/userinfo.email\n",
      "No authentication\n"
     ]
    },
    {
     "data": {
      "text/html": [],
      "text/plain": [
       "<IPython.core.display.HTML object>"
      ]
     },
     "execution_count": 1,
     "metadata": {},
     "output_type": "execute_result"
    }
   ],
   "source": [
    "#Tomado de https://github.com/rramosp/mooc-grader\n",
    "from Autentication import *#python 3\n",
    "import inspect, urllib\n",
    "html, auth_code, userinfo = google_authenticate(PORT_NUMBER=8080)\n",
    "html"
   ]
  },
  {
   "cell_type": "markdown",
   "metadata": {},
   "source": [
    "#### Segundo integrante:\n",
    "Deiry Sofia Navas Murial\n"
   ]
  },
  {
   "cell_type": "markdown",
   "metadata": {},
   "source": [
    "<b>Nota</b>: 4.5"
   ]
  },
  {
   "cell_type": "code",
   "execution_count": 21,
   "metadata": {},
   "outputs": [],
   "source": [
    "%matplotlib inline\n",
    "import numpy as np\n",
    "import scipy as sc\n",
    "import matplotlib.pyplot as plt\n",
    "from scipy import stats\n",
    "from __future__ import division\n",
    "\n",
    "#Algunas advertencias que queremos evitar\n",
    "import warnings\n",
    "warnings.filterwarnings(\"always\")"
   ]
  },
  {
   "cell_type": "markdown",
   "metadata": {},
   "source": [
    "## Ejercicio 1\n",
    "\n",
    "A continuación se leen los datos de un problema de clasificación. El problema corresponde a la clasifiación de dígitos escritos a mano, el cual fue abordado en el laboratorio anterior. Usaremos únicamente 4 de las 10 clases disponibles. Los datos fueron preprocesados para reducir el número de características. La técnica usada será analizada más adelante en el curso."
   ]
  },
  {
   "cell_type": "code",
   "execution_count": 22,
   "metadata": {},
   "outputs": [],
   "source": [
    "from sklearn.datasets import load_digits\n",
    "from sklearn.decomposition import PCA\n",
    "digits = load_digits(n_class=4)\n",
    "\n",
    "#--------- preprocesamiento--------------------\n",
    "pca = PCA(0.99, whiten=True)\n",
    "data = pca.fit_transform(digits.data)\n",
    "\n",
    "#---------- Datos a usar ----------------------\n",
    "X = data\n",
    "Y = digits.target\n",
    "    "
   ]
  },
  {
   "cell_type": "markdown",
   "metadata": {},
   "source": [
    "En la siguiente celda se define una simulación para entrenar y validar un modelo usando los datos previamente cargados. Complete el código para usar como modelo de predicción un arbol de decisión. Debe consultar todo lo relacionado con la creación, entrenamiento y uso en predicción de este modelo usando la librería scikit-learn. Consultar aquí: http://scikit-learn.org/stable/modules/generated/sklearn.tree.DecisionTreeClassifier.html\n",
    "\n",
    "<b>Note</b> que existe una clase para modelos de clasificación y otra para modelos de regresión:\n",
    "http://scikit-learn.org/stable/modules/generated/sklearn.tree.DecisionTreeRegressor.html"
   ]
  },
  {
   "cell_type": "code",
   "execution_count": 23,
   "metadata": {},
   "outputs": [],
   "source": [
    "from sklearn.tree import export_graphviz\n",
    "import graphviz \n",
    "\n",
    "def graph(model):\n",
    "    # Visualize data\n",
    "    dot_data = export_graphviz(model,\n",
    "                                    out_file=None,\n",
    "                                    filled=True,\n",
    "                                    rounded=True)\n",
    "\n",
    "    graph1 = graphviz.Source(dot_data)  \n",
    "    graph1 "
   ]
  },
  {
   "cell_type": "code",
   "execution_count": 100,
   "metadata": {},
   "outputs": [
    {
     "name": "stdout",
     "output_type": "stream",
     "text": [
      "Eficiencia durante el entrenamiento = 1.0 +- 0.0\n",
      "Eficiencia durante la validación = 0.90418 +- 0.03326\n"
     ]
    }
   ],
   "source": [
    "import math\n",
    "import numpy as np\n",
    "from numpy import random\n",
    "from sklearn.model_selection import StratifiedKFold\n",
    "from sklearn.tree import DecisionTreeClassifier\n",
    "from sklearn.ensemble import RandomForestClassifier\n",
    "from sklearn.ensemble import BaggingClassifier\n",
    "\n",
    "def train_DI3(max_depth=None):\n",
    "#Validamos el modelo\n",
    "    Folds = 4\n",
    "    random.seed(19680801)\n",
    "    EficienciaTrain = np.zeros(Folds)\n",
    "    EficienciaVal = np.zeros(Folds)\n",
    "    skf = StratifiedKFold(n_splits=Folds)\n",
    "    j = 0\n",
    "    for train, test in skf.split(X, Y):\n",
    "        Xtrain = X[train,:]\n",
    "        Ytrain = Y[train]\n",
    "        Xtest = X[test,:]\n",
    "        Ytest = Y[test]\n",
    "\n",
    "        #Normalizamos los datos\n",
    "        media = np.mean(Xtrain)\n",
    "        desvia = np.std(Xtrain)\n",
    "        #Xtrain = sc.stats.stats.zscore(Xtrain)\n",
    "        #Xtest = (Xtest - np.matlib.repmat(media, Xtest.shape[0], 1))/np.matlib.repmat(desvia, Xtest.shape[0], 1)\n",
    "\n",
    "        #Haga el llamado a la función para crear y entrenar el modelo usando los datos de entrenamiento\n",
    "        model = DecisionTreeClassifier(max_depth = max_depth)\n",
    "        model.fit(X=Xtrain, y=Ytrain)\n",
    "        #graph(model)\n",
    "\n",
    "\n",
    "        #Validación\n",
    "        Ytrain_pred = model.predict(Xtrain) #Use el modelo previamente entrenado para hacer predicciones con las mismas muestras de entrenamiento\n",
    "        Yest = model.predict(Xtest) #Use el modelo previamente entrenado para hacer predicciones con las muestras de test\n",
    "\n",
    "        #Evaluamos las predicciones del modelo con los datos de test\n",
    "        EficienciaTrain[j] = np.mean(Ytrain_pred.ravel() == Ytrain.ravel())\n",
    "        EficienciaVal[j] = np.mean(Yest.ravel() == Ytest.ravel())\n",
    "        j += 1\n",
    "        \n",
    "    mean = round(np.mean(EficienciaTrain),5)\n",
    "    std = round(np.std(EficienciaTrain),5)\n",
    "    \n",
    "    meanVal = round(np.mean(EficienciaVal),5)\n",
    "    stdVal = round(np.std(EficienciaVal),5)\n",
    "    \n",
    "    return (mean, std, meanVal, stdVal)\n",
    "\n",
    "mean, std, meanVal, stdVal = train_DI3()\n",
    "print('Eficiencia durante el entrenamiento = ' + str(mean) + ' +- ' + str(std))\n",
    "print('Eficiencia durante la validación = ' + str(meanVal) + ' +- ' + str(stdVal))"
   ]
  },
  {
   "cell_type": "markdown",
   "metadata": {},
   "source": [
    "Responda:\n",
    "\n",
    "1.1 ¿Cuáles criterios para detener el crecimiento del árbol o de los nodos están disponibles en la librería?:\n",
    "\n",
    "En la librería se encuentra disponible el criterio de ganancia de información \"*entropía*\" y el indice \"*gni*\" como medida de impureza del nodo.\n",
    "\n",
    "1.2. ¿Cuáles son los parámetros asociados con los criterios enumerados en el punto anterior?:\n",
    "\n",
    "La profundidad máxima del árbol para evitar el sobre ajuste\n"
   ]
  },
  {
   "cell_type": "markdown",
   "metadata": {},
   "source": [
    "## Ejercicio 2\n",
    "\n",
    "Una vez completado el código realice los experimentos necesarios para llenar la siguiente tabla:"
   ]
  },
  {
   "cell_type": "code",
   "execution_count": 96,
   "metadata": {},
   "outputs": [
    {
     "name": "stdout",
     "output_type": "stream",
     "text": [
      "Eficiencia durante el entrenamiento = 0.98288 +- 0.00458\n",
      "Eficiencia durante la validación = 0.90981 +- 0.04601\n",
      "Eficiencia durante el entrenamiento = 0.99491 +- 0.00273\n",
      "Eficiencia durante la validación = 0.90556 +- 0.04231\n",
      "Eficiencia durante el entrenamiento = 0.99954 +- 0.0008\n",
      "Eficiencia durante la validación = 0.90137 +- 0.03586\n",
      "Eficiencia durante el entrenamiento = 0.99954 +- 0.0008\n",
      "Eficiencia durante la validación = 0.90278 +- 0.0345\n",
      "Eficiencia durante el entrenamiento = 1.0 +- 0.0\n",
      "Eficiencia durante la validación = 0.90418 +- 0.03326\n",
      "Eficiencia durante el entrenamiento = 1.0 +- 0.0\n",
      "Eficiencia durante la validación = 0.90418 +- 0.03326\n",
      "Eficiencia durante el entrenamiento = 1.0 +- 0.0\n",
      "Eficiencia durante la validación = 0.90418 +- 0.03326\n",
      "Eficiencia durante el entrenamiento = 1.0 +- 0.0\n",
      "Eficiencia durante la validación = 0.90418 +- 0.03326\n",
      "Eficiencia durante el entrenamiento = 1.0 +- 0.0\n",
      "Eficiencia durante la validación = 0.90418 +- 0.03326\n"
     ]
    }
   ],
   "source": [
    "# 6,7,8,9 no van en la tabla\n",
    "max_depth = [5,6,7,8,9,10,20,30,50]\n",
    "efi_val = np.zeros(len(max_depth))\n",
    "interval = np.zeros(len(max_depth))\n",
    "j = 0\n",
    "for i in max_depth:\n",
    "    mean, std , efi_val[j], interval[j] = train_DI3(max_depth=i)\n",
    "    print('Eficiencia durante el entrenamiento = ' + str(mean) + ' +- ' + str(std))\n",
    "    print('Eficiencia durante la validación = ' + str(efi_val[j]) + ' +- ' + str(interval[j]))\n",
    "    j+=1"
   ]
  },
  {
   "cell_type": "code",
   "execution_count": 97,
   "metadata": {},
   "outputs": [
    {
     "data": {
      "application/vnd.jupyter.widget-view+json": {
       "model_id": "b0321612fc1042558219b3a21da22931",
       "version_major": 2,
       "version_minor": 0
      },
      "text/plain": [
       "QgridWidget(grid_options={'fullWidthRows': True, 'syncColumnCellResize': True, 'forceFitColumns': True, 'defau…"
      ]
     },
     "metadata": {},
     "output_type": "display_data"
    }
   ],
   "source": [
    "import pandas as pd\n",
    "import qgrid\n",
    "randn = np.random.randn\n",
    "df_types = pd.DataFrame({\n",
    "    'Maxima profundidad' : pd.Series(max_depth)})\n",
    "df_types[\"Eficiencia en validacion\"] = efi_val\n",
    "df_types[\"Intervalo de confianza\"] = interval\n",
    "df_types.set_index(['Maxima profundidad'], inplace=True)\n",
    "#df_types.sort_index(inplace=True)\n",
    "qgrid_widget = qgrid.show_grid(df_types, show_toolbar=False)\n",
    "qgrid_widget"
   ]
  },
  {
   "cell_type": "markdown",
   "metadata": {},
   "source": [
    "Ejecute la siguiente instrucción para dejar guardados en el notebook los resultados de las pruebas."
   ]
  },
  {
   "cell_type": "code",
   "execution_count": 15,
   "metadata": {},
   "outputs": [
    {
     "data": {
      "text/html": [
       "<div>\n",
       "<style scoped>\n",
       "    .dataframe tbody tr th:only-of-type {\n",
       "        vertical-align: middle;\n",
       "    }\n",
       "\n",
       "    .dataframe tbody tr th {\n",
       "        vertical-align: top;\n",
       "    }\n",
       "\n",
       "    .dataframe thead th {\n",
       "        text-align: right;\n",
       "    }\n",
       "</style>\n",
       "<table border=\"1\" class=\"dataframe\">\n",
       "  <thead>\n",
       "    <tr style=\"text-align: right;\">\n",
       "      <th></th>\n",
       "      <th>Eficiencia en validacion</th>\n",
       "      <th>Intervalo de confianza</th>\n",
       "    </tr>\n",
       "    <tr>\n",
       "      <th>Maxima profundidad</th>\n",
       "      <th></th>\n",
       "      <th></th>\n",
       "    </tr>\n",
       "  </thead>\n",
       "  <tbody>\n",
       "    <tr>\n",
       "      <th>5</th>\n",
       "      <td>0.90003</td>\n",
       "      <td>0.0159</td>\n",
       "    </tr>\n",
       "    <tr>\n",
       "      <th>10</th>\n",
       "      <td>0.91266</td>\n",
       "      <td>0.0259</td>\n",
       "    </tr>\n",
       "    <tr>\n",
       "      <th>20</th>\n",
       "      <td>0.91266</td>\n",
       "      <td>0.0259</td>\n",
       "    </tr>\n",
       "    <tr>\n",
       "      <th>30</th>\n",
       "      <td>0.91266</td>\n",
       "      <td>0.0259</td>\n",
       "    </tr>\n",
       "    <tr>\n",
       "      <th>50</th>\n",
       "      <td>0.91266</td>\n",
       "      <td>0.0259</td>\n",
       "    </tr>\n",
       "  </tbody>\n",
       "</table>\n",
       "</div>"
      ],
      "text/plain": [
       "                    Eficiencia en validacion  Intervalo de confianza\n",
       "Maxima profundidad                                                  \n",
       "5                                    0.90003                  0.0159\n",
       "10                                   0.91266                  0.0259\n",
       "20                                   0.91266                  0.0259\n",
       "30                                   0.91266                  0.0259\n",
       "50                                   0.91266                  0.0259"
      ]
     },
     "execution_count": 15,
     "metadata": {},
     "output_type": "execute_result"
    }
   ],
   "source": [
    "qgrid_widget.get_changed_df()"
   ]
  },
  {
   "cell_type": "markdown",
   "metadata": {},
   "source": [
    "Responda: \n",
    "    \n",
    "2.1 ¿Tiene algún efecto la normalización o estándarización de las variables en el desempeño del modelo de árboles de decisión? Explique su respuesta.    \n",
    "\n",
    "Como hablamos de umbral para realizar las particiones del umbral puede ser más costoso abarcar todo el espacio ocupado por las variables"
   ]
  },
  {
   "cell_type": "markdown",
   "metadata": {},
   "source": [
    "<b>Comentario</b>: Recuerden que no importa el rango de valores sino el número de umbrales diferentes... Deberían haber hecho una prueba que les permitiera responder esta pregunta."
   ]
  },
  {
   "cell_type": "markdown",
   "metadata": {},
   "source": [
    "## Ejercicio 3\n",
    "\n",
    "En la siguiente celda se define una simulación para entrenar y validar un modelo usando los datos previamente cargados. Complete el código para usar como modelo de predicción un Random Forest. Debe consultar todo lo relacionado con la creación, entrenamiento y uso en predicción de este modelo usando la librería scikit-learn. Consultar aquí: http://scikit-learn.org/stable/modules/generated/sklearn.ensemble.RandomForestClassifier.html \n",
    "\n",
    "<b>Note</b> que al igual que en el caso anterior, existe una clase para modelos de clasificación y otra para modelos de regresión: http://scikit-learn.org/stable/modules/generated/sklearn.ensemble.RandomForestRegressor.html"
   ]
  },
  {
   "cell_type": "code",
   "execution_count": 49,
   "metadata": {},
   "outputs": [
    {
     "name": "stdout",
     "output_type": "stream",
     "text": [
      "Eficiencia durante el entrenamiento = 0.9981 +- 0.0013\n",
      "Eficiencia durante la validación = 0.8778 +- 0.0143\n"
     ]
    }
   ],
   "source": [
    "def train_random_forest(num_tree=5, max_var=None):\n",
    "    #Validamos el modelo\n",
    "    Folds = 4\n",
    "    random.seed(19680801)\n",
    "    EficienciaTrain = np.zeros(Folds)\n",
    "    EficienciaVal = np.zeros(Folds)\n",
    "    skf = StratifiedKFold(n_splits=Folds)\n",
    "    j = 0\n",
    "    for train, test in skf.split(X, Y):\n",
    "        Xtrain = X[train,:]\n",
    "        Ytrain = Y[train]\n",
    "        Xtest = X[test,:]\n",
    "        Ytest = Y[test]\n",
    "\n",
    "        #Normalizamos los datos\n",
    "        media = np.mean(Xtrain)\n",
    "        desvia = np.std(Xtrain)\n",
    "        Xtrain = sc.stats.stats.zscore(Xtrain)\n",
    "        Xtest = (Xtest - np.matlib.repmat(media, Xtest.shape[0], 1))/np.matlib.repmat(desvia, Xtest.shape[0], 1)\n",
    "\n",
    "        #Haga el llamado a la función para crear y entrenar el modelo usando los datos de entrenamiento\n",
    "        model = RandomForestClassifier(n_estimators = num_tree, max_features = max_var)\n",
    "        model.fit(X=Xtrain, y=Ytrain)\n",
    "\n",
    "        #Validación\n",
    "        Ytrain_pred = model.predict(Xtrain)#Use el modelo previamente entrenado para hacer predicciones con las mismas muestras de entrenamiento\n",
    "        Yest =  model.predict(Xtest)#Use el modelo previamente entrenado para hacer predicciones con las muestras de test\n",
    "\n",
    "        #Evaluamos las predicciones del modelo con los datos de test\n",
    "        EficienciaTrain[j] = np.mean(Ytrain_pred.ravel() == Ytrain.ravel())\n",
    "        EficienciaVal[j] = np.mean(Yest.ravel() == Ytest.ravel())\n",
    "        j += 1\n",
    "\n",
    "    mean = round(np.mean(EficienciaTrain),4)\n",
    "    std = round(np.std(EficienciaTrain),4)\n",
    "    \n",
    "    meanVal = round(np.mean(EficienciaVal),4)\n",
    "    stdVal = round(np.std(EficienciaVal),4)\n",
    "    \n",
    "    return (mean, std, meanVal, stdVal)\n",
    "\n",
    "mean, std, meanVal, stdVal = train_random_forest(5,5)\n",
    "print('Eficiencia durante el entrenamiento = ' + str(mean) + ' +- ' + str(std))\n",
    "print('Eficiencia durante la validación = ' + str(meanVal) + ' +- ' + str(stdVal))"
   ]
  },
  {
   "cell_type": "markdown",
   "metadata": {},
   "source": [
    "Una vez completado el código realice los experimentos necesarios para llenar la siguiente tabla:"
   ]
  },
  {
   "cell_type": "code",
   "execution_count": 50,
   "metadata": {},
   "outputs": [],
   "source": [
    "num_trees = [5,10,20,50,100]\n",
    "var_per_nodes = [5,10,15,20,25,30]\n",
    "efi_val = np.zeros(len(num_trees) * len(var_per_nodes))\n",
    "interval = np.zeros(len(num_trees) * len(var_per_nodes))\n",
    "\n",
    "j = 0\n",
    "for num in num_trees:\n",
    "    for var in var_per_nodes:\n",
    "        mean, std, meanVal, stdVal = train_random_forest(num,var)\n",
    "        efi_val[j] = meanVal;\n",
    "        interval[j] = stdVal;\n",
    "        j+=1"
   ]
  },
  {
   "cell_type": "code",
   "execution_count": null,
   "metadata": {},
   "outputs": [],
   "source": [
    "import pandas as pd\n",
    "import qgrid\n",
    "randn = np.random.randn\n",
    "df_types = pd.DataFrame({\n",
    "    'Numero de arboles' : pd.Series([5,5,5,5,5,5,10,10,10,10,10,10,20,20,20,20,20,20,50,50,50,50,50,50,100,100,100,100,100,100]), 'Variables analizadas por nodo' : pd.Series([5,10,15,20,25,30,5,10,15,20,25,30,5,10,15,20,25,30,5,10,15,20,25,30,5,10,15,20,25,30])})\n",
    "df_types[\"Eficiencia en validacion\"] = efi_val\n",
    "df_types[\"Intervalo de confianza\"] = interval\n",
    "df_types.set_index(['Numero de arboles','Variables analizadas por nodo'], inplace=True)\n",
    "#df_types.sort_index(inplace=True)\n",
    "df_types[\"Eficiencia en validacion\"][0]=0.8778\n",
    "df_types[\"Intervalo de confianza\"][0] = 0.0143\n",
    "qgrid_widget = qgrid.show_grid(df_types, show_toolbar=False)\n",
    "qgrid_widget"
   ]
  },
  {
   "cell_type": "markdown",
   "metadata": {},
   "source": [
    "Ejecute la siguiente instrucción para dejar guardados en el notebook los resultados de las pruebas."
   ]
  },
  {
   "cell_type": "code",
   "execution_count": 35,
   "metadata": {},
   "outputs": [
    {
     "data": {
      "text/html": [
       "<div>\n",
       "<style scoped>\n",
       "    .dataframe tbody tr th:only-of-type {\n",
       "        vertical-align: middle;\n",
       "    }\n",
       "\n",
       "    .dataframe tbody tr th {\n",
       "        vertical-align: top;\n",
       "    }\n",
       "\n",
       "    .dataframe thead th {\n",
       "        text-align: right;\n",
       "    }\n",
       "</style>\n",
       "<table border=\"1\" class=\"dataframe\">\n",
       "  <thead>\n",
       "    <tr style=\"text-align: right;\">\n",
       "      <th></th>\n",
       "      <th></th>\n",
       "      <th>Eficiencia en validacion</th>\n",
       "      <th>Intervalo de confianza</th>\n",
       "    </tr>\n",
       "    <tr>\n",
       "      <th>Numero de arboles</th>\n",
       "      <th>Variables analizadas por nodo</th>\n",
       "      <th></th>\n",
       "      <th></th>\n",
       "    </tr>\n",
       "  </thead>\n",
       "  <tbody>\n",
       "    <tr>\n",
       "      <th rowspan=\"6\" valign=\"top\">5</th>\n",
       "      <th>5</th>\n",
       "      <td>0.87780</td>\n",
       "      <td>0.01430</td>\n",
       "    </tr>\n",
       "    <tr>\n",
       "      <th>10</th>\n",
       "      <td>0.87064</td>\n",
       "      <td>0.03252</td>\n",
       "    </tr>\n",
       "    <tr>\n",
       "      <th>15</th>\n",
       "      <td>0.86792</td>\n",
       "      <td>0.03494</td>\n",
       "    </tr>\n",
       "    <tr>\n",
       "      <th>20</th>\n",
       "      <td>0.86792</td>\n",
       "      <td>0.03494</td>\n",
       "    </tr>\n",
       "    <tr>\n",
       "      <th>25</th>\n",
       "      <td>0.86792</td>\n",
       "      <td>0.03494</td>\n",
       "    </tr>\n",
       "    <tr>\n",
       "      <th>30</th>\n",
       "      <td>0.86792</td>\n",
       "      <td>0.03494</td>\n",
       "    </tr>\n",
       "    <tr>\n",
       "      <th rowspan=\"6\" valign=\"top\">10</th>\n",
       "      <th>5</th>\n",
       "      <td>0.92500</td>\n",
       "      <td>0.01684</td>\n",
       "    </tr>\n",
       "    <tr>\n",
       "      <th>10</th>\n",
       "      <td>0.91541</td>\n",
       "      <td>0.02182</td>\n",
       "    </tr>\n",
       "    <tr>\n",
       "      <th>15</th>\n",
       "      <td>0.91949</td>\n",
       "      <td>0.01928</td>\n",
       "    </tr>\n",
       "    <tr>\n",
       "      <th>20</th>\n",
       "      <td>0.91949</td>\n",
       "      <td>0.01928</td>\n",
       "    </tr>\n",
       "    <tr>\n",
       "      <th>25</th>\n",
       "      <td>0.91949</td>\n",
       "      <td>0.01928</td>\n",
       "    </tr>\n",
       "    <tr>\n",
       "      <th>30</th>\n",
       "      <td>0.91949</td>\n",
       "      <td>0.01928</td>\n",
       "    </tr>\n",
       "    <tr>\n",
       "      <th rowspan=\"6\" valign=\"top\">20</th>\n",
       "      <th>5</th>\n",
       "      <td>0.93060</td>\n",
       "      <td>0.02435</td>\n",
       "    </tr>\n",
       "    <tr>\n",
       "      <th>10</th>\n",
       "      <td>0.94863</td>\n",
       "      <td>0.03250</td>\n",
       "    </tr>\n",
       "    <tr>\n",
       "      <th>15</th>\n",
       "      <td>0.95275</td>\n",
       "      <td>0.02392</td>\n",
       "    </tr>\n",
       "    <tr>\n",
       "      <th>20</th>\n",
       "      <td>0.95275</td>\n",
       "      <td>0.02392</td>\n",
       "    </tr>\n",
       "    <tr>\n",
       "      <th>25</th>\n",
       "      <td>0.95275</td>\n",
       "      <td>0.02392</td>\n",
       "    </tr>\n",
       "    <tr>\n",
       "      <th>30</th>\n",
       "      <td>0.95275</td>\n",
       "      <td>0.02392</td>\n",
       "    </tr>\n",
       "    <tr>\n",
       "      <th rowspan=\"6\" valign=\"top\">50</th>\n",
       "      <th>5</th>\n",
       "      <td>0.95002</td>\n",
       "      <td>0.01302</td>\n",
       "    </tr>\n",
       "    <tr>\n",
       "      <th>10</th>\n",
       "      <td>0.95415</td>\n",
       "      <td>0.02255</td>\n",
       "    </tr>\n",
       "    <tr>\n",
       "      <th>15</th>\n",
       "      <td>0.96106</td>\n",
       "      <td>0.02385</td>\n",
       "    </tr>\n",
       "    <tr>\n",
       "      <th>20</th>\n",
       "      <td>0.96106</td>\n",
       "      <td>0.02385</td>\n",
       "    </tr>\n",
       "    <tr>\n",
       "      <th>25</th>\n",
       "      <td>0.96106</td>\n",
       "      <td>0.02385</td>\n",
       "    </tr>\n",
       "    <tr>\n",
       "      <th>30</th>\n",
       "      <td>0.96106</td>\n",
       "      <td>0.02385</td>\n",
       "    </tr>\n",
       "    <tr>\n",
       "      <th rowspan=\"6\" valign=\"top\">100</th>\n",
       "      <th>5</th>\n",
       "      <td>0.94581</td>\n",
       "      <td>0.02224</td>\n",
       "    </tr>\n",
       "    <tr>\n",
       "      <th>10</th>\n",
       "      <td>0.96801</td>\n",
       "      <td>0.01826</td>\n",
       "    </tr>\n",
       "    <tr>\n",
       "      <th>15</th>\n",
       "      <td>0.96523</td>\n",
       "      <td>0.01281</td>\n",
       "    </tr>\n",
       "    <tr>\n",
       "      <th>20</th>\n",
       "      <td>0.96523</td>\n",
       "      <td>0.01281</td>\n",
       "    </tr>\n",
       "    <tr>\n",
       "      <th>25</th>\n",
       "      <td>0.96523</td>\n",
       "      <td>0.01281</td>\n",
       "    </tr>\n",
       "    <tr>\n",
       "      <th>30</th>\n",
       "      <td>0.96523</td>\n",
       "      <td>0.01281</td>\n",
       "    </tr>\n",
       "  </tbody>\n",
       "</table>\n",
       "</div>"
      ],
      "text/plain": [
       "                                                 Eficiencia en validacion  \\\n",
       "Numero de arboles Variables analizadas por nodo                             \n",
       "5                 5                                               0.87780   \n",
       "                  10                                              0.87064   \n",
       "                  15                                              0.86792   \n",
       "                  20                                              0.86792   \n",
       "                  25                                              0.86792   \n",
       "                  30                                              0.86792   \n",
       "10                5                                               0.92500   \n",
       "                  10                                              0.91541   \n",
       "                  15                                              0.91949   \n",
       "                  20                                              0.91949   \n",
       "                  25                                              0.91949   \n",
       "                  30                                              0.91949   \n",
       "20                5                                               0.93060   \n",
       "                  10                                              0.94863   \n",
       "                  15                                              0.95275   \n",
       "                  20                                              0.95275   \n",
       "                  25                                              0.95275   \n",
       "                  30                                              0.95275   \n",
       "50                5                                               0.95002   \n",
       "                  10                                              0.95415   \n",
       "                  15                                              0.96106   \n",
       "                  20                                              0.96106   \n",
       "                  25                                              0.96106   \n",
       "                  30                                              0.96106   \n",
       "100               5                                               0.94581   \n",
       "                  10                                              0.96801   \n",
       "                  15                                              0.96523   \n",
       "                  20                                              0.96523   \n",
       "                  25                                              0.96523   \n",
       "                  30                                              0.96523   \n",
       "\n",
       "                                                 Intervalo de confianza  \n",
       "Numero de arboles Variables analizadas por nodo                          \n",
       "5                 5                                             0.01430  \n",
       "                  10                                            0.03252  \n",
       "                  15                                            0.03494  \n",
       "                  20                                            0.03494  \n",
       "                  25                                            0.03494  \n",
       "                  30                                            0.03494  \n",
       "10                5                                             0.01684  \n",
       "                  10                                            0.02182  \n",
       "                  15                                            0.01928  \n",
       "                  20                                            0.01928  \n",
       "                  25                                            0.01928  \n",
       "                  30                                            0.01928  \n",
       "20                5                                             0.02435  \n",
       "                  10                                            0.03250  \n",
       "                  15                                            0.02392  \n",
       "                  20                                            0.02392  \n",
       "                  25                                            0.02392  \n",
       "                  30                                            0.02392  \n",
       "50                5                                             0.01302  \n",
       "                  10                                            0.02255  \n",
       "                  15                                            0.02385  \n",
       "                  20                                            0.02385  \n",
       "                  25                                            0.02385  \n",
       "                  30                                            0.02385  \n",
       "100               5                                             0.02224  \n",
       "                  10                                            0.01826  \n",
       "                  15                                            0.01281  \n",
       "                  20                                            0.01281  \n",
       "                  25                                            0.01281  \n",
       "                  30                                            0.01281  "
      ]
     },
     "execution_count": 35,
     "metadata": {},
     "output_type": "execute_result"
    }
   ],
   "source": [
    "qgrid_widget.get_changed_df()"
   ]
  },
  {
   "cell_type": "markdown",
   "metadata": {},
   "source": [
    "Responda:\n",
    "    \n",
    "3.1 Realice una prueba adicional empleando el total de variables para la selección del mejor umbral en cada nodo ¿De acuerdo con los resultados es mejor usar un bagging de árboles o Random Forest? Explique su respuesta. \n",
    "\n",
    "En este caso se obtiene mejor resultado el Random Forest no fue necesario incluir todas las variables para obtener un mejor umbral."
   ]
  },
  {
   "cell_type": "code",
   "execution_count": 101,
   "metadata": {},
   "outputs": [],
   "source": [
    "def train_bagging(num_tree=5, max_var=None):\n",
    "    #Validamos el modelo\n",
    "    Folds = 4\n",
    "    random.seed(19680801)\n",
    "    EficienciaTrain = np.zeros(Folds)\n",
    "    EficienciaVal = np.zeros(Folds)\n",
    "    skf = StratifiedKFold(n_splits=Folds)\n",
    "    j = 0\n",
    "    for train, test in skf.split(X, Y):\n",
    "        Xtrain = X[train,:]\n",
    "        Ytrain = Y[train]\n",
    "        Xtest = X[test,:]\n",
    "        Ytest = Y[test]\n",
    "\n",
    "        #Normalizamos los datos\n",
    "        media = np.mean(Xtrain)\n",
    "        desvia = np.std(Xtrain)\n",
    "        Xtrain = sc.stats.stats.zscore(Xtrain)\n",
    "        Xtest = (Xtest - np.matlib.repmat(media, Xtest.shape[0], 1))/np.matlib.repmat(desvia, Xtest.shape[0], 1)\n",
    "\n",
    "        #Haga el llamado a la función para crear y entrenar el modelo usando los datos de entrenamiento\n",
    "        model = BaggingClassifier(n_estimators = num_tree, max_features = max_var)\n",
    "        model.fit(X=Xtrain, y=Ytrain)\n",
    "\n",
    "        #Validación\n",
    "        Ytrain_pred = model.predict(Xtrain)#Use el modelo previamente entrenado para hacer predicciones con las mismas muestras de entrenamiento\n",
    "        Yest =  model.predict(Xtest)#Use el modelo previamente entrenado para hacer predicciones con las muestras de test\n",
    "\n",
    "        #Evaluamos las predicciones del modelo con los datos de test\n",
    "        EficienciaTrain[j] = np.mean(Ytrain_pred.ravel() == Ytrain.ravel())\n",
    "        EficienciaVal[j] = np.mean(Yest.ravel() == Ytest.ravel())\n",
    "        j += 1\n",
    "\n",
    "    mean = round(np.mean(EficienciaTrain),4)\n",
    "    std = round(np.std(EficienciaTrain),4)\n",
    "    \n",
    "    meanVal = round(np.mean(EficienciaVal),4)\n",
    "    stdVal = round(np.std(EficienciaVal),4)\n",
    "    \n",
    "    return (mean, std, meanVal, stdVal)\n"
   ]
  },
  {
   "cell_type": "code",
   "execution_count": 105,
   "metadata": {},
   "outputs": [
    {
     "name": "stdout",
     "output_type": "stream",
     "text": [
      "Mejor modelo con 5 variables en random (1.0, 0.0, 0.9694, 0.013)\n",
      "Modelo random con todas las variables (1.0, 0.0, 0.9237, 0.0371)\n",
      "Modelo bagging  (1.0, 0.0, 0.9, 0.0244)\n",
      "Modelo bagging  (1.0, 0.0, 0.9195, 0.0356)\n"
     ]
    }
   ],
   "source": [
    "## \n",
    "## RAMDON FOREST\n",
    "print(\"Mejor modelo con 5 variables en random\",train_random_forest(100,5))\n",
    "print(\"Modelo random con todas las variables\", train_random_forest(100,39))\n",
    "print(\"Modelo bagging \",train_bagging(100,5))\n",
    "print(\"Modelo bagging \",train_bagging(100,39))\n",
    "\n",
    "\n"
   ]
  },
  {
   "cell_type": "markdown",
   "metadata": {},
   "source": [
    "<b>Comentario</b> ¿cuál es la conclusión?"
   ]
  },
  {
   "cell_type": "markdown",
   "metadata": {},
   "source": [
    "## Ejercicio 4\n",
    "\n",
    "Utilice el paquete time (instrucción time.clock()) para medir el efecto del número de árboles y de la cantidad de variables a analizar por nodo, en el tiempo que tarda el entrenamiento del modelo Random Forest. Construya una gráfica de tiempo vs número de árboles, dejando constante el número de variables en 20, y una gráfica de tiempo vs número de variables dejando constante el número de árboles en 30."
   ]
  },
  {
   "cell_type": "code",
   "execution_count": 79,
   "metadata": {},
   "outputs": [],
   "source": [
    "import time\n",
    "import matplotlib.pyplot as plt\n",
    "\n",
    "num_trees = [5,10,20,50,100]\n",
    "var_per_nodes = [5,10,15,20,25,30]\n",
    "\n",
    "times1 = np.zeros(len(var_per_nodes))\n",
    "times2 = np.zeros(len(num_trees))\n",
    "\n",
    "j=0\n",
    "for num in num_trees:\n",
    "    time_init = time.perf_counter()\n",
    "    train_random_forest(num,20)\n",
    "    time_end = time.perf_counter()\n",
    "    times2[j] = time_end - time_init\n",
    "    j+=1\n",
    "    \n",
    "j=0\n",
    "for var in var_per_nodes:\n",
    "    time_init = time.perf_counter()\n",
    "    train_random_forest(30,var)\n",
    "    time_end = time.perf_counter()\n",
    "    times1[j] = time_end - time_init\n",
    "    j+=1\n",
    "    \n",
    "\n"
   ]
  },
  {
   "cell_type": "code",
   "execution_count": 85,
   "metadata": {},
   "outputs": [
    {
     "data": {
      "image/png": "[encoded data removed]",
      "text/plain": [
       "<Figure size 432x288 with 2 Axes>"
      ]
     },
     "metadata": {},
     "output_type": "display_data"
    }
   ],
   "source": [
    "plt.subplot(211)\n",
    "plt.plot(num_trees,times2,'o-')\n",
    "plt.title('Número de variables = 20')\n",
    "plt.ylabel('Número de arboles')\n",
    "\n",
    "\n",
    "plt.subplot(212)\n",
    "plt.plot(var_per_nodes,times1,'o-')\n",
    "plt.title('Número de arboles = 30')\n",
    "plt.ylabel('Número de variables')\n",
    "plt.xlabel('Tiempo')\n",
    "\n",
    "plt.show()"
   ]
  },
  {
   "cell_type": "code",
   "execution_count": null,
   "metadata": {},
   "outputs": [],
   "source": []
  }
 ],
 "metadata": {
  "kernelspec": {
   "display_name": "Python 3",
   "language": "python",
   "name": "python3"
  },
  "language_info": {
   "codemirror_mode": {
    "name": "ipython",
    "version": 3
   },
   "file_extension": ".py",
   "mimetype": "text/x-python",
   "name": "python",
   "nbconvert_exporter": "python",
   "pygments_lexer": "ipython3",
   "version": "3.5.2"
  }
 },
 "nbformat": 4,
 "nbformat_minor": 2
}
