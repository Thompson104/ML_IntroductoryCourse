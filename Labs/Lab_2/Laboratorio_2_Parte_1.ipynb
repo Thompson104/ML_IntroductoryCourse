{
 "cells": [
  {
   "cell_type": "markdown",
   "metadata": {},
   "source": [
    "# Laboratorio 2 - Parte 1\n",
    "\n",
    "### Modelos no paramétricos\n",
    "\n",
    "### 2018-II\n",
    "\n",
    "#### Profesor: Julián D. Arias Londoño\n",
    "#### julian.ariasl@udea.edu.co\n"
   ]
  },
  {
   "cell_type": "markdown",
   "metadata": {},
   "source": [
    "## Guía del laboratorio\n",
    "\n",
    "En esta archivo va a encontrar tanto celdas de código cómo celdas de texto con las instrucciones para desarrollar el laboratorio.\n",
    "\n",
    "Lea atentamente las instrucciones entregadas en las celdas de texto correspondientes y proceda con la solución de las preguntas planteadas.\n",
    "\n",
    "Nota: no olvide ir ejecutando las celdas de código de arriba hacia abajo para que no tenga errores de importación de librerías o por falta de definición de variables."
   ]
  },
  {
   "cell_type": "code",
   "execution_count": 1,
   "metadata": {},
   "outputs": [
    {
     "name": "stdout",
     "output_type": "stream",
     "text": [
      "Haga click en el siguiente enlace para autenticarse con su cuenta de correo institucional\n",
      "https://accounts.google.com/o/oauth2/auth?client_id=893762525034-g9d91ddls9e19a1q77c7hsq2rhgqo9h7.apps.googleusercontent.com&response_type=code&scope=profile+email&redirect_uri=http%3A%2F%2Flocalhost%3A8080&access_type=offline\n",
      "waiting for authentication ...\n",
      "authentication succeeded\n",
      "/?code=4/RwAfR7G32llwJQuGYOG95G36Z0uUf2_MdR-h8wdp-wa_LWGGqnC8OylmEJR2xDDR1ymS0I0mYS3Yt15JEePdbJs\n"
     ]
    },
    {
     "data": {
      "text/html": [
       "<table><tr><td><img src='https://lh5.googleusercontent.com/-5bq3H-fH_x4/AAAAAAAAAAI/AAAAAAAAAGQ/0br1oDBY9lg/photo.jpg' width=60 height=60/></td><td>deiry.navas@udea.edu.co<br/>DEIRY SOFIA NAVAS MURIEL<br/>google id: 101322270602976799461<br/></td></tr></table>"
      ],
      "text/plain": [
       "<IPython.core.display.HTML object>"
      ]
     },
     "execution_count": 1,
     "metadata": {},
     "output_type": "execute_result"
    }
   ],
   "source": [
    "#Tomado de https://github.com/rramosp/mooc-grader\n",
    "from Autentication import *#python 3\n",
    "import inspect, urllib\n",
    "html, auth_code, userinfo = google_authenticate(PORT_NUMBER=8080)\n",
    "html\n"
   ]
  },
  {
   "cell_type": "markdown",
   "metadata": {},
   "source": [
    "#### Segundo integrante: \n",
    "David Alejandro Marín Alzate"
   ]
  },
  {
   "cell_type": "code",
   "execution_count": 1,
   "metadata": {},
   "outputs": [],
   "source": [
    "%matplotlib inline\n",
    "import numpy as np\n",
    "import matplotlib.pyplot as plt\n",
    "from __future__ import division\n",
    "\n",
    "#Algunas advertencias que queremos evitar\n",
    "import warnings\n",
    "warnings.filterwarnings(\"always\")"
   ]
  },
  {
   "cell_type": "markdown",
   "metadata": {},
   "source": [
    "## Ejercicio 1\n",
    "\n",
    "Genere un conjunto de 1000 muestras artificiales con una distribución que corresponda a la suma de dos Gaussiana con diferente media, ambas de una sola dimension. Grafique el histograma de los datos generados.\n",
    "![ ](random.png)"
   ]
  },
  {
   "cell_type": "code",
   "execution_count": 15,
   "metadata": {},
   "outputs": [
    {
     "data": {
      "text/plain": [
       "(array([ 36.,  78., 107., 121., 155., 177., 146.,  89.,  70.,  21.]),\n",
       " array([3.18073409, 3.37019838, 3.55966267, 3.74912696, 3.93859125,\n",
       "        4.12805554, 4.31751983, 4.50698412, 4.69644841, 4.8859127 ,\n",
       "        5.07537699]),\n",
       " <a list of 10 Patch objects>)"
      ]
     },
     "execution_count": 15,
     "metadata": {},
     "output_type": "execute_result"
    },
    {
     "data": {
      "image/png": "[encoded data removed]",
      "text/plain": [
       "<Figure size 432x288 with 1 Axes>"
      ]
     },
     "metadata": {},
     "output_type": "display_data"
    }
   ],
   "source": [
    "gauss1 = np.random.rand(1000,1) + 2\n",
    "gauss2 = np.random.rand(1000,1) + 1.1\n",
    "gaussT = gauss1 + gauss2\n",
    "\n",
    "plt.hist(gaussT)\n"
   ]
  },
  {
   "cell_type": "markdown",
   "metadata": {},
   "source": [
    "## Ejercicio 2\n",
    "\n",
    "Para el problema de regresion usaremos la misma base de datos del laboratorio anterior."
   ]
  },
  {
   "cell_type": "code",
   "execution_count": 3,
   "metadata": {},
   "outputs": [],
   "source": [
    "#cargamos la bd que está en un archivo .data y ahora la podemos manejar de forma matricial\n",
    "db = np.loadtxt('DB/AirQuality.data',delimiter='\\t')  # Assuming tab-delimiter\n",
    "\n",
    "#Esta es la base de datos AirQuality del UCI Machine Learning Repository. En la siguiente URL se encuentra toda\n",
    "#la descripción de la base de datos y la contextualización del problema.\n",
    "#https://archive.ics.uci.edu/ml/datasets/Air+Quality#\n",
    "\n",
    "X = db[:5000,0:12]\n",
    "Y = db[:5000,12]"
   ]
  },
  {
   "cell_type": "markdown",
   "metadata": {},
   "source": [
    "Describa cómo esta construida la base de datos utilizada en el problema de regresion: \n",
    "\n",
    "2.1 ¿Cuántas muestras hay en total?:\n",
    "\n",
    "2.2 ¿Cuántas características tiene el problema?:"
   ]
  },
  {
   "cell_type": "markdown",
   "metadata": {},
   "source": [
    "## Ejercicio 3\n",
    "\n",
    "Analice los siguientes métodos a la luz de la teoría vista para los modelos de K vecinos más cercanos (KNN) y complete el código del método KNN.\n",
    "\n",
    "<b>Nota</b>: Para el cáculo de la distancia entre vectores tienen dos opciones, usar la función scipy.spatial.distance.euclidean o usar la función numpy.linalg.norm. Revisen la documentación para comprender su uso. También serán de utilidad las funciones numpy.sort y numpy.argsort.\n"
   ]
  },
  {
   "cell_type": "code",
   "execution_count": 196,
   "metadata": {},
   "outputs": [],
   "source": [
    " from scipy import stats\n",
    "import operator\n",
    "\n",
    "\n",
    "#Mean Absolute Percentage Error para los problemas de regresión\n",
    "def MAPE(Y_est,Y):\n",
    "    N = np.size(Y)\n",
    "    mape = np.sum(abs((Y_est.reshape(N,1) - Y.reshape(N,1))/Y.reshape(N,1)))/N\n",
    "    return mape \n",
    "\n",
    "#Para calcular el error en los problemas de clasificación\n",
    "def error(Y_lest, Y):\n",
    "    error = 0\n",
    "    for ye, y in zip(Y_lest, Y):\n",
    "        if ye != y:\n",
    "            error += 1\n",
    "    \n",
    "    error = error/np.size(Y)\n",
    "    \n",
    "    return error\n",
    "\n",
    "\n",
    "def KNN(X_train, Y_train, X_val, k, tipo):\n",
    "    \n",
    "    #X_train es la matriz con las muestras de entrenamiento\n",
    "    #Y_train es un vector con los valores de salida pra cada una de las muestras de entrenamiento\n",
    "    #X_val es la matriz con las muestras de validación\n",
    "    #tipo es una bandera que indica si el problema es de regresión o de clasificación.\n",
    "    tipo = tipo\n",
    "    k = k    #Parámetro k que equivale al número de vecinos a tener en cuenta para resolver el problema de\n",
    "               #predicción de la variable de salida\n",
    "    N = np.shape(Y_train)[0]\n",
    "    Y_val = np.zeros(N).reshape(N,1)\n",
    "    Y_train = Y_train.reshape(N,1) #Asigna espacio correctamente de Y\n",
    "    \n",
    "    # obtenemos la matriz con todas las distancias de las 1500 muestras nuevas\n",
    "    # con respecto a todas las 3500 muestras de entrenamiento\n",
    "    D = distance(X_val, X_train)\n",
    "    D_argsort = np.argsort(D, axis = 1)\n",
    "    \n",
    "    #print(\"***********D_argsort\")\n",
    "    #print(D_argsort[0:10, : ])   \n",
    "    \n",
    "    Nt = len(X_val)\n",
    " \n",
    "    #Matriz con la salida i correspondiente a la posición indicada en D_argsort\n",
    "    Y_argsort = Yout(k, D_argsort, Y_train)\n",
    "\n",
    "    Y_val = np.zeros(Nt).T\n",
    "    \n",
    "\n",
    "    if(tipo == 0):\n",
    "        #regresion\n",
    "        for x in range (Nt):\n",
    "            average = np.average(Y_argsort[x])\n",
    "            Y_val[x] = average\n",
    "            \n",
    "    elif(tipo == 1):\n",
    "        #clasificacion\n",
    "        \n",
    "        for x in range (Nt):\n",
    "            mode = stats.mode(Y_argsort[x])           \n",
    "            Y_val[x] = mode[0].astype(float)\n",
    "            \n",
    "    Y_val.reshape(Nt,1)\n",
    "    print(Y_val)\n",
    "    #¿por qué no muestra forma correcta del vector?\n",
    "    \n",
    "    return Y_val #Debe retornar un vector que contenga las predicciones para cada una de las muestras en X_val, en el mismo orden.  \n",
    "\n",
    "def distance(X_val, X_train):\n",
    "    \n",
    "    L = np.dot(X_val, X_train.T)\n",
    "    tem = np.sum(X_val * X_val, axis=1).reshape([X_val.shape[0],1])\n",
    "    tem2 = np.sum(X_train * X_train, axis=1).reshape([1,X_train.shape[0]])\n",
    "    \n",
    "    D = np.dot(tem, np.ones((1,X_train.shape[0]))) + np.dot(np.ones((X_val.shape[0],1)), tem2) - 2* L\n",
    "    D = np.sqrt(D)\n",
    "    \n",
    "    return D\n",
    "\n",
    "#Me retorna la salida Y_i proveniente de la matriz que contiene la posición de la distancia más cortas (vecinos más cercanos)\n",
    "# de las nuevas muestras\n",
    "def Yout (k, D_argsort, Y_train):\n",
    "    N = len(D_argsort)    \n",
    "    kn = D_argsort[ : , 0: k]\n",
    "    kn = kn.reshape(len(D_argsort),k)\n",
    "    Y_val = np.zeros((N,k))\n",
    "\n",
    "  #  Y_val =np.array( [[Y_train[kn[y,x]] for x in range(k)] for y in range(N)])\n",
    "    for x in range (N):\n",
    "        for y in range (k):\n",
    "               Y_val[x][y] = Y_train[kn[x,y]]\n",
    "    \n",
    "    return Y_val\n",
    "    "
   ]
  },
  {
   "cell_type": "markdown",
   "metadata": {},
   "source": [
    "## Ejercicio 4\n",
    "\n",
    "Una vez haya completado el codigo del método de KNN, ejecute varias veces el proceso de entrenamiento y evaluacion cambiando el parametro $k$, el cual es el numero de vecinos, y complete la siguiente tabla con los valores del error MAPE obtenidos:"
   ]
  },
  {
   "cell_type": "code",
   "execution_count": 197,
   "metadata": {},
   "outputs": [
    {
     "name": "stdout",
     "output_type": "stream",
     "text": [
      "[1.47016667 1.47836667 1.4152     ... 1.03643333 1.47836667 0.893     ]\n",
      "[1.03733333 1.47836667 1.26343333 ... 1.13093333 1.03973333 1.3869    ]\n"
     ]
    }
   ],
   "source": [
    "from numpy import random\n",
    "from scipy import stats\n",
    "import math\n",
    "\n",
    "N = np.size(X,0)\n",
    "\n",
    "#Validamos el modelo\n",
    "random.seed(1)\n",
    "Error = np.zeros(2)\n",
    "for j in range(2):\n",
    "    ind=np.random.permutation(N)\n",
    "    Xtrain = X[ind[0:int(math.ceil(0.7*N))],:]\n",
    "    Xtest = X[ind[int(math.ceil(0.7*N)):N],:]\n",
    "    Ytrain = Y[ind[0:int(math.ceil(0.7*N))]]\n",
    "    Ytest = Y[ind[int(math.ceil(0.7*N)):N]]\n",
    "\n",
    "    #Normalizamos los datos\n",
    "    media = np.mean(Xtrain)\n",
    "    desvia = np.std(Xtrain)\n",
    "    Xtrain = sc.stats.stats.zscore(Xtrain)\n",
    "    Xtest = (Xtest - np.matlib.repmat(media, Xtest.shape[0], 1))/np.matlib.repmat(desvia, Xtest.shape[0], 1)\n",
    "\n",
    "    Yest = KNN(Xtrain, Ytrain, Xtest, 3, 0)#Complete con el llamado apropiado de la función que Uds diseñaron\n",
    "\n",
    "    #Evaluamos las predicciones del modelo con los datos de test\n",
    "    # Error[j] = MAPE(Yest,Ytest)\n",
    "# print('\\nError durante la prueba = ' + str(np.mean(Error)) + '+-' + str(np.std(Error)))"
   ]
  },
  {
   "cell_type": "markdown",
   "metadata": {},
   "source": [
    "Responda:\n",
    "\n",
    "4.1 ¿Qué metodología de validación se usa en el experimento?\n",
    "\n",
    "4.2 ¿Cuántas muestras se usan para el entrenamiento?\n",
    "\n",
    "4.3 ¿Cuántas muestras se usan para la validación?"
   ]
  },
  {
   "cell_type": "markdown",
   "metadata": {},
   "source": [
    "#### Tabla de resultados"
   ]
  },
  {
   "cell_type": "code",
   "execution_count": 81,
   "metadata": {},
   "outputs": [
    {
     "data": {
      "application/vnd.jupyter.widget-view+json": {
       "model_id": "666ffd24508c47efa48d15cf396531b9",
       "version_major": 2,
       "version_minor": 0
      },
      "text/plain": [
       "UWdyaWRXaWRnZXQoZ3JpZF9vcHRpb25zPXsnaGlnaGxpZ2h0U2VsZWN0ZWRSb3cnOiBUcnVlLCAnZnVsbFdpZHRoUm93cyc6IFRydWUsICdyb3dIZWlnaHQnOiAyOCwgJ2VuYWJsZUNvbHVtblLigKY=\n"
      ]
     },
     "metadata": {},
     "output_type": "display_data"
    }
   ],
   "source": [
    "import pandas as pd\n",
    "import qgrid\n",
    "randn = np.random.randn\n",
    "df_types = pd.DataFrame({\n",
    "    'Numero de vecinos' : pd.Series(['1', '2', '3', '4', '5', '6', '7', '100'])})\n",
    "df_types[\"Error_Prueba\"] = \"\"\n",
    "df_types[\"Desviación estándar del error\"] = \"\"\n",
    "df_types.set_index(['Numero de vecinos'], inplace=True)\n",
    "df_types[\"Error_Prueba\"][1] = \"0.3630\"\n",
    "df_types[\"Desviación estándar del error\"][1] = \"0.0061\"\n",
    "#df_types.sort_index(inplace=True)\n",
    "qgrid_widget = qgrid.show_grid(df_types, show_toolbar=False)\n",
    "qgrid_widget"
   ]
  },
  {
   "cell_type": "markdown",
   "metadata": {},
   "source": [
    "Ejecute la siguiente instrucción para dejar guardados en el notebook los resultados de las pruebas."
   ]
  },
  {
   "cell_type": "code",
   "execution_count": 82,
   "metadata": {},
   "outputs": [
    {
     "data": {
      "text/html": [
       "<div>\n",
       "<style scoped>\n",
       "    .dataframe tbody tr th:only-of-type {\n",
       "        vertical-align: middle;\n",
       "    }\n",
       "\n",
       "    .dataframe tbody tr th {\n",
       "        vertical-align: top;\n",
       "    }\n",
       "\n",
       "    .dataframe thead th {\n",
       "        text-align: right;\n",
       "    }\n",
       "</style>\n",
       "<table border=\"1\" class=\"dataframe\">\n",
       "  <thead>\n",
       "    <tr style=\"text-align: right;\">\n",
       "      <th></th>\n",
       "      <th>Error_Prueba</th>\n",
       "      <th>Desviación estándar del error</th>\n",
       "    </tr>\n",
       "    <tr>\n",
       "      <th>Numero de vecinos</th>\n",
       "      <th></th>\n",
       "      <th></th>\n",
       "    </tr>\n",
       "  </thead>\n",
       "  <tbody>\n",
       "    <tr>\n",
       "      <th>1</th>\n",
       "      <td></td>\n",
       "      <td></td>\n",
       "    </tr>\n",
       "    <tr>\n",
       "      <th>2</th>\n",
       "      <td>0.3630</td>\n",
       "      <td>0.0061</td>\n",
       "    </tr>\n",
       "    <tr>\n",
       "      <th>3</th>\n",
       "      <td></td>\n",
       "      <td></td>\n",
       "    </tr>\n",
       "    <tr>\n",
       "      <th>4</th>\n",
       "      <td></td>\n",
       "      <td></td>\n",
       "    </tr>\n",
       "    <tr>\n",
       "      <th>5</th>\n",
       "      <td></td>\n",
       "      <td></td>\n",
       "    </tr>\n",
       "    <tr>\n",
       "      <th>6</th>\n",
       "      <td></td>\n",
       "      <td></td>\n",
       "    </tr>\n",
       "    <tr>\n",
       "      <th>7</th>\n",
       "      <td></td>\n",
       "      <td></td>\n",
       "    </tr>\n",
       "    <tr>\n",
       "      <th>100</th>\n",
       "      <td></td>\n",
       "      <td></td>\n",
       "    </tr>\n",
       "  </tbody>\n",
       "</table>\n",
       "</div>"
      ],
      "text/plain": [
       "                  Error_Prueba Desviación estándar del error\n",
       "Numero de vecinos                                           \n",
       "1                                                           \n",
       "2                       0.3630                        0.0061\n",
       "3                                                           \n",
       "4                                                           \n",
       "5                                                           \n",
       "6                                                           \n",
       "7                                                           \n",
       "100                                                         "
      ]
     },
     "execution_count": 82,
     "metadata": {},
     "output_type": "execute_result"
    }
   ],
   "source": [
    "qgrid_widget.get_changed_df()"
   ]
  },
  {
   "cell_type": "markdown",
   "metadata": {},
   "source": [
    "## Ejercicio 5\n",
    "\n",
    "Ahora debe resolver el mismo problema de regresión, pero con el modelo de ventana de Parzen.\n",
    "\n",
    "Para el problema de regresión debe completar el código para implementar la función Nadaraya-Watson.\n",
    "\n",
    "Nota: Los métodos dist_euclidiana y ECM continuan siendo válidos para el modelo ventana de Parzen.\n"
   ]
  },
  {
   "cell_type": "code",
   "execution_count": 87,
   "metadata": {},
   "outputs": [],
   "source": [
    "def kernel_gaussiano(x):\n",
    "    return (np.exp((-0.5)*x**2))\n",
    "\n",
    "def Nadaraya_Watson(X_train, Y_train, X_val, ancho_h):\n",
    "    \n",
    "    h = ancho_h    #Parámetro h que equivale al ancho de la ventana o kernel\n",
    "            \n",
    "    return #Debe retornar un vector que contenga las predicciones para cada una de las muestras en X_val, en el mismo orden.  \n"
   ]
  },
  {
   "cell_type": "markdown",
   "metadata": {},
   "source": [
    "## Ejercicio 6\n",
    "\n",
    "Una vez haya completado el codigo del método de Ventana de Parzen, ejecute varias veces el proceso de entrenamiento y evaluacion cambiando el parametro $h$, el cual es el ancho de la función kernel, y complete la siguiente tabla con los valores del error MAPE obtenidos:"
   ]
  },
  {
   "cell_type": "markdown",
   "metadata": {},
   "source": [
    "#### Tabla de resultados"
   ]
  },
  {
   "cell_type": "code",
   "execution_count": 98,
   "metadata": {},
   "outputs": [
    {
     "data": {
      "application/vnd.jupyter.widget-view+json": {
       "model_id": "1b52b17fbdfb49c7bc58663846bc5c36",
       "version_major": 2,
       "version_minor": 0
      },
      "text/plain": [
       "UWdyaWRXaWRnZXQoZ3JpZF9vcHRpb25zPXsnaGlnaGxpZ2h0U2VsZWN0ZWRSb3cnOiBUcnVlLCAnZnVsbFdpZHRoUm93cyc6IFRydWUsICdyb3dIZWlnaHQnOiAyOCwgJ2VuYWJsZUNvbHVtblLigKY=\n"
      ]
     },
     "metadata": {},
     "output_type": "display_data"
    }
   ],
   "source": [
    "randn = np.random.randn\n",
    "df_types2 = pd.DataFrame({\n",
    "    'Ancho del kernel' : pd.Series(['0.1', '0.9', '1', '2', '3', '5', '10'])})\n",
    "df_types2[\"Error_Prueba\"] = \"\"\n",
    "df_types2[\"Desviación estándar del error\"] = \"\"\n",
    "df_types2.set_index(['Ancho del kernel'], inplace=True)\n",
    "df_types2[\"Error_Prueba\"][1] = \"0.3011\"\n",
    "df_types2[\"Desviación estándar del error\"][1] = \"0.0031\"\n",
    "#df_types.sort_index(inplace=True)\n",
    "qgrid_widget = qgrid.show_grid(df_types2, show_toolbar=False)\n",
    "qgrid_widget"
   ]
  },
  {
   "cell_type": "markdown",
   "metadata": {},
   "source": [
    "Ejecute la siguiente instrucción para dejar guardados en el notebook los resultados de las pruebas."
   ]
  },
  {
   "cell_type": "code",
   "execution_count": 99,
   "metadata": {},
   "outputs": [
    {
     "data": {
      "text/html": [
       "<div>\n",
       "<style scoped>\n",
       "    .dataframe tbody tr th:only-of-type {\n",
       "        vertical-align: middle;\n",
       "    }\n",
       "\n",
       "    .dataframe tbody tr th {\n",
       "        vertical-align: top;\n",
       "    }\n",
       "\n",
       "    .dataframe thead th {\n",
       "        text-align: right;\n",
       "    }\n",
       "</style>\n",
       "<table border=\"1\" class=\"dataframe\">\n",
       "  <thead>\n",
       "    <tr style=\"text-align: right;\">\n",
       "      <th></th>\n",
       "      <th>Error_Prueba</th>\n",
       "      <th>Desviación estándar del error</th>\n",
       "    </tr>\n",
       "    <tr>\n",
       "      <th>Ancho del kernel</th>\n",
       "      <th></th>\n",
       "      <th></th>\n",
       "    </tr>\n",
       "  </thead>\n",
       "  <tbody>\n",
       "    <tr>\n",
       "      <th>0.1</th>\n",
       "      <td></td>\n",
       "      <td></td>\n",
       "    </tr>\n",
       "    <tr>\n",
       "      <th>0.9</th>\n",
       "      <td>0.3011</td>\n",
       "      <td>0.0031</td>\n",
       "    </tr>\n",
       "    <tr>\n",
       "      <th>1</th>\n",
       "      <td></td>\n",
       "      <td></td>\n",
       "    </tr>\n",
       "    <tr>\n",
       "      <th>2</th>\n",
       "      <td></td>\n",
       "      <td></td>\n",
       "    </tr>\n",
       "    <tr>\n",
       "      <th>3</th>\n",
       "      <td></td>\n",
       "      <td></td>\n",
       "    </tr>\n",
       "    <tr>\n",
       "      <th>5</th>\n",
       "      <td></td>\n",
       "      <td></td>\n",
       "    </tr>\n",
       "    <tr>\n",
       "      <th>10</th>\n",
       "      <td></td>\n",
       "      <td></td>\n",
       "    </tr>\n",
       "  </tbody>\n",
       "</table>\n",
       "</div>"
      ],
      "text/plain": [
       "                 Error_Prueba Desviación estándar del error\n",
       "Ancho del kernel                                           \n",
       "0.1                                                        \n",
       "0.9                    0.3011                        0.0031\n",
       "1                                                          \n",
       "2                                                          \n",
       "3                                                          \n",
       "5                                                          \n",
       "10                                                         "
      ]
     },
     "execution_count": 99,
     "metadata": {},
     "output_type": "execute_result"
    }
   ],
   "source": [
    "qgrid_widget.get_changed_df()"
   ]
  },
  {
   "cell_type": "markdown",
   "metadata": {},
   "source": [
    "Responda:\n",
    "\n",
    "6.1 Si intenta repetir la prueba anterior para un $h = 0.05$ el algoritmo falla. ¿Cuál es la causa de la falla?:\n",
    "\n",
    "6.2 ¿Cómo evito que se presente la excepción?:"
   ]
  }
 ],
 "metadata": {
  "kernelspec": {
   "display_name": "Python 3",
   "language": "python",
   "name": "python3"
  },
  "language_info": {
   "codemirror_mode": {
    "name": "ipython",
    "version": 3
   },
   "file_extension": ".py",
   "mimetype": "text/x-python",
   "name": "python",
   "nbconvert_exporter": "python",
   "pygments_lexer": "ipython3",
   "version": "3.5.2"
  }
 },
 "nbformat": 4,
 "nbformat_minor": 2
}
