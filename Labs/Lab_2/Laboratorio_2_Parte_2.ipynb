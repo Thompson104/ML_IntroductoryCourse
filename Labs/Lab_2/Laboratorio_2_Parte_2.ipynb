{
 "cells": [
  {
   "cell_type": "markdown",
   "metadata": {},
   "source": [
    "# Laboratorio 2 - Parte 2\n",
    "\n",
    "### Modelos no paramétricos\n",
    "\n",
    "### 2018-II\n",
    "\n",
    "#### Profesor: Julián D. Arias Londoño\n",
    "#### julian.ariasl@udea.edu.co\n"
   ]
  },
  {
   "cell_type": "markdown",
   "metadata": {},
   "source": [
    "## Guía del laboratorio\n",
    "\n",
    "En esta archivo va a encontrar tanto celdas de código cómo celdas de texto con las instrucciones para desarrollar el laboratorio.\n",
    "\n",
    "Lea atentamente las instrucciones entregadas en las celdas de texto correspondientes y proceda con la solución de las preguntas planteadas.\n",
    "\n",
    "Nota: no olvide ir ejecutando las celdas de código de arriba hacia abajo para que no tenga errores de importación de librerías o por falta de definición de variables."
   ]
  },
  {
   "cell_type": "code",
   "execution_count": 2,
   "metadata": {},
   "outputs": [
    {
     "name": "stdout",
     "output_type": "stream",
     "text": [
      "Haga click en el siguiente enlace para autenticarse con su cuenta de correo institucional\n",
      "https://accounts.google.com/o/oauth2/auth?scope=profile+email&client_id=893762525034-g9d91ddls9e19a1q77c7hsq2rhgqo9h7.apps.googleusercontent.com&access_type=offline&redirect_uri=http%3A%2F%2Flocalhost%3A8080&response_type=code\n",
      "waiting for authentication ...\n",
      "authentication succeeded\n",
      "/?code=4/TgDA9tXMcGU1db2RtY5ZmPyRPl8zOG6eG6AZXx_dTVzVE4ZHSrs_8jskpfyp9C2Is4jTneVOIgMt0tWbRccmm2c\n"
     ]
    },
    {
     "data": {
      "text/html": [
       "<table><tr><td><img src='https://lh5.googleusercontent.com/-5bq3H-fH_x4/AAAAAAAAAAI/AAAAAAAAAGQ/0br1oDBY9lg/photo.jpg' width=60 height=60/></td><td>deiry.navas@udea.edu.co<br/>DEIRY SOFIA NAVAS MURIEL<br/>google id: 101322270602976799461<br/></td></tr></table>"
      ],
      "text/plain": [
       "<IPython.core.display.HTML object>"
      ]
     },
     "execution_count": 2,
     "metadata": {},
     "output_type": "execute_result"
    }
   ],
   "source": [
    "#Tomado de https://github.com/rramosp/mooc-grader\n",
    "from Autentication import *#python 3\n",
    "import inspect, urllib\n",
    "html, auth_code, userinfo = google_authenticate(PORT_NUMBER=8080)\n",
    "html"
   ]
  },
  {
   "cell_type": "markdown",
   "metadata": {},
   "source": [
    "#### Segundo integrante:\n",
    "\n",
    "David Alejandro Marín Alzate"
   ]
  },
  {
   "cell_type": "code",
   "execution_count": 3,
   "metadata": {},
   "outputs": [
    {
     "name": "stdout",
     "output_type": "stream",
     "text": [
      "Pixiedust database opened successfully\n"
     ]
    },
    {
     "data": {
      "text/html": [
       "\n",
       "        <div style=\"margin:10px\">\n",
       "            <a href=\"https://github.com/ibm-watson-data-lab/pixiedust\" target=\"_new\">\n",
       "                <img src=\"https://github.com/ibm-watson-data-lab/pixiedust/raw/master/docs/_static/pd_icon32.png\" style=\"float:left;margin-right:10px\"/>\n",
       "            </a>\n",
       "            <span>Pixiedust version 1.1.11</span>\n",
       "        </div>\n",
       "        "
      ],
      "text/plain": [
       "<IPython.core.display.HTML object>"
      ]
     },
     "metadata": {},
     "output_type": "display_data"
    }
   ],
   "source": [
    "%matplotlib inline\n",
    "import numpy as np\n",
    "import scipy as sc\n",
    "import matplotlib.pyplot as plt\n",
    "from __future__ import division\n",
    "import pixiedust\n",
    "\n",
    "#Algunas advertencias que queremos evitar\n",
    "import warnings\n",
    "warnings.filterwarnings(\"always\")"
   ]
  },
  {
   "cell_type": "markdown",
   "metadata": {},
   "source": [
    "## Ejercicio 1\n",
    "\n",
    "Para el problema de clasificación usaremos la base de datos iris, que cargaremos desde la librería sklearn. Responda las siguientes preguntas:"
   ]
  },
  {
   "cell_type": "code",
   "execution_count": 4,
   "metadata": {},
   "outputs": [
    {
     "name": "stderr",
     "output_type": "stream",
     "text": [
      "/home/sofia/simulacion/lib/python3.5/importlib/_bootstrap.py:222: RuntimeWarning: numpy.dtype size changed, may indicate binary incompatibility. Expected 96, got 88\n",
      "  return f(*args, **kwds)\n",
      "/home/sofia/simulacion/lib/python3.5/importlib/_bootstrap.py:222: RuntimeWarning: numpy.dtype size changed, may indicate binary incompatibility. Expected 96, got 88\n",
      "  return f(*args, **kwds)\n",
      "/home/sofia/simulacion/lib/python3.5/importlib/_bootstrap.py:222: RuntimeWarning: numpy.dtype size changed, may indicate binary incompatibility. Expected 96, got 88\n",
      "  return f(*args, **kwds)\n",
      "/home/sofia/simulacion/lib/python3.5/importlib/_bootstrap.py:222: RuntimeWarning: numpy.dtype size changed, may indicate binary incompatibility. Expected 96, got 88\n",
      "  return f(*args, **kwds)\n"
     ]
    }
   ],
   "source": [
    "#cargamos la bd iris desde el dataset de sklearn\n",
    "from sklearn import datasets\n",
    "\n",
    "iris = datasets.load_iris()\n",
    "\n",
    "#Esta es la base de datos Iris del UCI Machine Learning Repository \n",
    "#https://archive.ics.uci.edu/ml/datasets/iris\n",
    "\n",
    "X, Y = iris.data, iris.target\n"
   ]
  },
  {
   "cell_type": "code",
   "execution_count": 5,
   "metadata": {},
   "outputs": [
    {
     "name": "stdout",
     "output_type": "stream",
     "text": [
      "Muestras de entrada  (150, 4)\n",
      "Diferente clases que hay en la salida  [0 1 2]\n",
      "Muestras x clase  (array([0, 1, 2]), array([50, 50, 50]))\n"
     ]
    }
   ],
   "source": [
    "print(\"Muestras de entrada \", X.shape)\n",
    "print(\"Diferente clases que hay en la salida \",np.unique(Y))\n",
    "print(\"Muestras x clase \", np.unique(Y, return_counts=True))"
   ]
  },
  {
   "cell_type": "markdown",
   "metadata": {},
   "source": [
    "1.1 ¿Cu&aacute;ntas clases tiene el problema?: \n",
    "\n",
    "La base de datos cuenta con **3 clases**, en este caso correponde a [0,1,2]\n",
    "\n",
    "1.2 ¿Cu&aacute;ntas caracter&iacute;sticas tiene el problema?:\n",
    "\n",
    "La base de datos de Iris cuenta con **4 carácteristicas**.\n",
    "\n",
    "1.3 ¿Cu&aacute;ntas muestras tiene el problema?:\n",
    "\n",
    "El problema presenta con **150 muestras**.\n",
    "\n",
    "1.4 ¿Cu&aacute;ntas muestras por cada clase hay en la base de datos?:\n",
    "\n",
    "Por cada clase hay **50 muestras**, se observa que la distribuición es equitativa.\n",
    "\n",
    "<b>Nota</b>: Agregue una celda con el código usado para responder cada una de las preguntas anteriores."
   ]
  },
  {
   "cell_type": "markdown",
   "metadata": {},
   "source": [
    "## Ejercicio 2\n",
    "\n",
    "Analice los siguientes métodos a la luz de la teoría vista para los modelos de K vecinos más cercanos (KNN) y complete el código del método KNN.\n",
    "\n",
    "<b>Nota</b>: Para el cáculo de la distancia entre vectores tienen dos opciones, usar la función scipy.spatial.distance.euclidean o usar la función numpy.linalg.norm. <b>Revisen la documentación </b> para comprender su uso. También serán de utilidad las funciones numpy.sort y numpy.argsort."
   ]
  },
  {
   "cell_type": "code",
   "execution_count": 39,
   "metadata": {},
   "outputs": [],
   "source": [
    "from scipy.stats import mode\n",
    "\n",
    "import operator\n",
    "\n",
    "#Para calcular el error en los problemas de clasificación\n",
    "def ErrorClas(Y_lest, Y):\n",
    "    error = 1 - np.sum(Y_lest == Y)/len(Y)\n",
    "    \n",
    "    return error\n",
    "\n",
    "\n",
    "def KNN(X_train, Y_train, X_val, k, tipo):\n",
    "    \n",
    "    #X_train es la matriz con las muestras de entrenamiento\n",
    "    #Y_train es un vector con los valores de salida pra cada una de las muestras de entrenamiento\n",
    "    #X_val es la matriz con las muestras de validación\n",
    "    #tipo es una bandera que indica si el problema es de regresión o de clasificación.\n",
    "    tipo = tipo\n",
    "    k = k    #Parámetro k que equivale al número de vecinos a tener en cuenta para resolver el problema de\n",
    "    #predicción de la variable de salida\n",
    "    \n",
    "    N = np.shape(Y_train)[0]\n",
    "    Y_val = np.zeros(N).reshape(N,1)\n",
    "    Y_train = Y_train.reshape(N,1) #Asigna espacio correctamente de Y\n",
    "    \n",
    "    # obtenemos la matriz con todas las distancias de las 1500 muestras nuevas\n",
    "    # con respecto a todas las 3500 muestras de entrenamiento\n",
    "    D = distance(X_val, X_train)\n",
    "    D_argsort = np.argsort(D, axis = 1)\n",
    "    \n",
    "    #print(\"***********D_argsort\")\n",
    "    #print(D_argsort[0:10, : ])   \n",
    "    \n",
    "    Nt = len(X_val)\n",
    " \n",
    "    #Matriz con la salida i correspondiente a la posición indicada en D_argsort\n",
    "    Y_argsort = Yout(k, D_argsort, Y_train)\n",
    "\n",
    "    Y_val = np.zeros(Nt).T\n",
    "    \n",
    "\n",
    "    if(tipo == 0):\n",
    "        #regresion\n",
    "        for x in range (Nt):\n",
    "            average = np.average(Y_argsort[x])\n",
    "            Y_val[x] = average\n",
    "            \n",
    "    elif(tipo == 1):\n",
    "        #clasificacion\n",
    "        \n",
    "        for x in range (Nt):\n",
    "            mode = stats.mode(Y_argsort[x])           \n",
    "            Y_val[x] = mode[0].astype(float)\n",
    "            \n",
    "    Y_val.reshape(Nt,1)\n",
    "    # print(Y_val, Y_val.shape)\n",
    "    #¿por qué no muestra forma correcta del vector?\n",
    "    \n",
    "    return Y_val #Debe retornar un vector que contenga las predicciones para cada una de las muestras en X_val, en el mismo orden.  \n",
    "\n",
    "def distance(X_val, X_train):\n",
    "    \n",
    "    L = np.dot(X_val, X_train.T)\n",
    "    tem = np.sum(X_val * X_val, axis=1).reshape([X_val.shape[0],1])\n",
    "    tem2 = np.sum(X_train * X_train, axis=1).reshape([1,X_train.shape[0]])\n",
    "    \n",
    "    D = np.dot(tem, np.ones((1,X_train.shape[0]))) + np.dot(np.ones((X_val.shape[0],1)), tem2) - 2* L\n",
    "    D = np.sqrt(D)\n",
    "    \n",
    "    return D\n",
    "\n",
    "#Me retorna la salida Y_i proveniente de la matriz que contiene la posición de la distancia más cortas (vecinos más cercanos)\n",
    "# de las nuevas muestras\n",
    "def Yout (k, D_argsort, Y_train):\n",
    "    N = len(D_argsort)    \n",
    "    kn = D_argsort[ : , 0: k]\n",
    "    kn = kn.reshape(len(D_argsort),k)\n",
    "    Y_val = np.zeros((N,k))\n",
    "\n",
    "  #  Y_val =np.array( [[Y_train[kn[y,x]] for x in range(k)] for y in range(N)])\n",
    "    for x in range (N):\n",
    "        for y in range (k):\n",
    "               Y_val[x][y] = Y_train[kn[x,y]]\n",
    "    \n",
    "    return Y_val"
   ]
  },
  {
   "cell_type": "markdown",
   "metadata": {},
   "source": [
    "## Ejercicio 3\n",
    "\n",
    "Una vez haya completado el codigo del método de KNN, ejecute varias veces el proceso de entrenamiento y evaluacion cambiando el parametro $k$, el cual es el numero de vecinos, y complete la siguiente tabla con los valores del error de clasificación obtenidos:"
   ]
  },
  {
   "cell_type": "code",
   "execution_count": 174,
   "metadata": {
    "pixiedust": {
     "displayParams": {}
    }
   },
   "outputs": [
    {
     "name": "stdout",
     "output_type": "stream",
     "text": [
      "\n",
      "************************* Número vecinos:  2\n",
      "Error durante la prueba = 0.26973684210526316+-0.08802031684381349\n"
     ]
    }
   ],
   "source": [
    "from numpy import random\n",
    "from sklearn.model_selection import train_test_split\n",
    "import math\n",
    "\n",
    "def mainKNN(k_vecinos, tipoKNN = 1):\n",
    "    N = np.size(X,0)\n",
    "    #Validamos el modelo\n",
    "    random.seed(1)\n",
    "    Error = np.zeros(4)\n",
    "    for j in range(4):\n",
    "\n",
    "        Xtrain, Xtest, Ytrain, Ytest = train_test_split(X, Y, test_size=0.25)\n",
    "\n",
    "        #Normalizamos los datos\n",
    "        media = np.mean(Xtrain)\n",
    "        desvia = np.std(Xtrain)\n",
    "        Xtrain = sc.stats.stats.zscore(Xtrain)\n",
    "        Xtest = (Xtest - np.matlib.repmat(media, Xtest.shape[0], 1))/np.matlib.repmat(desvia, Xtest.shape[0], 1)\n",
    "\n",
    "        Yest = KNN(Xtrain, Ytrain, Xtest, k_vecinos, tipoKNN)#Complete con el llamado apropiado de la función que Uds diseñaron\n",
    "\n",
    "        #Evaluamos las predicciones del modelo con los datos de test\n",
    "        Error[j] = ErrorClas(Yest,Ytest)\n",
    "    print(\"\\n************************* Número vecinos: \", k_vecinos)\n",
    "    print('Error durante la prueba = ' + str(np.mean(Error)) + '+-' + str(np.std(Error)))\n",
    "\n",
    "main(2)"
   ]
  },
  {
   "cell_type": "code",
   "execution_count": 175,
   "metadata": {},
   "outputs": [
    {
     "name": "stdout",
     "output_type": "stream",
     "text": [
      "Muestras entrenamiento:  (114, 4)\n",
      "Muestras validación 36\n"
     ]
    }
   ],
   "source": [
    "print(\"Muestras entrenamiento: \",Xtrain.shape)\n",
    "print(\"Muestras validación\",len(Xtest))"
   ]
  },
  {
   "cell_type": "markdown",
   "metadata": {},
   "source": [
    "Responda:\n",
    "\n",
    "3.1 ¿Qué metodología de validación se usa en el experimento?\n",
    "\n",
    "La metodología de validación implementada es **validación cruzada**, es este caso $k = 4$  folds.\n",
    "\n",
    "3.2 ¿Cuántas muestras se usan para el entrenamiento?\n",
    "\n",
    "Hay **112 muestras** para entrenar\n",
    "\n",
    "3.3 ¿Cuántas muestras se usan para la validación?\n",
    "\n",
    "En general son **36 muestras** nuevas."
   ]
  },
  {
   "cell_type": "code",
   "execution_count": 176,
   "metadata": {},
   "outputs": [
    {
     "name": "stdout",
     "output_type": "stream",
     "text": [
      "\n",
      "************************* Número vecinos:  1\n",
      "Error durante la prueba = 0.20394736842105263+-0.11376063464335907\n",
      "\n",
      "************************* Número vecinos:  2\n",
      "Error durante la prueba = 0.26973684210526316+-0.08802031684381349\n",
      "\n",
      "************************* Número vecinos:  3\n",
      "Error durante la prueba = 0.26973684210526316+-0.08603090020146066\n",
      "\n",
      "************************* Número vecinos:  4\n",
      "Error durante la prueba = 0.2763157894736842+-0.0842516347030638\n",
      "\n",
      "************************* Número vecinos:  5\n",
      "Error durante la prueba = 0.26315789473684215+-0.09304036594559835\n",
      "\n",
      "************************* Número vecinos:  6\n",
      "Error durante la prueba = 0.2763157894736842+-0.0842516347030638\n",
      "\n",
      "************************* Número vecinos:  7\n",
      "Error durante la prueba = 0.26973684210526316+-0.08802031684381349\n"
     ]
    }
   ],
   "source": [
    "k_vecinos = [mainKNN(x) for x in range(1,8) ]"
   ]
  },
  {
   "cell_type": "markdown",
   "metadata": {},
   "source": [
    "#### Tabla de resultados"
   ]
  },
  {
   "cell_type": "code",
   "execution_count": 72,
   "metadata": {},
   "outputs": [
    {
     "name": "stderr",
     "output_type": "stream",
     "text": [
      "/home/sofia/simulacion/lib/python3.5/site-packages/ipywidgets/widgets/widget.py:281: DeprecationWarning: Widget registration using a string name has been deprecated. Widget registration now uses a plain `@register` decorator.\n",
      "  warnings.warn(\"Widget registration using a string name has been deprecated. Widget registration now uses a plain `@register` decorator.\", DeprecationWarning)\n",
      "/home/sofia/simulacion/lib/python3.5/site-packages/qgrid/grid.py:573: DeprecationWarning: metadata {'sync': True} was set from the constructor. With traitlets 4.1, metadata should be set using the .tag() method, e.g., Int().tag(key1='value1', key2='value2')\n",
      "  _df_json = Unicode('', sync=True)\n",
      "/home/sofia/simulacion/lib/python3.5/site-packages/qgrid/grid.py:833: DeprecationWarning: QgridWidget._precision_changed is deprecated in traitlets 4.1: use @observe and @unobserve instead.\n",
      "  def _precision_changed(self):\n"
     ]
    },
    {
     "data": {
      "application/vnd.jupyter.widget-view+json": {
       "model_id": "c02682bbb1104053a46977d14f274699",
       "version_major": 2,
       "version_minor": 0
      },
      "text/plain": [
       "QgridWidget(grid_options={'highlightSelectedCell': False, 'enableColumnReorder': False, 'autoEdit': False, 'ed…"
      ]
     },
     "metadata": {},
     "output_type": "display_data"
    }
   ],
   "source": [
    "import pandas as pd\n",
    "import qgrid\n",
    "randn = np.random.randn\n",
    "df_types = pd.DataFrame({\n",
    "    'Numero de vecinos' : pd.Series(['1', '2', '3', '4', '5', '6', '7'])})\n",
    "df_types[\"Error_Prueba\"] = \"\"\n",
    "df_types[\"Desviación estándar del error\"] = \"\"\n",
    "df_types.set_index(['Numero de vecinos'], inplace=True)\n",
    "df_types[\"Error_Prueba\"][1] = \"0.2697\"\n",
    "df_types[\"Desviación estándar del error\"][1] = \"0.088\"\n",
    "#df_types.sort_index(inplace=True)\n",
    "qgrid_widget = qgrid.show_grid(df_types, show_toolbar=False)\n",
    "qgrid_widget"
   ]
  },
  {
   "cell_type": "markdown",
   "metadata": {},
   "source": [
    "Ejecute la siguiente instrucción para dejar guardados en el notebook los resultados de las pruebas."
   ]
  },
  {
   "cell_type": "code",
   "execution_count": 73,
   "metadata": {},
   "outputs": [
    {
     "data": {
      "text/html": [
       "<div>\n",
       "<style scoped>\n",
       "    .dataframe tbody tr th:only-of-type {\n",
       "        vertical-align: middle;\n",
       "    }\n",
       "\n",
       "    .dataframe tbody tr th {\n",
       "        vertical-align: top;\n",
       "    }\n",
       "\n",
       "    .dataframe thead th {\n",
       "        text-align: right;\n",
       "    }\n",
       "</style>\n",
       "<table border=\"1\" class=\"dataframe\">\n",
       "  <thead>\n",
       "    <tr style=\"text-align: right;\">\n",
       "      <th></th>\n",
       "      <th>Error_Prueba</th>\n",
       "      <th>Desviación estándar del error</th>\n",
       "    </tr>\n",
       "    <tr>\n",
       "      <th>Numero de vecinos</th>\n",
       "      <th></th>\n",
       "      <th></th>\n",
       "    </tr>\n",
       "  </thead>\n",
       "  <tbody>\n",
       "    <tr>\n",
       "      <th>1</th>\n",
       "      <td>0.2039</td>\n",
       "      <td>0.1137</td>\n",
       "    </tr>\n",
       "    <tr>\n",
       "      <th>2</th>\n",
       "      <td>0.2697</td>\n",
       "      <td>0.088</td>\n",
       "    </tr>\n",
       "    <tr>\n",
       "      <th>3</th>\n",
       "      <td>0.2697</td>\n",
       "      <td>0.086</td>\n",
       "    </tr>\n",
       "    <tr>\n",
       "      <th>4</th>\n",
       "      <td>0.2763</td>\n",
       "      <td>0.0842</td>\n",
       "    </tr>\n",
       "    <tr>\n",
       "      <th>5</th>\n",
       "      <td>0.2631</td>\n",
       "      <td>0.093</td>\n",
       "    </tr>\n",
       "    <tr>\n",
       "      <th>6</th>\n",
       "      <td>0.2763</td>\n",
       "      <td>0.0842</td>\n",
       "    </tr>\n",
       "    <tr>\n",
       "      <th>7</th>\n",
       "      <td>0.2697</td>\n",
       "      <td></td>\n",
       "    </tr>\n",
       "  </tbody>\n",
       "</table>\n",
       "</div>"
      ],
      "text/plain": [
       "                  Error_Prueba Desviación estándar del error\n",
       "Numero de vecinos                                           \n",
       "1                       0.2039                        0.1137\n",
       "2                       0.2697                         0.088\n",
       "3                       0.2697                         0.086\n",
       "4                       0.2763                        0.0842\n",
       "5                       0.2631                         0.093\n",
       "6                       0.2763                        0.0842\n",
       "7                       0.2697                              "
      ]
     },
     "execution_count": 73,
     "metadata": {},
     "output_type": "execute_result"
    }
   ],
   "source": [
    "qgrid_widget.get_changed_df()"
   ]
  },
  {
   "cell_type": "markdown",
   "metadata": {},
   "source": [
    "## Ejercicio 4\n",
    "\n",
    "A continuación debe completar el código del método parzen para resolver problemas de clasificación con el modelo ventana de Parzen."
   ]
  },
  {
   "cell_type": "code",
   "execution_count": 169,
   "metadata": {},
   "outputs": [],
   "source": [
    "#Calcula el kernel gaussiano de x\n",
    "def kernel_gaussiano(x):\n",
    "    return np.exp((-0.5)*x**2)\n",
    "\n",
    "def ParzenWindow(x,Data,h):\n",
    "    h = h\n",
    "    Ns = Data.shape[0]\n",
    "    suma = 0\n",
    "    for k in range(Ns):\n",
    "        u = sc.spatial.distance.euclidean(x,Data[k,:])\n",
    "        suma += kernel_gaussiano(u/h)\n",
    "    return suma\n",
    "\n",
    "def ParzenClass(X_train, Y_train, X_val, ancho_h):\n",
    "    #Tamaño muestras nuevas\n",
    "    Nx = X_val.shape[0]\n",
    "    Yest = np.zeros(Nx)\n",
    "    h = ancho_h\n",
    "    \n",
    "    #Separ las clases\n",
    "    clase1 = X_train[Y_train==0]\n",
    "    clase2 = X_train[Y_train == 1]\n",
    "    clase3 = X_train[Y_train == 2]\n",
    "    \n",
    "    p1= np.zeros(Nx)\n",
    "    p2= np.zeros(Nx)   \n",
    "    p3= np.zeros(Nx)\n",
    "    \n",
    "    for i in range(Nx):        \n",
    "        p1[i] = ParzenWindow(X_val[i],clase1, h)\n",
    "        p2[i] = ParzenWindow(X_val[i],clase2, h)\n",
    "        p3[i] = ParzenWindow(X_val[i],clase3, h)        \n",
    "        p = np.array([p1[i], p2[i], p3[i]])\n",
    "        clase_max = np.argmax(p)\n",
    "        Yest[i] = clase_max \n",
    "    \n",
    "    return Yest#Debe retornar un vector que contenga las predicciones para cada una de las muestras en X_val, en el mismo orden.  "
   ]
  },
  {
   "cell_type": "markdown",
   "metadata": {},
   "source": [
    "## Ejercicio 5\n",
    "\n",
    "Ahora debe resolver el mismo problema de clasificación con el método ventana de Parzen. Complete el código ejecute las pruebas para diferentes valores de $h$ y llene la siguiente tabla:"
   ]
  },
  {
   "cell_type": "code",
   "execution_count": 190,
   "metadata": {},
   "outputs": [],
   "source": [
    "from numpy import random\n",
    "from sklearn.model_selection import StratifiedKFold\n",
    "import math\n",
    "\n",
    "def mainPW(h=0.9):\n",
    "    #Validamos el modelo\n",
    "    random.seed(1)\n",
    "    Error = np.zeros(4)\n",
    "    skf = StratifiedKFold(n_splits=4)\n",
    "    j = 0\n",
    "    for train, test in skf.split(X, Y):\n",
    "        Xtrain = X[train,:]\n",
    "        Ytrain = Y[train]\n",
    "        Xtest = X[test,:]\n",
    "        Ytest = Y[test]\n",
    "        #Normalizamos los datos\n",
    "        media = np.mean(Xtrain)\n",
    "        desvia = np.std(Xtrain)\n",
    "        Xtrain = sc.stats.stats.zscore(Xtrain)\n",
    "        Xtest = (Xtest - np.matlib.repmat(media, Xtest.shape[0], 1))/np.matlib.repmat(desvia, Xtest.shape[0], 1)\n",
    "\n",
    "        Yest = ParzenClass(Xtrain, Ytrain, Xtest,h)#Complete con el llamado apropiado de la función que Uds diseñaron\n",
    "     \n",
    "        #Evaluamos las predicciones del modelo con los datos de test\n",
    "        Error[j] = ErrorClas(Yest,Ytest)\n",
    "        j += 1\n",
    "    print(\"\\n**************************** Ancho ventana \", h)\n",
    "    print('Error durante la prueba = ' + str(np.mean(Error)) + '+-' + str(np.std(Error)))"
   ]
  },
  {
   "cell_type": "code",
   "execution_count": 191,
   "metadata": {},
   "outputs": [
    {
     "name": "stdout",
     "output_type": "stream",
     "text": [
      "Muestras entrenamiento  (114, 4)\n",
      "Muestras para validación  (36, 4)\n"
     ]
    }
   ],
   "source": [
    "print(\"Muestras entrenamiento \",Xtrain.shape)\n",
    "print(\"Muestras para validación \",Xtest.shape)"
   ]
  },
  {
   "cell_type": "markdown",
   "metadata": {},
   "source": [
    "Responda:\n",
    "    \n",
    "5.1 ¿Qué metodología de validación se usó en la simulación?:\n",
    "\n",
    "**Validación cruzada estratificada** con $k = 4$ splits, valida que las particiones aleatorias contenga proporcialmente valores de cada categoría\n",
    "\n",
    "\n",
    "5.2 ¿Cuántas muestras se usan para el entrenamiento?:\n",
    "\n",
    "Se destinan *114 muestras* para entrenamiento\n",
    "\n",
    "\n",
    "5.3 ¿Cuántas muestras se usan para la validación?:\n",
    "\n",
    "Se cuenta con *36 muestras* para validación"
   ]
  },
  {
   "cell_type": "code",
   "execution_count": 192,
   "metadata": {},
   "outputs": [
    {
     "name": "stdout",
     "output_type": "stream",
     "text": [
      "\n",
      "**************************** Ancho ventana  0.05\n",
      "Error durante la prueba = 0.2216880341880342+-0.04332854434165311\n",
      "\n",
      "**************************** Ancho ventana  0.1\n",
      "Error durante la prueba = 0.2216880341880342+-0.04332854434165311\n",
      "\n",
      "**************************** Ancho ventana  0.5\n",
      "Error durante la prueba = 0.281517094017094+-0.04021339704891218\n",
      "\n",
      "**************************** Ancho ventana  1\n",
      "Error durante la prueba = 0.280982905982906+-0.03145818774430656\n",
      "\n",
      "**************************** Ancho ventana  2\n",
      "Error durante la prueba = 0.24198717948717952+-0.058466142137675314\n",
      "\n",
      "**************************** Ancho ventana  5\n",
      "Error durante la prueba = 0.2216880341880342+-0.04696907336459245\n",
      "\n",
      "**************************** Ancho ventana  10\n",
      "Error durante la prueba = 0.2216880341880342+-0.04696907336459245\n"
     ]
    }
   ],
   "source": [
    "ancho_h = [0.05, 0.1, 0.5, 1, 2, 5, 10 ]\n",
    "pw = [mainPW(x) for x in ancho_h]"
   ]
  },
  {
   "cell_type": "markdown",
   "metadata": {},
   "source": [
    "#### Tabla de resultados"
   ]
  },
  {
   "cell_type": "code",
   "execution_count": 181,
   "metadata": {},
   "outputs": [
    {
     "data": {
      "application/vnd.jupyter.widget-view+json": {
       "model_id": "b18817203c874da5ba074554ccae573f",
       "version_major": 2,
       "version_minor": 0
      },
      "text/plain": [
       "QgridWidget(grid_options={'highlightSelectedCell': False, 'enableColumnReorder': False, 'autoEdit': False, 'ed…"
      ]
     },
     "metadata": {},
     "output_type": "display_data"
    }
   ],
   "source": [
    "import pandas as pd\n",
    "import qgrid\n",
    "randn = np.random.randn\n",
    "df_types2 = pd.DataFrame({\n",
    "    'Tamano de ventana' : pd.Series(['0.05', '0.1', '0.5', '1', '2', '5', '10'])})\n",
    "df_types2[\"Error_Prueba\"] = \"\"\n",
    "df_types2[\"Desviación estándar del error\"] = \"\"\n",
    "df_types2.set_index(['Tamano de ventana'], inplace=True)\n",
    "df_types2[\"Error_Prueba\"][1] = \"0.222\"\n",
    "df_types2[\"Desviación estándar del error\"][1] = \"0.043\"\n",
    "#df_types.sort_index(inplace=True)\n",
    "qgrid_widget = qgrid.show_grid(df_types2, show_toolbar=False)\n",
    "qgrid_widget"
   ]
  },
  {
   "cell_type": "markdown",
   "metadata": {},
   "source": [
    "Ejecute la siguiente instrucción para dejar guardados en el notebook los resultados de las pruebas."
   ]
  },
  {
   "cell_type": "code",
   "execution_count": 182,
   "metadata": {},
   "outputs": [
    {
     "data": {
      "text/html": [
       "<div>\n",
       "<style scoped>\n",
       "    .dataframe tbody tr th:only-of-type {\n",
       "        vertical-align: middle;\n",
       "    }\n",
       "\n",
       "    .dataframe tbody tr th {\n",
       "        vertical-align: top;\n",
       "    }\n",
       "\n",
       "    .dataframe thead th {\n",
       "        text-align: right;\n",
       "    }\n",
       "</style>\n",
       "<table border=\"1\" class=\"dataframe\">\n",
       "  <thead>\n",
       "    <tr style=\"text-align: right;\">\n",
       "      <th></th>\n",
       "      <th>Error_Prueba</th>\n",
       "      <th>Desviación estándar del error</th>\n",
       "    </tr>\n",
       "    <tr>\n",
       "      <th>Tamano de ventana</th>\n",
       "      <th></th>\n",
       "      <th></th>\n",
       "    </tr>\n",
       "  </thead>\n",
       "  <tbody>\n",
       "    <tr>\n",
       "      <th>0.05</th>\n",
       "      <td>0.2216</td>\n",
       "      <td>0.043</td>\n",
       "    </tr>\n",
       "    <tr>\n",
       "      <th>0.1</th>\n",
       "      <td>0.222</td>\n",
       "      <td>0.043</td>\n",
       "    </tr>\n",
       "    <tr>\n",
       "      <th>0.5</th>\n",
       "      <td>0.2815</td>\n",
       "      <td>0.0402</td>\n",
       "    </tr>\n",
       "    <tr>\n",
       "      <th>1</th>\n",
       "      <td>0.242</td>\n",
       "      <td>0.0314</td>\n",
       "    </tr>\n",
       "    <tr>\n",
       "      <th>2</th>\n",
       "      <td>0.242</td>\n",
       "      <td>0.0584</td>\n",
       "    </tr>\n",
       "    <tr>\n",
       "      <th>5</th>\n",
       "      <td>0.2216</td>\n",
       "      <td>0.0469</td>\n",
       "    </tr>\n",
       "    <tr>\n",
       "      <th>10</th>\n",
       "      <td>0.2216</td>\n",
       "      <td>0.0469</td>\n",
       "    </tr>\n",
       "  </tbody>\n",
       "</table>\n",
       "</div>"
      ],
      "text/plain": [
       "                  Error_Prueba Desviación estándar del error\n",
       "Tamano de ventana                                           \n",
       "0.05                    0.2216                         0.043\n",
       "0.1                      0.222                         0.043\n",
       "0.5                     0.2815                        0.0402\n",
       "1                        0.242                        0.0314\n",
       "2                        0.242                        0.0584\n",
       "5                       0.2216                        0.0469\n",
       "10                      0.2216                        0.0469"
      ]
     },
     "execution_count": 182,
     "metadata": {},
     "output_type": "execute_result"
    }
   ],
   "source": [
    "qgrid_widget.get_changed_df()"
   ]
  },
  {
   "cell_type": "markdown",
   "metadata": {},
   "source": [
    "¿Por qué cuando el ancho de ventana es 5 y 10 da el mismo error de prueba y desviación estándar?\n"
   ]
  }
 ],
 "metadata": {
  "kernelspec": {
   "display_name": "Python 3",
   "language": "python",
   "name": "python3"
  },
  "language_info": {
   "codemirror_mode": {
    "name": "ipython",
    "version": 3
   },
   "file_extension": ".py",
   "mimetype": "text/x-python",
   "name": "python",
   "nbconvert_exporter": "python",
   "pygments_lexer": "ipython3",
   "version": "3.5.2"
  }
 },
 "nbformat": 4,
 "nbformat_minor": 2
}
